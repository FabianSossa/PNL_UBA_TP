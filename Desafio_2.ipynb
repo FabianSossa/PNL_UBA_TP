{
  "nbformat": 4,
  "nbformat_minor": 0,
  "metadata": {
    "colab": {
      "provenance": [],
      "authorship_tag": "ABX9TyMECZru89kQgADfdo4r1Jcr",
      "include_colab_link": true
    },
    "kernelspec": {
      "name": "python3",
      "display_name": "Python 3"
    },
    "language_info": {
      "name": "python"
    }
  },
  "cells": [
    {
      "cell_type": "markdown",
      "metadata": {
        "id": "view-in-github",
        "colab_type": "text"
      },
      "source": [
        "<a href=\"https://colab.research.google.com/github/FabianSossa/PNL_UBA_TP/blob/main/Desafio_2.ipynb\" target=\"_parent\"><img src=\"https://colab.research.google.com/assets/colab-badge.svg\" alt=\"Open In Colab\"/></a>"
      ]
    },
    {
      "cell_type": "markdown",
      "source": [
        "<img src=\"https://github.com/hernancontigiani/ceia_memorias_especializacion/raw/master/Figures/logoFIUBA.jpg\" width=\"500\" align=\"center\">\n",
        "\n",
        "\n",
        "# Procesamiento de lenguaje natural\n",
        "## Desafio 2\n",
        "\n",
        "### Consigna\n",
        "\n",
        "Crear sus propios vectores con Gensim basado en lo visto en clase con otro dataset.\n",
        "\n",
        "Probar términos de interés y explicar similitudes en el espacio de embeddings.Intentar plantear y probar tests deanalogías.\n",
        "\n",
        "Graficar los embeddingsresultantes.Sacar conclusiones.\n",
        "\n",
        "### Objetivo\n",
        "El objetivo es utilizar documentos / corpus para crear embeddings de palabras basado en ese contexto. Se utilizará de la fuente Project Gutenberg (https://www.gutenberg.org/) El Toro : A motor car story of interior Cuba by E. Ralph Estep.\n"
      ],
      "metadata": {
        "id": "ndjYQoHTzBeK"
      }
    },
    {
      "cell_type": "code",
      "source": [
        "!pip install gensim"
      ],
      "metadata": {
        "colab": {
          "base_uri": "https://localhost:8080/",
          "height": 660
        },
        "collapsed": true,
        "id": "jJNXnTBSzqlW",
        "outputId": "79fa10ed-20f5-4970-a3fd-daa7cc378e54"
      },
      "execution_count": null,
      "outputs": [
        {
          "output_type": "stream",
          "name": "stdout",
          "text": [
            "Collecting gensim\n",
            "  Downloading gensim-4.3.3-cp311-cp311-manylinux_2_17_x86_64.manylinux2014_x86_64.whl.metadata (8.1 kB)\n",
            "Collecting numpy<2.0,>=1.18.5 (from gensim)\n",
            "  Downloading numpy-1.26.4-cp311-cp311-manylinux_2_17_x86_64.manylinux2014_x86_64.whl.metadata (61 kB)\n",
            "\u001b[2K     \u001b[90m━━━━━━━━━━━━━━━━━━━━━━━━━━━━━━━━━━━━━━━\u001b[0m \u001b[32m61.0/61.0 kB\u001b[0m \u001b[31m680.8 kB/s\u001b[0m eta \u001b[36m0:00:00\u001b[0m\n",
            "\u001b[?25hCollecting scipy<1.14.0,>=1.7.0 (from gensim)\n",
            "  Downloading scipy-1.13.1-cp311-cp311-manylinux_2_17_x86_64.manylinux2014_x86_64.whl.metadata (60 kB)\n",
            "\u001b[2K     \u001b[90m━━━━━━━━━━━━━━━━━━━━━━━━━━━━━━━━━━━━━━━━\u001b[0m \u001b[32m60.6/60.6 kB\u001b[0m \u001b[31m1.1 MB/s\u001b[0m eta \u001b[36m0:00:00\u001b[0m\n",
            "\u001b[?25hRequirement already satisfied: smart-open>=1.8.1 in /usr/local/lib/python3.11/dist-packages (from gensim) (7.1.0)\n",
            "Requirement already satisfied: wrapt in /usr/local/lib/python3.11/dist-packages (from smart-open>=1.8.1->gensim) (1.17.2)\n",
            "Downloading gensim-4.3.3-cp311-cp311-manylinux_2_17_x86_64.manylinux2014_x86_64.whl (26.7 MB)\n",
            "\u001b[2K   \u001b[90m━━━━━━━━━━━━━━━━━━━━━━━━━━━━━━━━━━━━━━━━\u001b[0m \u001b[32m26.7/26.7 MB\u001b[0m \u001b[31m21.7 MB/s\u001b[0m eta \u001b[36m0:00:00\u001b[0m\n",
            "\u001b[?25hDownloading numpy-1.26.4-cp311-cp311-manylinux_2_17_x86_64.manylinux2014_x86_64.whl (18.3 MB)\n",
            "\u001b[2K   \u001b[90m━━━━━━━━━━━━━━━━━━━━━━━━━━━━━━━━━━━━━━━━\u001b[0m \u001b[32m18.3/18.3 MB\u001b[0m \u001b[31m45.0 MB/s\u001b[0m eta \u001b[36m0:00:00\u001b[0m\n",
            "\u001b[?25hDownloading scipy-1.13.1-cp311-cp311-manylinux_2_17_x86_64.manylinux2014_x86_64.whl (38.6 MB)\n",
            "\u001b[2K   \u001b[90m━━━━━━━━━━━━━━━━━━━━━━━━━━━━━━━━━━━━━━━━\u001b[0m \u001b[32m38.6/38.6 MB\u001b[0m \u001b[31m18.0 MB/s\u001b[0m eta \u001b[36m0:00:00\u001b[0m\n",
            "\u001b[?25hInstalling collected packages: numpy, scipy, gensim\n",
            "  Attempting uninstall: numpy\n",
            "    Found existing installation: numpy 2.0.2\n",
            "    Uninstalling numpy-2.0.2:\n",
            "      Successfully uninstalled numpy-2.0.2\n",
            "  Attempting uninstall: scipy\n",
            "    Found existing installation: scipy 1.15.3\n",
            "    Uninstalling scipy-1.15.3:\n",
            "      Successfully uninstalled scipy-1.15.3\n",
            "\u001b[31mERROR: pip's dependency resolver does not currently take into account all the packages that are installed. This behaviour is the source of the following dependency conflicts.\n",
            "tsfresh 0.21.0 requires scipy>=1.14.0; python_version >= \"3.10\", but you have scipy 1.13.1 which is incompatible.\n",
            "thinc 8.3.6 requires numpy<3.0.0,>=2.0.0, but you have numpy 1.26.4 which is incompatible.\u001b[0m\u001b[31m\n",
            "\u001b[0mSuccessfully installed gensim-4.3.3 numpy-1.26.4 scipy-1.13.1\n"
          ]
        },
        {
          "output_type": "display_data",
          "data": {
            "application/vnd.colab-display-data+json": {
              "pip_warning": {
                "packages": [
                  "numpy"
                ]
              },
              "id": "f1a862ca4aac49f7b99d02a7ebc3453e"
            }
          },
          "metadata": {}
        }
      ]
    },
    {
      "cell_type": "code",
      "execution_count": null,
      "metadata": {
        "id": "T8thlKitxvma"
      },
      "outputs": [],
      "source": [
        "import pandas as pd\n",
        "import matplotlib.pyplot as plt\n",
        "import seaborn as sns\n",
        "\n",
        "import multiprocessing\n",
        "from gensim.models import Word2Vec"
      ]
    },
    {
      "cell_type": "markdown",
      "source": [
        "### Datos\n",
        "Utilizaremos como dataset un archivo en texto plano La Biblia en España, Tomo I (de 3) by George Borrow"
      ],
      "metadata": {
        "id": "BTW2hsy10BOH"
      }
    },
    {
      "cell_type": "code",
      "source": [
        "# Armar el dataset utilizando salto de línea para separar las oraciones/docs\n",
        "df = pd.read_csv('https://www.gutenberg.org/cache/epub/51019/pg51019.txt', sep='/n', header=None)\n",
        "df.head()"
      ],
      "metadata": {
        "colab": {
          "base_uri": "https://localhost:8080/",
          "height": 262
        },
        "id": "GgbVF2Xe0gdL",
        "outputId": "2bc669cd-b08d-4640-e6d8-818d8a5f66e6"
      },
      "execution_count": null,
      "outputs": [
        {
          "output_type": "stream",
          "name": "stderr",
          "text": [
            "/tmp/ipython-input-2-1113889590.py:2: ParserWarning: Falling back to the 'python' engine because the 'c' engine does not support regex separators (separators > 1 char and different from '\\s+' are interpreted as regex); you can avoid this warning by specifying engine='python'.\n",
            "  df = pd.read_csv('https://www.gutenberg.org/cache/epub/51019/pg51019.txt', sep='/n', header=None)\n"
          ]
        },
        {
          "output_type": "execute_result",
          "data": {
            "text/plain": [
              "                                                   0\n",
              "0  The Project Gutenberg eBook of La Biblia en Es...\n",
              "1  This ebook is for the use of anyone anywhere i...\n",
              "2  most other parts of the world at no cost and w...\n",
              "3  whatsoever. You may copy it, give it away or r...\n",
              "4  of the Project Gutenberg License included with..."
            ],
            "text/html": [
              "\n",
              "  <div id=\"df-b8f867af-16ed-4259-87d2-852fc20f001f\" class=\"colab-df-container\">\n",
              "    <div>\n",
              "<style scoped>\n",
              "    .dataframe tbody tr th:only-of-type {\n",
              "        vertical-align: middle;\n",
              "    }\n",
              "\n",
              "    .dataframe tbody tr th {\n",
              "        vertical-align: top;\n",
              "    }\n",
              "\n",
              "    .dataframe thead th {\n",
              "        text-align: right;\n",
              "    }\n",
              "</style>\n",
              "<table border=\"1\" class=\"dataframe\">\n",
              "  <thead>\n",
              "    <tr style=\"text-align: right;\">\n",
              "      <th></th>\n",
              "      <th>0</th>\n",
              "    </tr>\n",
              "  </thead>\n",
              "  <tbody>\n",
              "    <tr>\n",
              "      <th>0</th>\n",
              "      <td>The Project Gutenberg eBook of La Biblia en Es...</td>\n",
              "    </tr>\n",
              "    <tr>\n",
              "      <th>1</th>\n",
              "      <td>This ebook is for the use of anyone anywhere i...</td>\n",
              "    </tr>\n",
              "    <tr>\n",
              "      <th>2</th>\n",
              "      <td>most other parts of the world at no cost and w...</td>\n",
              "    </tr>\n",
              "    <tr>\n",
              "      <th>3</th>\n",
              "      <td>whatsoever. You may copy it, give it away or r...</td>\n",
              "    </tr>\n",
              "    <tr>\n",
              "      <th>4</th>\n",
              "      <td>of the Project Gutenberg License included with...</td>\n",
              "    </tr>\n",
              "  </tbody>\n",
              "</table>\n",
              "</div>\n",
              "    <div class=\"colab-df-buttons\">\n",
              "\n",
              "  <div class=\"colab-df-container\">\n",
              "    <button class=\"colab-df-convert\" onclick=\"convertToInteractive('df-b8f867af-16ed-4259-87d2-852fc20f001f')\"\n",
              "            title=\"Convert this dataframe to an interactive table.\"\n",
              "            style=\"display:none;\">\n",
              "\n",
              "  <svg xmlns=\"http://www.w3.org/2000/svg\" height=\"24px\" viewBox=\"0 -960 960 960\">\n",
              "    <path d=\"M120-120v-720h720v720H120Zm60-500h600v-160H180v160Zm220 220h160v-160H400v160Zm0 220h160v-160H400v160ZM180-400h160v-160H180v160Zm440 0h160v-160H620v160ZM180-180h160v-160H180v160Zm440 0h160v-160H620v160Z\"/>\n",
              "  </svg>\n",
              "    </button>\n",
              "\n",
              "  <style>\n",
              "    .colab-df-container {\n",
              "      display:flex;\n",
              "      gap: 12px;\n",
              "    }\n",
              "\n",
              "    .colab-df-convert {\n",
              "      background-color: #E8F0FE;\n",
              "      border: none;\n",
              "      border-radius: 50%;\n",
              "      cursor: pointer;\n",
              "      display: none;\n",
              "      fill: #1967D2;\n",
              "      height: 32px;\n",
              "      padding: 0 0 0 0;\n",
              "      width: 32px;\n",
              "    }\n",
              "\n",
              "    .colab-df-convert:hover {\n",
              "      background-color: #E2EBFA;\n",
              "      box-shadow: 0px 1px 2px rgba(60, 64, 67, 0.3), 0px 1px 3px 1px rgba(60, 64, 67, 0.15);\n",
              "      fill: #174EA6;\n",
              "    }\n",
              "\n",
              "    .colab-df-buttons div {\n",
              "      margin-bottom: 4px;\n",
              "    }\n",
              "\n",
              "    [theme=dark] .colab-df-convert {\n",
              "      background-color: #3B4455;\n",
              "      fill: #D2E3FC;\n",
              "    }\n",
              "\n",
              "    [theme=dark] .colab-df-convert:hover {\n",
              "      background-color: #434B5C;\n",
              "      box-shadow: 0px 1px 3px 1px rgba(0, 0, 0, 0.15);\n",
              "      filter: drop-shadow(0px 1px 2px rgba(0, 0, 0, 0.3));\n",
              "      fill: #FFFFFF;\n",
              "    }\n",
              "  </style>\n",
              "\n",
              "    <script>\n",
              "      const buttonEl =\n",
              "        document.querySelector('#df-b8f867af-16ed-4259-87d2-852fc20f001f button.colab-df-convert');\n",
              "      buttonEl.style.display =\n",
              "        google.colab.kernel.accessAllowed ? 'block' : 'none';\n",
              "\n",
              "      async function convertToInteractive(key) {\n",
              "        const element = document.querySelector('#df-b8f867af-16ed-4259-87d2-852fc20f001f');\n",
              "        const dataTable =\n",
              "          await google.colab.kernel.invokeFunction('convertToInteractive',\n",
              "                                                    [key], {});\n",
              "        if (!dataTable) return;\n",
              "\n",
              "        const docLinkHtml = 'Like what you see? Visit the ' +\n",
              "          '<a target=\"_blank\" href=https://colab.research.google.com/notebooks/data_table.ipynb>data table notebook</a>'\n",
              "          + ' to learn more about interactive tables.';\n",
              "        element.innerHTML = '';\n",
              "        dataTable['output_type'] = 'display_data';\n",
              "        await google.colab.output.renderOutput(dataTable, element);\n",
              "        const docLink = document.createElement('div');\n",
              "        docLink.innerHTML = docLinkHtml;\n",
              "        element.appendChild(docLink);\n",
              "      }\n",
              "    </script>\n",
              "  </div>\n",
              "\n",
              "\n",
              "    <div id=\"df-5ce69c93-2fa2-4924-9982-0e250d4a8354\">\n",
              "      <button class=\"colab-df-quickchart\" onclick=\"quickchart('df-5ce69c93-2fa2-4924-9982-0e250d4a8354')\"\n",
              "                title=\"Suggest charts\"\n",
              "                style=\"display:none;\">\n",
              "\n",
              "<svg xmlns=\"http://www.w3.org/2000/svg\" height=\"24px\"viewBox=\"0 0 24 24\"\n",
              "     width=\"24px\">\n",
              "    <g>\n",
              "        <path d=\"M19 3H5c-1.1 0-2 .9-2 2v14c0 1.1.9 2 2 2h14c1.1 0 2-.9 2-2V5c0-1.1-.9-2-2-2zM9 17H7v-7h2v7zm4 0h-2V7h2v10zm4 0h-2v-4h2v4z\"/>\n",
              "    </g>\n",
              "</svg>\n",
              "      </button>\n",
              "\n",
              "<style>\n",
              "  .colab-df-quickchart {\n",
              "      --bg-color: #E8F0FE;\n",
              "      --fill-color: #1967D2;\n",
              "      --hover-bg-color: #E2EBFA;\n",
              "      --hover-fill-color: #174EA6;\n",
              "      --disabled-fill-color: #AAA;\n",
              "      --disabled-bg-color: #DDD;\n",
              "  }\n",
              "\n",
              "  [theme=dark] .colab-df-quickchart {\n",
              "      --bg-color: #3B4455;\n",
              "      --fill-color: #D2E3FC;\n",
              "      --hover-bg-color: #434B5C;\n",
              "      --hover-fill-color: #FFFFFF;\n",
              "      --disabled-bg-color: #3B4455;\n",
              "      --disabled-fill-color: #666;\n",
              "  }\n",
              "\n",
              "  .colab-df-quickchart {\n",
              "    background-color: var(--bg-color);\n",
              "    border: none;\n",
              "    border-radius: 50%;\n",
              "    cursor: pointer;\n",
              "    display: none;\n",
              "    fill: var(--fill-color);\n",
              "    height: 32px;\n",
              "    padding: 0;\n",
              "    width: 32px;\n",
              "  }\n",
              "\n",
              "  .colab-df-quickchart:hover {\n",
              "    background-color: var(--hover-bg-color);\n",
              "    box-shadow: 0 1px 2px rgba(60, 64, 67, 0.3), 0 1px 3px 1px rgba(60, 64, 67, 0.15);\n",
              "    fill: var(--button-hover-fill-color);\n",
              "  }\n",
              "\n",
              "  .colab-df-quickchart-complete:disabled,\n",
              "  .colab-df-quickchart-complete:disabled:hover {\n",
              "    background-color: var(--disabled-bg-color);\n",
              "    fill: var(--disabled-fill-color);\n",
              "    box-shadow: none;\n",
              "  }\n",
              "\n",
              "  .colab-df-spinner {\n",
              "    border: 2px solid var(--fill-color);\n",
              "    border-color: transparent;\n",
              "    border-bottom-color: var(--fill-color);\n",
              "    animation:\n",
              "      spin 1s steps(1) infinite;\n",
              "  }\n",
              "\n",
              "  @keyframes spin {\n",
              "    0% {\n",
              "      border-color: transparent;\n",
              "      border-bottom-color: var(--fill-color);\n",
              "      border-left-color: var(--fill-color);\n",
              "    }\n",
              "    20% {\n",
              "      border-color: transparent;\n",
              "      border-left-color: var(--fill-color);\n",
              "      border-top-color: var(--fill-color);\n",
              "    }\n",
              "    30% {\n",
              "      border-color: transparent;\n",
              "      border-left-color: var(--fill-color);\n",
              "      border-top-color: var(--fill-color);\n",
              "      border-right-color: var(--fill-color);\n",
              "    }\n",
              "    40% {\n",
              "      border-color: transparent;\n",
              "      border-right-color: var(--fill-color);\n",
              "      border-top-color: var(--fill-color);\n",
              "    }\n",
              "    60% {\n",
              "      border-color: transparent;\n",
              "      border-right-color: var(--fill-color);\n",
              "    }\n",
              "    80% {\n",
              "      border-color: transparent;\n",
              "      border-right-color: var(--fill-color);\n",
              "      border-bottom-color: var(--fill-color);\n",
              "    }\n",
              "    90% {\n",
              "      border-color: transparent;\n",
              "      border-bottom-color: var(--fill-color);\n",
              "    }\n",
              "  }\n",
              "</style>\n",
              "\n",
              "      <script>\n",
              "        async function quickchart(key) {\n",
              "          const quickchartButtonEl =\n",
              "            document.querySelector('#' + key + ' button');\n",
              "          quickchartButtonEl.disabled = true;  // To prevent multiple clicks.\n",
              "          quickchartButtonEl.classList.add('colab-df-spinner');\n",
              "          try {\n",
              "            const charts = await google.colab.kernel.invokeFunction(\n",
              "                'suggestCharts', [key], {});\n",
              "          } catch (error) {\n",
              "            console.error('Error during call to suggestCharts:', error);\n",
              "          }\n",
              "          quickchartButtonEl.classList.remove('colab-df-spinner');\n",
              "          quickchartButtonEl.classList.add('colab-df-quickchart-complete');\n",
              "        }\n",
              "        (() => {\n",
              "          let quickchartButtonEl =\n",
              "            document.querySelector('#df-5ce69c93-2fa2-4924-9982-0e250d4a8354 button');\n",
              "          quickchartButtonEl.style.display =\n",
              "            google.colab.kernel.accessAllowed ? 'block' : 'none';\n",
              "        })();\n",
              "      </script>\n",
              "    </div>\n",
              "\n",
              "    </div>\n",
              "  </div>\n"
            ],
            "application/vnd.google.colaboratory.intrinsic+json": {
              "type": "dataframe",
              "variable_name": "df",
              "summary": "{\n  \"name\": \"df\",\n  \"rows\": 7351,\n  \"fields\": [\n    {\n      \"column\": 0,\n      \"properties\": {\n        \"dtype\": \"string\",\n        \"num_unique_values\": 7346,\n        \"samples\": [\n          \"una y otra vez que hiciese alto y le permitiera apearse; pero yo,\",\n          \"como una sierra. Contest\\u00f3 al saludo del naranjero, h\\u00edzome una\",\n          \"herida, no iba a contribuir a suavizarle el humor, cada d\\u00eda m\\u00e1s\"\n        ],\n        \"semantic_type\": \"\",\n        \"description\": \"\"\n      }\n    }\n  ]\n}"
            }
          },
          "metadata": {},
          "execution_count": 2
        }
      ]
    },
    {
      "cell_type": "code",
      "source": [
        "print(\"Cantidad de documentos:\", df.shape[0])"
      ],
      "metadata": {
        "colab": {
          "base_uri": "https://localhost:8080/"
        },
        "id": "aHkoVNwG0q1d",
        "outputId": "5309c0bf-e580-45d7-af30-22488abf7f5e"
      },
      "execution_count": null,
      "outputs": [
        {
          "output_type": "stream",
          "name": "stdout",
          "text": [
            "Cantidad de documentos: 7351\n"
          ]
        }
      ]
    },
    {
      "cell_type": "markdown",
      "source": [
        "### 1 - Preprocesamiento"
      ],
      "metadata": {
        "id": "9LPVnNo-0zKl"
      }
    },
    {
      "cell_type": "code",
      "source": [
        "# from keras.preprocessing.text import text_to_word_sequence\n",
        "from tensorflow.keras.preprocessing.text import text_to_word_sequence\n",
        "\n",
        "sentence_tokens = []\n",
        "# Recorrer todas las filas y transformar las oraciones\n",
        "# en una secuencia de palabras (esto podría realizarse con NLTK or spaCy también)\n",
        "for _, row in df[:None].iterrows():\n",
        "    sentence_tokens.append(text_to_word_sequence(row[0]))"
      ],
      "metadata": {
        "id": "P647Bekj0z-D"
      },
      "execution_count": null,
      "outputs": []
    },
    {
      "cell_type": "code",
      "source": [
        "# Demos un vistazo\n",
        "sentence_tokens[:20]"
      ],
      "metadata": {
        "colab": {
          "base_uri": "https://localhost:8080/"
        },
        "id": "-FwiPo1i1SMQ",
        "outputId": "915c3f33-cc33-48e6-c74e-411a2ea5527e"
      },
      "execution_count": null,
      "outputs": [
        {
          "output_type": "execute_result",
          "data": {
            "text/plain": [
              "[['the',\n",
              "  'project',\n",
              "  'gutenberg',\n",
              "  'ebook',\n",
              "  'of',\n",
              "  'la',\n",
              "  'biblia',\n",
              "  'en',\n",
              "  'españa',\n",
              "  'tomo',\n",
              "  'i',\n",
              "  'de',\n",
              "  '3'],\n",
              " ['this',\n",
              "  'ebook',\n",
              "  'is',\n",
              "  'for',\n",
              "  'the',\n",
              "  'use',\n",
              "  'of',\n",
              "  'anyone',\n",
              "  'anywhere',\n",
              "  'in',\n",
              "  'the',\n",
              "  'united',\n",
              "  'states',\n",
              "  'and'],\n",
              " ['most',\n",
              "  'other',\n",
              "  'parts',\n",
              "  'of',\n",
              "  'the',\n",
              "  'world',\n",
              "  'at',\n",
              "  'no',\n",
              "  'cost',\n",
              "  'and',\n",
              "  'with',\n",
              "  'almost',\n",
              "  'no',\n",
              "  'restrictions'],\n",
              " ['whatsoever',\n",
              "  'you',\n",
              "  'may',\n",
              "  'copy',\n",
              "  'it',\n",
              "  'give',\n",
              "  'it',\n",
              "  'away',\n",
              "  'or',\n",
              "  're',\n",
              "  'use',\n",
              "  'it',\n",
              "  'under',\n",
              "  'the',\n",
              "  'terms'],\n",
              " ['of',\n",
              "  'the',\n",
              "  'project',\n",
              "  'gutenberg',\n",
              "  'license',\n",
              "  'included',\n",
              "  'with',\n",
              "  'this',\n",
              "  'ebook',\n",
              "  'or',\n",
              "  'online'],\n",
              " ['at',\n",
              "  'www',\n",
              "  'gutenberg',\n",
              "  'org',\n",
              "  'if',\n",
              "  'you',\n",
              "  'are',\n",
              "  'not',\n",
              "  'located',\n",
              "  'in',\n",
              "  'the',\n",
              "  'united',\n",
              "  'states'],\n",
              " ['you',\n",
              "  'will',\n",
              "  'have',\n",
              "  'to',\n",
              "  'check',\n",
              "  'the',\n",
              "  'laws',\n",
              "  'of',\n",
              "  'the',\n",
              "  'country',\n",
              "  'where',\n",
              "  'you',\n",
              "  'are',\n",
              "  'located'],\n",
              " ['before', 'using', 'this', 'ebook'],\n",
              " ['title', 'la', 'biblia', 'en', 'españa', 'tomo', 'i', 'de', '3'],\n",
              " ['author', 'george', 'borrow'],\n",
              " ['translator', 'manuel', 'azaña'],\n",
              " ['release', 'date', 'january', '24', '2016', 'ebook', '51019'],\n",
              " ['most', 'recently', 'updated', 'october', '22', '2024'],\n",
              " ['language', 'spanish'],\n",
              " ['credits',\n",
              "  'e',\n",
              "  'text',\n",
              "  'prepared',\n",
              "  'by',\n",
              "  'josep',\n",
              "  'cols',\n",
              "  'canals',\n",
              "  'ramon',\n",
              "  'pajares',\n",
              "  'box',\n",
              "  'and',\n",
              "  'the',\n",
              "  'online',\n",
              "  'distributed',\n",
              "  'proofreading',\n",
              "  'team',\n",
              "  'http',\n",
              "  'www',\n",
              "  'pgdp',\n",
              "  'net',\n",
              "  'from',\n",
              "  'page',\n",
              "  'images',\n",
              "  'generously',\n",
              "  'made',\n",
              "  'available',\n",
              "  'by',\n",
              "  'internet',\n",
              "  'archive',\n",
              "  'canadian',\n",
              "  'libraries',\n",
              "  'https',\n",
              "  'archive',\n",
              "  'org',\n",
              "  'details',\n",
              "  'toronto'],\n",
              " ['start',\n",
              "  'of',\n",
              "  'the',\n",
              "  'project',\n",
              "  'gutenberg',\n",
              "  'ebook',\n",
              "  'la',\n",
              "  'biblia',\n",
              "  'en',\n",
              "  'españa',\n",
              "  'tomo',\n",
              "  'i',\n",
              "  'de',\n",
              "  '3'],\n",
              " ['note',\n",
              "  'project',\n",
              "  'gutenberg',\n",
              "  'also',\n",
              "  'has',\n",
              "  'an',\n",
              "  'html',\n",
              "  'version',\n",
              "  'of',\n",
              "  'this'],\n",
              " ['file', 'which', 'includes', 'the', 'original', 'illustration'],\n",
              " ['see', '51019', 'h', 'htm', 'or', '51019', 'h', 'zip'],\n",
              " ['https',\n",
              "  'www',\n",
              "  'gutenberg',\n",
              "  'org',\n",
              "  'cache',\n",
              "  'epub',\n",
              "  '51019',\n",
              "  'pg51019',\n",
              "  'images',\n",
              "  'html']]"
            ]
          },
          "metadata": {},
          "execution_count": 7
        }
      ]
    },
    {
      "cell_type": "markdown",
      "source": [
        "### 2 - Crear los vectores (word2vec)"
      ],
      "metadata": {
        "id": "-GeBdaSP2CvE"
      }
    },
    {
      "cell_type": "code",
      "source": [
        "from gensim.models.callbacks import CallbackAny2Vec\n",
        "# Durante el entrenamiento gensim por defecto no informa el \"loss\" en cada época\n",
        "# Sobrecargamos el callback para poder tener esta información\n",
        "class callback(CallbackAny2Vec):\n",
        "    \"\"\"\n",
        "    Callback to print loss after each epoch\n",
        "    \"\"\"\n",
        "    def __init__(self):\n",
        "        self.epoch = 0\n",
        "\n",
        "    def on_epoch_end(self, model):\n",
        "        loss = model.get_latest_training_loss()\n",
        "        if self.epoch == 0:\n",
        "            print('Loss after epoch {}: {}'.format(self.epoch, loss))\n",
        "        else:\n",
        "            print('Loss after epoch {}: {}'.format(self.epoch, loss- self.loss_previous_step))\n",
        "        self.epoch += 1\n",
        "        self.loss_previous_step = loss"
      ],
      "metadata": {
        "id": "4gh4A82I2DVf"
      },
      "execution_count": null,
      "outputs": []
    },
    {
      "cell_type": "code",
      "source": [
        "def train_word2vec_model(sentences, sg, window):\n",
        "    model = Word2Vec(\n",
        "        sentences=sentences,  # Corpus tokenizado\n",
        "        vector_size=300,      # Dimensionalidad de los vectores\n",
        "        window=window,        # Ventana (2 o 4)\n",
        "        min_count=5,          # Frecuencia mínima para incluir una palabra\n",
        "        negative=20,          # Cantidad de negative samples\n",
        "        workers=1,            # Cantidad de núcleos a utilizar\n",
        "        sg=sg                 # 0: CBOW, 1: Skipgram\n",
        "    )\n",
        "    model.build_vocab(sentences)  # Construir el vocabulario\n",
        "    model.train(sentences, total_examples=model.corpus_count, epochs=10)  # Entrenar el modelo\n",
        "    return model"
      ],
      "metadata": {
        "id": "iD5YxZYA2I3N"
      },
      "execution_count": null,
      "outputs": []
    },
    {
      "cell_type": "code",
      "source": [
        "# Entrenar 4 modelos con las configuraciones solicitadas\n",
        "models = {}\n",
        "for sg in [0, 1]:  # 0: CBOW, 1: Skipgram\n",
        "    for window in [2, 4]:  # Ventanas de 2 y 4 palabras\n",
        "        key = f\"sg={sg}_window={window}\"\n",
        "        models[key] = train_word2vec_model(sentence_tokens, sg=sg, window=window)\n",
        "        print(f\"Modelo {key}:\")\n",
        "        print(\"Cantidad de docs en el corpus:\", models[key].corpus_count)\n",
        "        print(\"Cantidad de words distintas en el corpus:\", len(models[key].wv.index_to_key))\n",
        "        print(\"---\")"
      ],
      "metadata": {
        "id": "CUjkPCV82OHi",
        "colab": {
          "base_uri": "https://localhost:8080/"
        },
        "outputId": "3d2a69f8-9b6d-4c79-be7e-65cefe9238f5"
      },
      "execution_count": null,
      "outputs": [
        {
          "output_type": "stream",
          "name": "stderr",
          "text": [
            "WARNING:gensim.models.keyedvectors:sorting after vectors have been allocated is expensive & error-prone\n",
            "WARNING:gensim.models.word2vec:Effective 'alpha' higher than previous training cycles\n"
          ]
        },
        {
          "output_type": "stream",
          "name": "stdout",
          "text": [
            "Modelo sg=0_window=2:\n",
            "Cantidad de docs en el corpus: 7351\n",
            "Cantidad de words distintas en el corpus: 1942\n",
            "---\n"
          ]
        },
        {
          "output_type": "stream",
          "name": "stderr",
          "text": [
            "WARNING:gensim.models.keyedvectors:sorting after vectors have been allocated is expensive & error-prone\n",
            "WARNING:gensim.models.word2vec:Effective 'alpha' higher than previous training cycles\n"
          ]
        },
        {
          "output_type": "stream",
          "name": "stdout",
          "text": [
            "Modelo sg=0_window=4:\n",
            "Cantidad de docs en el corpus: 7351\n",
            "Cantidad de words distintas en el corpus: 1942\n",
            "---\n"
          ]
        },
        {
          "output_type": "stream",
          "name": "stderr",
          "text": [
            "WARNING:gensim.models.keyedvectors:sorting after vectors have been allocated is expensive & error-prone\n",
            "WARNING:gensim.models.word2vec:Effective 'alpha' higher than previous training cycles\n"
          ]
        },
        {
          "output_type": "stream",
          "name": "stdout",
          "text": [
            "Modelo sg=1_window=2:\n",
            "Cantidad de docs en el corpus: 7351\n",
            "Cantidad de words distintas en el corpus: 1942\n",
            "---\n"
          ]
        },
        {
          "output_type": "stream",
          "name": "stderr",
          "text": [
            "WARNING:gensim.models.keyedvectors:sorting after vectors have been allocated is expensive & error-prone\n",
            "WARNING:gensim.models.word2vec:Effective 'alpha' higher than previous training cycles\n"
          ]
        },
        {
          "output_type": "stream",
          "name": "stdout",
          "text": [
            "Modelo sg=1_window=4:\n",
            "Cantidad de docs en el corpus: 7351\n",
            "Cantidad de words distintas en el corpus: 1942\n",
            "---\n"
          ]
        }
      ]
    },
    {
      "cell_type": "markdown",
      "source": [
        "### 3 - Entrenar embeddings"
      ],
      "metadata": {
        "id": "ruXdUNVf2V6P"
      }
    },
    {
      "cell_type": "code",
      "source": [
        "# Entrenamos el modelo generador de vectores\n",
        "# Utilizamos nuestro callback\n",
        "# Entrenar los modelos con el callback definido\n",
        "def train_models_with_callback(models, sentence_tokens, epochs=20):\n",
        "    for key, model in models.items():\n",
        "        print(f\"Entrenando modelo {key}...\")\n",
        "        model.train(\n",
        "            sentence_tokens,\n",
        "            total_examples=model.corpus_count,\n",
        "            epochs=epochs,\n",
        "            compute_loss=True,\n",
        "            callbacks=[callback()]  # Utilizamos tu callback definido\n",
        "        )\n",
        "        print(f\"Entrenamiento del modelo {key} finalizado.\\n\")\n",
        "\n",
        "# Entrenar los 4 modelos con tu callback\n",
        "train_models_with_callback(models, sentence_tokens, epochs=20)"
      ],
      "metadata": {
        "colab": {
          "base_uri": "https://localhost:8080/"
        },
        "id": "B3SpOmB52WO5",
        "outputId": "67846449-b82e-4344-de3c-0b3c54646e68"
      },
      "execution_count": null,
      "outputs": [
        {
          "output_type": "stream",
          "name": "stderr",
          "text": [
            "WARNING:gensim.models.word2vec:Effective 'alpha' higher than previous training cycles\n"
          ]
        },
        {
          "output_type": "stream",
          "name": "stdout",
          "text": [
            "Entrenando modelo sg=0_window=2...\n",
            "Loss after epoch 0: 163238.34375\n",
            "Loss after epoch 1: 160980.40625\n",
            "Loss after epoch 2: 159446.90625\n",
            "Loss after epoch 3: 160032.78125\n",
            "Loss after epoch 4: 158205.1875\n",
            "Loss after epoch 5: 155467.0625\n",
            "Loss after epoch 6: 146156.1875\n",
            "Loss after epoch 7: 133712.75\n",
            "Loss after epoch 8: 132307.25\n",
            "Loss after epoch 9: 130048.125\n",
            "Loss after epoch 10: 129407.875\n",
            "Loss after epoch 11: 128396.75\n",
            "Loss after epoch 12: 126548.25\n",
            "Loss after epoch 13: 125863.25\n",
            "Loss after epoch 14: 121123.125\n",
            "Loss after epoch 15: 111356.25\n",
            "Loss after epoch 16: 110585.25\n",
            "Loss after epoch 17: 109926.5\n",
            "Loss after epoch 18: 109516.75\n"
          ]
        },
        {
          "output_type": "stream",
          "name": "stderr",
          "text": [
            "WARNING:gensim.models.word2vec:Effective 'alpha' higher than previous training cycles\n"
          ]
        },
        {
          "output_type": "stream",
          "name": "stdout",
          "text": [
            "Loss after epoch 19: 109280.0\n",
            "Entrenamiento del modelo sg=0_window=2 finalizado.\n",
            "\n",
            "Entrenando modelo sg=0_window=4...\n",
            "Loss after epoch 0: 162368.25\n",
            "Loss after epoch 1: 160681.0625\n",
            "Loss after epoch 2: 159900.03125\n",
            "Loss after epoch 3: 160951.90625\n",
            "Loss after epoch 4: 159733.9375\n",
            "Loss after epoch 5: 157450.5\n",
            "Loss after epoch 6: 148134.1875\n",
            "Loss after epoch 7: 136603.75\n",
            "Loss after epoch 8: 135294.125\n",
            "Loss after epoch 9: 133365.75\n",
            "Loss after epoch 10: 132636.625\n",
            "Loss after epoch 11: 131973.25\n",
            "Loss after epoch 12: 130136.0\n",
            "Loss after epoch 13: 129484.5\n",
            "Loss after epoch 14: 120837.125\n",
            "Loss after epoch 15: 113726.25\n",
            "Loss after epoch 16: 113243.25\n",
            "Loss after epoch 17: 112458.0\n",
            "Loss after epoch 18: 112076.0\n"
          ]
        },
        {
          "output_type": "stream",
          "name": "stderr",
          "text": [
            "WARNING:gensim.models.word2vec:Effective 'alpha' higher than previous training cycles\n"
          ]
        },
        {
          "output_type": "stream",
          "name": "stdout",
          "text": [
            "Loss after epoch 19: 111761.25\n",
            "Entrenamiento del modelo sg=0_window=4 finalizado.\n",
            "\n",
            "Entrenando modelo sg=1_window=2...\n",
            "Loss after epoch 0: 349463.5625\n",
            "Loss after epoch 1: 344847.0625\n",
            "Loss after epoch 2: 343252.375\n",
            "Loss after epoch 3: 304371.25\n",
            "Loss after epoch 4: 298842.625\n",
            "Loss after epoch 5: 294990.5\n",
            "Loss after epoch 6: 277611.625\n",
            "Loss after epoch 7: 259048.25\n",
            "Loss after epoch 8: 257411.25\n",
            "Loss after epoch 9: 253675.75\n",
            "Loss after epoch 10: 253065.25\n",
            "Loss after epoch 11: 251893.5\n",
            "Loss after epoch 12: 248740.0\n",
            "Loss after epoch 13: 247294.5\n",
            "Loss after epoch 14: 243399.0\n",
            "Loss after epoch 15: 231352.0\n",
            "Loss after epoch 16: 229267.0\n",
            "Loss after epoch 17: 227420.0\n",
            "Loss after epoch 18: 227254.0\n"
          ]
        },
        {
          "output_type": "stream",
          "name": "stderr",
          "text": [
            "WARNING:gensim.models.word2vec:Effective 'alpha' higher than previous training cycles\n"
          ]
        },
        {
          "output_type": "stream",
          "name": "stdout",
          "text": [
            "Loss after epoch 19: 225458.5\n",
            "Entrenamiento del modelo sg=1_window=2 finalizado.\n",
            "\n",
            "Entrenando modelo sg=1_window=4...\n",
            "Loss after epoch 0: 488545.15625\n",
            "Loss after epoch 1: 482085.28125\n",
            "Loss after epoch 2: 446108.3125\n",
            "Loss after epoch 3: 431534.5\n",
            "Loss after epoch 4: 408053.25\n",
            "Loss after epoch 5: 377476.25\n",
            "Loss after epoch 6: 375287.5\n",
            "Loss after epoch 7: 373435.5\n",
            "Loss after epoch 8: 371534.0\n",
            "Loss after epoch 9: 365560.75\n",
            "Loss after epoch 10: 345317.0\n",
            "Loss after epoch 11: 339592.0\n",
            "Loss after epoch 12: 334824.5\n",
            "Loss after epoch 13: 332419.5\n",
            "Loss after epoch 14: 331020.5\n",
            "Loss after epoch 15: 332503.5\n",
            "Loss after epoch 16: 330063.0\n",
            "Loss after epoch 17: 326483.5\n",
            "Loss after epoch 18: 327920.0\n",
            "Loss after epoch 19: 324601.5\n",
            "Entrenamiento del modelo sg=1_window=4 finalizado.\n",
            "\n"
          ]
        }
      ]
    },
    {
      "cell_type": "markdown",
      "source": [
        "### 4 - Ensayar"
      ],
      "metadata": {
        "id": "clu0f_QH2bm3"
      }
    },
    {
      "cell_type": "code",
      "source": [
        "# Función para obtener las palabras más similares a una palabra objetivo en los 4 modelos\n",
        "def get_most_similar_for_all_models(models, positive=None, negative=None, topn=10):\n",
        "    for key, model in models.items():\n",
        "        try:\n",
        "            print(f\"Modelo {key} - Palabras más similares (positive={positive}, negative={negative}):\")\n",
        "            similar_words = model.wv.most_similar(positive=positive, negative=negative, topn=topn)\n",
        "            for similar_word, similarity in similar_words:\n",
        "                print(f\"  {similar_word}: {similarity:.4f}\")\n",
        "            print(\"---\")\n",
        "        except KeyError as e:\n",
        "            print(f\"Modelo {key} - Error: {str(e)}. Una de las palabras no está en el vocabulario.\\n\")"
      ],
      "metadata": {
        "id": "LFSjd80BQZRk"
      },
      "execution_count": null,
      "outputs": []
    },
    {
      "cell_type": "code",
      "source": [
        "\n",
        "# Ejemplo: Obtener palabras más relacionadas con \"dios\" y opcionalmente con negativas\n",
        "get_most_similar_for_all_models(models, positive=[\"dios\"], negative=None, topn=10)"
      ],
      "metadata": {
        "colab": {
          "base_uri": "https://localhost:8080/"
        },
        "id": "hmXgklB-2cGa",
        "outputId": "ef546a1e-7a3d-475c-dda2-601047c3eab2"
      },
      "execution_count": null,
      "outputs": [
        {
          "output_type": "stream",
          "name": "stdout",
          "text": [
            "Modelo sg=0_window=2 - Palabras más similares (positive=['dios'], negative=None):\n",
            "  maneras: 0.8721\n",
            "  escribir: 0.8701\n",
            "  sobra: 0.8697\n",
            "  servir: 0.8586\n",
            "  baltasar: 0.8566\n",
            "  justicia: 0.8552\n",
            "  raza: 0.8534\n",
            "  aun: 0.8509\n",
            "  míos: 0.8477\n",
            "  lenguaje: 0.8446\n",
            "---\n",
            "Modelo sg=0_window=4 - Palabras más similares (positive=['dios'], negative=None):\n",
            "  servir: 0.8796\n",
            "  escribir: 0.8770\n",
            "  sobra: 0.8747\n",
            "  viajes: 0.8742\n",
            "  justicia: 0.8681\n",
            "  ideas: 0.8679\n",
            "  enemigos: 0.8677\n",
            "  ladrones: 0.8660\n",
            "  baltasar: 0.8652\n",
            "  casos: 0.8615\n",
            "---\n",
            "Modelo sg=1_window=2 - Palabras más similares (positive=['dios'], negative=None):\n",
            "  maneras: 0.7812\n",
            "  pregunté—: 0.7651\n",
            "  raza: 0.7606\n",
            "  escribir: 0.7551\n",
            "  servir: 0.7543\n",
            "  sean: 0.7493\n",
            "  darle: 0.7450\n",
            "  ministros: 0.7429\n",
            "  continuamente: 0.7399\n",
            "  entender: 0.7316\n",
            "---\n",
            "Modelo sg=1_window=4 - Palabras más similares (positive=['dios'], negative=None):\n",
            "  justicia: 0.7079\n",
            "  pregunté—: 0.6974\n",
            "  palos: 0.6881\n",
            "  campos: 0.6853\n",
            "  servir: 0.6736\n",
            "  amor: 0.6725\n",
            "  propia: 0.6718\n",
            "  entender: 0.6693\n",
            "  limosna: 0.6686\n",
            "  europa: 0.6672\n",
            "---\n"
          ]
        }
      ]
    },
    {
      "cell_type": "code",
      "source": [
        "# Ejemplo: Obtener palabras más relacionadas con \"dios\" y opcionalmente con negativas\n",
        "get_most_similar_for_all_models(models, positive=None, negative=[\"dios\"], topn=10)"
      ],
      "metadata": {
        "colab": {
          "base_uri": "https://localhost:8080/"
        },
        "id": "zPsnFsOs3kQg",
        "outputId": "aaee0e6b-a6fc-4be3-dd5f-19bcee5a790a"
      },
      "execution_count": null,
      "outputs": [
        {
          "output_type": "stream",
          "name": "stdout",
          "text": [
            "Modelo sg=0_window=2 - Palabras más similares (positive=None, negative=['dios']):\n",
            "  —la: 0.0452\n",
            "  —el: -0.0189\n",
            "  —un: -0.0491\n",
            "  hacia: -0.0685\n",
            "  donde: -0.0715\n",
            "  del: -0.0787\n",
            "  desde: -0.1432\n",
            "  hasta: -0.1516\n",
            "  el: -0.1525\n",
            "  hora: -0.1773\n",
            "---\n",
            "Modelo sg=0_window=4 - Palabras más similares (positive=None, negative=['dios']):\n",
            "  —la: 0.1312\n",
            "  hacia: 0.0471\n",
            "  donde: 0.0459\n",
            "  —un: 0.0322\n",
            "  —el: -0.0015\n",
            "  del: -0.0040\n",
            "  desde: -0.0121\n",
            "  hasta: -0.0321\n",
            "  llegamos: -0.0425\n",
            "  hora: -0.0513\n",
            "---\n",
            "Modelo sg=1_window=2 - Palabras más similares (positive=None, negative=['dios']):\n",
            "  donde: -0.1337\n",
            "  —un: -0.1460\n",
            "  hacia: -0.1816\n",
            "  llegamos: -0.1926\n",
            "  hasta: -0.1957\n",
            "  desde: -0.2019\n",
            "  —la: -0.2025\n",
            "  cerro: -0.2295\n",
            "  aldea: -0.2322\n",
            "  —el: -0.2370\n",
            "---\n",
            "Modelo sg=1_window=4 - Palabras más similares (positive=None, negative=['dios']):\n",
            "  donde: -0.0950\n",
            "  desde: -0.1091\n",
            "  hasta: -0.1123\n",
            "  —un: -0.1146\n",
            "  media: -0.1196\n",
            "  cerro: -0.1396\n",
            "  llegamos: -0.1556\n",
            "  torre: -0.1579\n",
            "  noche: -0.1646\n",
            "  aldea: -0.1647\n",
            "---\n"
          ]
        }
      ]
    },
    {
      "cell_type": "markdown",
      "source": [
        "### 5 - Visualizar agrupación de vectores"
      ],
      "metadata": {
        "id": "Nv0HSeuMM9rA"
      }
    },
    {
      "cell_type": "code",
      "source": [
        "from sklearn.manifold import TSNE\n",
        "import numpy as np\n",
        "import plotly.express as px\n",
        "\n",
        "# Reducir las dimensiones de los vectores de un modelo Word2Vec\n",
        "def reduce_dimensions(model, num_dimensions=2):\n",
        "    vectors = np.asarray(model.wv.vectors)\n",
        "    labels = np.asarray(model.wv.index_to_key)\n",
        "    tsne = TSNE(n_components=num_dimensions, random_state=0)\n",
        "    reduced_vectors = tsne.fit_transform(vectors)\n",
        "    return reduced_vectors, labels\n",
        "\n",
        "# Graficar los embeddings para todos los modelos\n",
        "def plot_embeddings_for_models(models, max_words=200):\n",
        "    for key, model in models.items():\n",
        "        print(f\"Generando visualización para el modelo {key}...\")\n",
        "        vecs, labels = reduce_dimensions(model)\n",
        "\n",
        "        # Limitar el número de palabras a graficar\n",
        "        fig = px.scatter(\n",
        "            x=vecs[:max_words, 0],\n",
        "            y=vecs[:max_words, 1],\n",
        "            text=labels[:max_words],\n",
        "            title=f\"Visualización de Embeddings: {key}\"\n",
        "        )\n",
        "\n",
        "        fig.show(renderer=\"colab\")\n",
        "\n",
        "# Graficar los embeddings de los 4 modelos entrenados\n",
        "plot_embeddings_for_models(models, max_words=150)"
      ],
      "metadata": {
        "id": "yA0htzp7MvsW",
        "colab": {
          "base_uri": "https://localhost:8080/",
          "height": 1000
        },
        "outputId": "f210a6f3-57c5-430a-f209-4c8a5bf34aa1"
      },
      "execution_count": null,
      "outputs": [
        {
          "output_type": "stream",
          "name": "stdout",
          "text": [
            "Generando visualización para el modelo sg=0_window=2...\n"
          ]
        },
        {
          "output_type": "display_data",
          "data": {
            "text/html": [
              "<html>\n",
              "<head><meta charset=\"utf-8\" /></head>\n",
              "<body>\n",
              "    <div>            <script src=\"https://cdnjs.cloudflare.com/ajax/libs/mathjax/2.7.5/MathJax.js?config=TeX-AMS-MML_SVG\"></script><script type=\"text/javascript\">if (window.MathJax && window.MathJax.Hub && window.MathJax.Hub.Config) {window.MathJax.Hub.Config({SVG: {font: \"STIX-Web\"}});}</script>                <script type=\"text/javascript\">window.PlotlyConfig = {MathJaxConfig: 'local'};</script>\n",
              "        <script charset=\"utf-8\" src=\"https://cdn.plot.ly/plotly-2.35.2.min.js\"></script>                <div id=\"18924213-86cb-4a3c-9116-e663f999f5be\" class=\"plotly-graph-div\" style=\"height:525px; width:100%;\"></div>            <script type=\"text/javascript\">                                    window.PLOTLYENV=window.PLOTLYENV || {};                                    if (document.getElementById(\"18924213-86cb-4a3c-9116-e663f999f5be\")) {                    Plotly.newPlot(                        \"18924213-86cb-4a3c-9116-e663f999f5be\",                        [{\"hovertemplate\":\"x=%{x}\\u003cbr\\u003ey=%{y}\\u003cbr\\u003etext=%{text}\\u003cextra\\u003e\\u003c\\u002fextra\\u003e\",\"legendgroup\":\"\",\"marker\":{\"color\":\"#636efa\",\"symbol\":\"circle\"},\"mode\":\"markers+text\",\"name\":\"\",\"orientation\":\"v\",\"showlegend\":false,\"text\":[\"de\",\"y\",\"la\",\"en\",\"a\",\"que\",\"el\",\"los\",\"un\",\"no\",\"se\",\"por\",\"con\",\"del\",\"me\",\"las\",\"una\",\"su\",\"al\",\"es\",\"más\",\"le\",\"como\",\"pero\",\"para\",\"mi\",\"lo\",\"yo\",\"sus\",\"muy\",\"usted\",\"era\",\"o\",\"the\",\"sin\",\"había\",\"españa\",\"si\",\"»\",\"dos\",\"porque\",\"ni\",\"donde\",\"tan\",\"of\",\"cuando\",\"todo\",\"ha\",\"ya\",\"hasta\",\"después\",\"poco\",\"mucho\",\"él\",\"nos\",\"casa\",\"hay\",\"son\",\"he\",\"tiempo\",\"fué\",\"borrow\",\"—el\",\"desde\",\"entre\",\"don\",\"hombre\",\"estaba\",\"jorge\",\"mis\",\"país\",\"este\",\"sobre\",\"unos\",\"madrid\",\"to\",\"bien\",\"project\",\"años\",\"ser\",\"antes\",\"or\",\"and\",\"tres\",\"aquí\",\"día\",\"vez\",\"camino\",\"parte\",\"allí\",\"dijo\",\"todos\",\"ciudad\",\"mí\",\"noche\",\"está\",\"you\",\"in\",\"aunque\",\"caballo\",\"gran\",\"antonio\",\"menos\",\"uno\",\"tenía\",\"otro\",\"esta\",\"muchos\",\"gitano\",\"han\",\"inglés\",\"casi\",\"otros\",\"otra\",\"qué\",\"e\",\"ellos\",\"—la\",\"veces\",\"nuevo\",\"portugal\",\"ella\",\"así\",\"mismo\",\"puede\",\"lisboa\",\"quien\",\"según\",\"gutenberg™\",\"nada\",\"puerta\",\"tal\",\"gente\",\"vida\",\"pues\",\"decir\",\"sólo\",\"amigo\",\"mejor\",\"eran\",\"aquel\",\"tiene\",\"aún\",\"eso\",\"unas\",\"modo\",\"tierra\",\"entonces\",\"ver\",\"muchas\"],\"x\":[-11.083246,18.544247,-18.92638,6.2682743,-5.357713,29.841034,24.394484,3.262734,23.678837,36.53033,37.270363,21.737415,22.693373,-7.9486094,39.57105,-1.6688608,-18.643795,20.995499,-15.106408,37.822796,27.471945,39.56741,28.201277,28.378614,7.0303793,20.973034,31.577904,34.162468,2.154924,25.354643,33.471138,13.86159,-6.5011187,-62.005726,16.281979,40.49047,-14.885786,31.147911,39.708256,-6.6625557,36.598377,10.121694,-15.771393,25.209705,-62.785347,0.33363086,26.76021,40.933994,41.19843,-19.633013,-17.244158,-1.8834124,26.81165,13.865784,39.65792,-22.022636,28.179094,8.444162,40.682114,16.396877,21.945667,-23.297754,-26.878788,-19.570284,6.8941216,-0.6124564,-21.657007,-11.648933,32.21279,1.7745444,8.505331,23.383131,23.03227,-5.0550523,-19.240238,-63.184227,34.624653,-58.812405,-3.5649078,26.42944,17.602291,-62.733734,-62.362057,-6.5592422,22.859625,-7.7400165,17.66366,-15.395277,-19.682919,10.028536,33.123463,5.2418013,-28.023308,15.033897,-27.388847,22.1219,-62.98832,-62.71778,21.969213,-9.768511,27.873503,2.4797823,18.90371,4.466804,26.587288,25.949322,-18.589502,6.3563614,-22.249256,40.421326,6.2458854,1.1655527,3.817841,29.926394,35.63572,-52.007282,3.7403498,-26.787868,-2.9963596,-17.077747,-15.014741,13.720681,30.377892,26.541481,35.384937,-19.032433,19.642712,34.058746,-58.93287,26.316456,-29.093403,24.194777,6.2846637,-23.589643,30.781294,32.779034,28.131353,36.164818,29.44946,8.152128,23.868261,35.906834,-7.884684,24.896511,-6.1187496,24.988934,-20.097485,19.972254,2.3833568,-0.3257781],\"xaxis\":\"x\",\"y\":[-22.721437,-18.700504,-24.411291,-16.068773,3.31329,22.13529,25.48684,-41.06102,25.910913,9.471919,-4.7998013,-17.474852,-18.533691,33.6342,5.0686502,-37.03599,-25.562819,25.990654,7.7644534,17.45014,-7.7843695,5.136425,-2.5575025,17.024223,-16.477198,26.00653,20.661856,17.802967,-41.423103,-13.5473585,19.491608,19.857985,-39.97477,4.22643,-21.115536,10.277679,-25.515816,15.508382,15.603072,-42.534874,6.410355,-36.78936,1.0000752,-13.601713,8.765712,2.7972565,26.403732,10.92279,-2.1452086,3.6942825,4.4462776,28.02631,24.713825,-7.7766814,-2.8594608,-18.64235,0.08112609,-39.004932,11.01464,27.943699,15.714488,5.7585335,17.381653,3.6922894,-36.57929,35.34535,24.331955,2.08719,-17.129387,-41.4183,27.987492,24.670412,-18.174892,-43.733055,7.49394,8.029614,11.685532,2.9866211,-44.25567,16.956371,-33.32877,6.74207,6.3073435,-42.524048,19.054571,28.778059,23.496693,21.879183,-20.544107,-9.154695,4.1438637,-39.436443,-7.2497087,-10.329741,-9.470422,15.296086,6.128626,8.159941,-8.611508,25.57351,-9.4704895,5.353667,-23.172478,-37.32668,2.7033746,25.12748,-24.421082,-38.748604,22.21073,10.747612,26.737022,-39.243393,-40.000813,-7.7991943,17.205595,14.211301,-40.305508,17.095201,-33.987965,24.21976,-21.529303,-7.8154984,12.319762,25.800762,14.470833,8.285078,19.660957,4.2955074,1.1934825,18.12545,-8.5008955,21.176739,-13.442974,-16.332195,14.773323,19.511988,-2.5502014,21.262432,16.095284,-38.83446,25.38915,13.036814,-38.679146,17.511475,-37.593243,18.879608,-20.343418,17.151634,30.96518,-40.854977],\"yaxis\":\"y\",\"type\":\"scatter\"}],                        {\"template\":{\"data\":{\"histogram2dcontour\":[{\"type\":\"histogram2dcontour\",\"colorbar\":{\"outlinewidth\":0,\"ticks\":\"\"},\"colorscale\":[[0.0,\"#0d0887\"],[0.1111111111111111,\"#46039f\"],[0.2222222222222222,\"#7201a8\"],[0.3333333333333333,\"#9c179e\"],[0.4444444444444444,\"#bd3786\"],[0.5555555555555556,\"#d8576b\"],[0.6666666666666666,\"#ed7953\"],[0.7777777777777778,\"#fb9f3a\"],[0.8888888888888888,\"#fdca26\"],[1.0,\"#f0f921\"]]}],\"choropleth\":[{\"type\":\"choropleth\",\"colorbar\":{\"outlinewidth\":0,\"ticks\":\"\"}}],\"histogram2d\":[{\"type\":\"histogram2d\",\"colorbar\":{\"outlinewidth\":0,\"ticks\":\"\"},\"colorscale\":[[0.0,\"#0d0887\"],[0.1111111111111111,\"#46039f\"],[0.2222222222222222,\"#7201a8\"],[0.3333333333333333,\"#9c179e\"],[0.4444444444444444,\"#bd3786\"],[0.5555555555555556,\"#d8576b\"],[0.6666666666666666,\"#ed7953\"],[0.7777777777777778,\"#fb9f3a\"],[0.8888888888888888,\"#fdca26\"],[1.0,\"#f0f921\"]]}],\"heatmap\":[{\"type\":\"heatmap\",\"colorbar\":{\"outlinewidth\":0,\"ticks\":\"\"},\"colorscale\":[[0.0,\"#0d0887\"],[0.1111111111111111,\"#46039f\"],[0.2222222222222222,\"#7201a8\"],[0.3333333333333333,\"#9c179e\"],[0.4444444444444444,\"#bd3786\"],[0.5555555555555556,\"#d8576b\"],[0.6666666666666666,\"#ed7953\"],[0.7777777777777778,\"#fb9f3a\"],[0.8888888888888888,\"#fdca26\"],[1.0,\"#f0f921\"]]}],\"heatmapgl\":[{\"type\":\"heatmapgl\",\"colorbar\":{\"outlinewidth\":0,\"ticks\":\"\"},\"colorscale\":[[0.0,\"#0d0887\"],[0.1111111111111111,\"#46039f\"],[0.2222222222222222,\"#7201a8\"],[0.3333333333333333,\"#9c179e\"],[0.4444444444444444,\"#bd3786\"],[0.5555555555555556,\"#d8576b\"],[0.6666666666666666,\"#ed7953\"],[0.7777777777777778,\"#fb9f3a\"],[0.8888888888888888,\"#fdca26\"],[1.0,\"#f0f921\"]]}],\"contourcarpet\":[{\"type\":\"contourcarpet\",\"colorbar\":{\"outlinewidth\":0,\"ticks\":\"\"}}],\"contour\":[{\"type\":\"contour\",\"colorbar\":{\"outlinewidth\":0,\"ticks\":\"\"},\"colorscale\":[[0.0,\"#0d0887\"],[0.1111111111111111,\"#46039f\"],[0.2222222222222222,\"#7201a8\"],[0.3333333333333333,\"#9c179e\"],[0.4444444444444444,\"#bd3786\"],[0.5555555555555556,\"#d8576b\"],[0.6666666666666666,\"#ed7953\"],[0.7777777777777778,\"#fb9f3a\"],[0.8888888888888888,\"#fdca26\"],[1.0,\"#f0f921\"]]}],\"surface\":[{\"type\":\"surface\",\"colorbar\":{\"outlinewidth\":0,\"ticks\":\"\"},\"colorscale\":[[0.0,\"#0d0887\"],[0.1111111111111111,\"#46039f\"],[0.2222222222222222,\"#7201a8\"],[0.3333333333333333,\"#9c179e\"],[0.4444444444444444,\"#bd3786\"],[0.5555555555555556,\"#d8576b\"],[0.6666666666666666,\"#ed7953\"],[0.7777777777777778,\"#fb9f3a\"],[0.8888888888888888,\"#fdca26\"],[1.0,\"#f0f921\"]]}],\"mesh3d\":[{\"type\":\"mesh3d\",\"colorbar\":{\"outlinewidth\":0,\"ticks\":\"\"}}],\"scatter\":[{\"fillpattern\":{\"fillmode\":\"overlay\",\"size\":10,\"solidity\":0.2},\"type\":\"scatter\"}],\"parcoords\":[{\"type\":\"parcoords\",\"line\":{\"colorbar\":{\"outlinewidth\":0,\"ticks\":\"\"}}}],\"scatterpolargl\":[{\"type\":\"scatterpolargl\",\"marker\":{\"colorbar\":{\"outlinewidth\":0,\"ticks\":\"\"}}}],\"bar\":[{\"error_x\":{\"color\":\"#2a3f5f\"},\"error_y\":{\"color\":\"#2a3f5f\"},\"marker\":{\"line\":{\"color\":\"#E5ECF6\",\"width\":0.5},\"pattern\":{\"fillmode\":\"overlay\",\"size\":10,\"solidity\":0.2}},\"type\":\"bar\"}],\"scattergeo\":[{\"type\":\"scattergeo\",\"marker\":{\"colorbar\":{\"outlinewidth\":0,\"ticks\":\"\"}}}],\"scatterpolar\":[{\"type\":\"scatterpolar\",\"marker\":{\"colorbar\":{\"outlinewidth\":0,\"ticks\":\"\"}}}],\"histogram\":[{\"marker\":{\"pattern\":{\"fillmode\":\"overlay\",\"size\":10,\"solidity\":0.2}},\"type\":\"histogram\"}],\"scattergl\":[{\"type\":\"scattergl\",\"marker\":{\"colorbar\":{\"outlinewidth\":0,\"ticks\":\"\"}}}],\"scatter3d\":[{\"type\":\"scatter3d\",\"line\":{\"colorbar\":{\"outlinewidth\":0,\"ticks\":\"\"}},\"marker\":{\"colorbar\":{\"outlinewidth\":0,\"ticks\":\"\"}}}],\"scattermapbox\":[{\"type\":\"scattermapbox\",\"marker\":{\"colorbar\":{\"outlinewidth\":0,\"ticks\":\"\"}}}],\"scatterternary\":[{\"type\":\"scatterternary\",\"marker\":{\"colorbar\":{\"outlinewidth\":0,\"ticks\":\"\"}}}],\"scattercarpet\":[{\"type\":\"scattercarpet\",\"marker\":{\"colorbar\":{\"outlinewidth\":0,\"ticks\":\"\"}}}],\"carpet\":[{\"aaxis\":{\"endlinecolor\":\"#2a3f5f\",\"gridcolor\":\"white\",\"linecolor\":\"white\",\"minorgridcolor\":\"white\",\"startlinecolor\":\"#2a3f5f\"},\"baxis\":{\"endlinecolor\":\"#2a3f5f\",\"gridcolor\":\"white\",\"linecolor\":\"white\",\"minorgridcolor\":\"white\",\"startlinecolor\":\"#2a3f5f\"},\"type\":\"carpet\"}],\"table\":[{\"cells\":{\"fill\":{\"color\":\"#EBF0F8\"},\"line\":{\"color\":\"white\"}},\"header\":{\"fill\":{\"color\":\"#C8D4E3\"},\"line\":{\"color\":\"white\"}},\"type\":\"table\"}],\"barpolar\":[{\"marker\":{\"line\":{\"color\":\"#E5ECF6\",\"width\":0.5},\"pattern\":{\"fillmode\":\"overlay\",\"size\":10,\"solidity\":0.2}},\"type\":\"barpolar\"}],\"pie\":[{\"automargin\":true,\"type\":\"pie\"}]},\"layout\":{\"autotypenumbers\":\"strict\",\"colorway\":[\"#636efa\",\"#EF553B\",\"#00cc96\",\"#ab63fa\",\"#FFA15A\",\"#19d3f3\",\"#FF6692\",\"#B6E880\",\"#FF97FF\",\"#FECB52\"],\"font\":{\"color\":\"#2a3f5f\"},\"hovermode\":\"closest\",\"hoverlabel\":{\"align\":\"left\"},\"paper_bgcolor\":\"white\",\"plot_bgcolor\":\"#E5ECF6\",\"polar\":{\"bgcolor\":\"#E5ECF6\",\"angularaxis\":{\"gridcolor\":\"white\",\"linecolor\":\"white\",\"ticks\":\"\"},\"radialaxis\":{\"gridcolor\":\"white\",\"linecolor\":\"white\",\"ticks\":\"\"}},\"ternary\":{\"bgcolor\":\"#E5ECF6\",\"aaxis\":{\"gridcolor\":\"white\",\"linecolor\":\"white\",\"ticks\":\"\"},\"baxis\":{\"gridcolor\":\"white\",\"linecolor\":\"white\",\"ticks\":\"\"},\"caxis\":{\"gridcolor\":\"white\",\"linecolor\":\"white\",\"ticks\":\"\"}},\"coloraxis\":{\"colorbar\":{\"outlinewidth\":0,\"ticks\":\"\"}},\"colorscale\":{\"sequential\":[[0.0,\"#0d0887\"],[0.1111111111111111,\"#46039f\"],[0.2222222222222222,\"#7201a8\"],[0.3333333333333333,\"#9c179e\"],[0.4444444444444444,\"#bd3786\"],[0.5555555555555556,\"#d8576b\"],[0.6666666666666666,\"#ed7953\"],[0.7777777777777778,\"#fb9f3a\"],[0.8888888888888888,\"#fdca26\"],[1.0,\"#f0f921\"]],\"sequentialminus\":[[0.0,\"#0d0887\"],[0.1111111111111111,\"#46039f\"],[0.2222222222222222,\"#7201a8\"],[0.3333333333333333,\"#9c179e\"],[0.4444444444444444,\"#bd3786\"],[0.5555555555555556,\"#d8576b\"],[0.6666666666666666,\"#ed7953\"],[0.7777777777777778,\"#fb9f3a\"],[0.8888888888888888,\"#fdca26\"],[1.0,\"#f0f921\"]],\"diverging\":[[0,\"#8e0152\"],[0.1,\"#c51b7d\"],[0.2,\"#de77ae\"],[0.3,\"#f1b6da\"],[0.4,\"#fde0ef\"],[0.5,\"#f7f7f7\"],[0.6,\"#e6f5d0\"],[0.7,\"#b8e186\"],[0.8,\"#7fbc41\"],[0.9,\"#4d9221\"],[1,\"#276419\"]]},\"xaxis\":{\"gridcolor\":\"white\",\"linecolor\":\"white\",\"ticks\":\"\",\"title\":{\"standoff\":15},\"zerolinecolor\":\"white\",\"automargin\":true,\"zerolinewidth\":2},\"yaxis\":{\"gridcolor\":\"white\",\"linecolor\":\"white\",\"ticks\":\"\",\"title\":{\"standoff\":15},\"zerolinecolor\":\"white\",\"automargin\":true,\"zerolinewidth\":2},\"scene\":{\"xaxis\":{\"backgroundcolor\":\"#E5ECF6\",\"gridcolor\":\"white\",\"linecolor\":\"white\",\"showbackground\":true,\"ticks\":\"\",\"zerolinecolor\":\"white\",\"gridwidth\":2},\"yaxis\":{\"backgroundcolor\":\"#E5ECF6\",\"gridcolor\":\"white\",\"linecolor\":\"white\",\"showbackground\":true,\"ticks\":\"\",\"zerolinecolor\":\"white\",\"gridwidth\":2},\"zaxis\":{\"backgroundcolor\":\"#E5ECF6\",\"gridcolor\":\"white\",\"linecolor\":\"white\",\"showbackground\":true,\"ticks\":\"\",\"zerolinecolor\":\"white\",\"gridwidth\":2}},\"shapedefaults\":{\"line\":{\"color\":\"#2a3f5f\"}},\"annotationdefaults\":{\"arrowcolor\":\"#2a3f5f\",\"arrowhead\":0,\"arrowwidth\":1},\"geo\":{\"bgcolor\":\"white\",\"landcolor\":\"#E5ECF6\",\"subunitcolor\":\"white\",\"showland\":true,\"showlakes\":true,\"lakecolor\":\"white\"},\"title\":{\"x\":0.05},\"mapbox\":{\"style\":\"light\"}}},\"xaxis\":{\"anchor\":\"y\",\"domain\":[0.0,1.0],\"title\":{\"text\":\"x\"}},\"yaxis\":{\"anchor\":\"x\",\"domain\":[0.0,1.0],\"title\":{\"text\":\"y\"}},\"legend\":{\"tracegroupgap\":0},\"title\":{\"text\":\"Visualización de Embeddings: sg=0_window=2\"}},                        {\"responsive\": true}                    ).then(function(){\n",
              "                            \n",
              "var gd = document.getElementById('18924213-86cb-4a3c-9116-e663f999f5be');\n",
              "var x = new MutationObserver(function (mutations, observer) {{\n",
              "        var display = window.getComputedStyle(gd).display;\n",
              "        if (!display || display === 'none') {{\n",
              "            console.log([gd, 'removed!']);\n",
              "            Plotly.purge(gd);\n",
              "            observer.disconnect();\n",
              "        }}\n",
              "}});\n",
              "\n",
              "// Listen for the removal of the full notebook cells\n",
              "var notebookContainer = gd.closest('#notebook-container');\n",
              "if (notebookContainer) {{\n",
              "    x.observe(notebookContainer, {childList: true});\n",
              "}}\n",
              "\n",
              "// Listen for the clearing of the current output cell\n",
              "var outputEl = gd.closest('.output');\n",
              "if (outputEl) {{\n",
              "    x.observe(outputEl, {childList: true});\n",
              "}}\n",
              "\n",
              "                        })                };                            </script>        </div>\n",
              "</body>\n",
              "</html>"
            ]
          },
          "metadata": {}
        },
        {
          "output_type": "stream",
          "name": "stdout",
          "text": [
            "Generando visualización para el modelo sg=0_window=4...\n"
          ]
        },
        {
          "output_type": "display_data",
          "data": {
            "text/html": [
              "<html>\n",
              "<head><meta charset=\"utf-8\" /></head>\n",
              "<body>\n",
              "    <div>            <script src=\"https://cdnjs.cloudflare.com/ajax/libs/mathjax/2.7.5/MathJax.js?config=TeX-AMS-MML_SVG\"></script><script type=\"text/javascript\">if (window.MathJax && window.MathJax.Hub && window.MathJax.Hub.Config) {window.MathJax.Hub.Config({SVG: {font: \"STIX-Web\"}});}</script>                <script type=\"text/javascript\">window.PlotlyConfig = {MathJaxConfig: 'local'};</script>\n",
              "        <script charset=\"utf-8\" src=\"https://cdn.plot.ly/plotly-2.35.2.min.js\"></script>                <div id=\"48bd6ec4-70ce-4459-949a-a1811e88394a\" class=\"plotly-graph-div\" style=\"height:525px; width:100%;\"></div>            <script type=\"text/javascript\">                                    window.PLOTLYENV=window.PLOTLYENV || {};                                    if (document.getElementById(\"48bd6ec4-70ce-4459-949a-a1811e88394a\")) {                    Plotly.newPlot(                        \"48bd6ec4-70ce-4459-949a-a1811e88394a\",                        [{\"hovertemplate\":\"x=%{x}\\u003cbr\\u003ey=%{y}\\u003cbr\\u003etext=%{text}\\u003cextra\\u003e\\u003c\\u002fextra\\u003e\",\"legendgroup\":\"\",\"marker\":{\"color\":\"#636efa\",\"symbol\":\"circle\"},\"mode\":\"markers+text\",\"name\":\"\",\"orientation\":\"v\",\"showlegend\":false,\"text\":[\"de\",\"y\",\"la\",\"en\",\"a\",\"que\",\"el\",\"los\",\"un\",\"no\",\"se\",\"por\",\"con\",\"del\",\"me\",\"las\",\"una\",\"su\",\"al\",\"es\",\"más\",\"le\",\"como\",\"pero\",\"para\",\"mi\",\"lo\",\"yo\",\"sus\",\"muy\",\"usted\",\"era\",\"o\",\"the\",\"sin\",\"había\",\"españa\",\"si\",\"»\",\"dos\",\"porque\",\"ni\",\"donde\",\"tan\",\"of\",\"cuando\",\"todo\",\"ha\",\"ya\",\"hasta\",\"después\",\"poco\",\"mucho\",\"él\",\"nos\",\"casa\",\"hay\",\"son\",\"he\",\"tiempo\",\"fué\",\"borrow\",\"—el\",\"desde\",\"entre\",\"don\",\"hombre\",\"estaba\",\"jorge\",\"mis\",\"país\",\"este\",\"sobre\",\"unos\",\"madrid\",\"to\",\"bien\",\"project\",\"años\",\"ser\",\"antes\",\"or\",\"and\",\"tres\",\"aquí\",\"día\",\"vez\",\"camino\",\"parte\",\"allí\",\"dijo\",\"todos\",\"ciudad\",\"mí\",\"noche\",\"está\",\"you\",\"in\",\"aunque\",\"caballo\",\"gran\",\"antonio\",\"menos\",\"uno\",\"tenía\",\"otro\",\"esta\",\"muchos\",\"gitano\",\"han\",\"inglés\",\"casi\",\"otros\",\"otra\",\"qué\",\"e\",\"ellos\",\"—la\",\"veces\",\"nuevo\",\"portugal\",\"ella\",\"así\",\"mismo\",\"puede\",\"lisboa\",\"quien\",\"según\",\"gutenberg™\",\"nada\",\"puerta\",\"tal\",\"gente\",\"vida\",\"pues\",\"decir\",\"sólo\",\"amigo\",\"mejor\",\"eran\",\"aquel\",\"tiene\",\"aún\",\"eso\",\"unas\",\"modo\",\"tierra\",\"entonces\",\"ver\",\"muchas\"],\"x\":[-6.2414937,-2.0868425,-17.75256,-4.5940404,-1.622149,42.798843,18.135588,-18.598997,45.751976,44.29824,28.609194,-2.354673,-1.6040856,18.3276,37.17131,-25.15256,-17.762302,44.01247,17.05254,46.962273,10.387474,37.194412,37.846622,42.566093,-4.779806,43.92156,44.648624,44.944866,-17.650763,38.565197,45.867832,8.776939,-25.699095,-67.85805,15.933079,45.1991,-9.111819,44.631866,38.326256,-28.298326,40.285755,-14.915287,-13.762124,4.947537,-69.04791,-6.3592024,42.41944,46.23354,28.058346,-31.541277,-8.442252,18.006596,46.062996,41.939407,25.984653,27.50649,47.477375,-15.028958,45.854282,47.562775,-7.775669,7.768726,-33.982666,-31.540535,-22.435692,50.50163,40.54211,-4.9657474,21.878006,-12.372259,34.943565,44.34688,-1.3454739,-29.588793,-25.548975,-68.87471,41.284283,-66.34578,-29.8418,40.493813,-30.412163,-68.35986,-67.79527,-28.271738,45.531357,-10.88901,38.22977,-11.931711,-7.7758584,23.735367,35.422318,-18.66926,-16.193491,5.8090806,-15.299412,37.133984,-68.573074,-68.433334,19.31889,2.3680196,11.490773,29.762861,-7.9959283,-20.32358,8.220541,45.70908,-17.737368,-16.90612,-28.367434,45.545353,40.08494,-21.603647,-18.35907,22.083769,43.673203,-60.674862,-18.253664,-33.751175,-12.950646,-33.07138,-9.152083,41.93023,39.976982,42.527973,46.29499,-12.912336,39.726818,34.40517,-65.05931,42.56462,-14.264959,45.335114,3.3677335,0.5857877,38.99754,45.0825,4.797135,49.031254,45.120285,-18.29127,45.256252,42.122265,-24.691526,42.114975,-26.664915,39.736824,-8.188263,22.95878,34.94743,-12.957196],\"xaxis\":\"x\",\"y\":[14.609021,17.89341,-32.069904,14.588591,-19.253822,0.56469893,-29.80066,29.42026,-5.2282443,12.290567,23.337933,15.169964,14.134282,-29.925587,-5.134293,21.138403,-30.621603,-6.4262047,-29.46516,9.275541,15.212672,-4.9131484,12.244913,-1.08904,15.413137,-6.629318,2.8011394,6.124713,29.726421,-11.085613,4.973424,25.977327,17.922901,0.33494997,24.992271,17.969976,13.3153515,10.052594,1.8295937,18.641947,0.8359052,26.647955,-29.094128,28.671156,-2.4254825,-31.012594,-10.498593,16.698462,22.056293,-6.1900992,-27.051704,-18.352037,-2.7557087,-9.569035,23.168941,-19.77601,11.174515,27.997879,16.946108,0.5436698,-25.784954,-35.520187,-17.72699,-6.193517,25.393085,2.3514378,-4.3154416,-33.36449,31.981506,29.322187,-12.921333,-4.698324,14.584229,16.181843,-11.667408,-2.3380222,10.799363,0.6618826,15.462444,13.221032,12.415021,-1.0448536,-0.94118303,18.550423,3.7572222,-31.16721,20.118675,-30.841843,11.565656,22.515102,-4.1764097,28.162233,-23.859741,10.564821,-22.55516,1.1839749,-0.91456056,-2.2917254,23.558111,-27.518831,13.924801,-7.634067,32.1066,25.499113,25.417604,-2.6541562,-31.74672,27.815647,-24.767542,17.2083,-3.158823,22.009605,28.562088,-25.680246,6.097614,-8.9427,28.847292,-17.388802,32.18339,-21.888744,14.014185,-9.367217,2.789419,-11.394888,8.730423,-26.776278,-6.923379,-3.8233798,1.1389534,13.955145,-24.984314,-0.7386783,15.625427,10.967497,16.740185,4.185697,28.62012,5.2655215,0.22871932,26.570475,-4.911194,8.463959,13.493695,12.643641,15.446687,14.373019,12.207143,21.208408,-6.5955,32.07726],\"yaxis\":\"y\",\"type\":\"scatter\"}],                        {\"template\":{\"data\":{\"histogram2dcontour\":[{\"type\":\"histogram2dcontour\",\"colorbar\":{\"outlinewidth\":0,\"ticks\":\"\"},\"colorscale\":[[0.0,\"#0d0887\"],[0.1111111111111111,\"#46039f\"],[0.2222222222222222,\"#7201a8\"],[0.3333333333333333,\"#9c179e\"],[0.4444444444444444,\"#bd3786\"],[0.5555555555555556,\"#d8576b\"],[0.6666666666666666,\"#ed7953\"],[0.7777777777777778,\"#fb9f3a\"],[0.8888888888888888,\"#fdca26\"],[1.0,\"#f0f921\"]]}],\"choropleth\":[{\"type\":\"choropleth\",\"colorbar\":{\"outlinewidth\":0,\"ticks\":\"\"}}],\"histogram2d\":[{\"type\":\"histogram2d\",\"colorbar\":{\"outlinewidth\":0,\"ticks\":\"\"},\"colorscale\":[[0.0,\"#0d0887\"],[0.1111111111111111,\"#46039f\"],[0.2222222222222222,\"#7201a8\"],[0.3333333333333333,\"#9c179e\"],[0.4444444444444444,\"#bd3786\"],[0.5555555555555556,\"#d8576b\"],[0.6666666666666666,\"#ed7953\"],[0.7777777777777778,\"#fb9f3a\"],[0.8888888888888888,\"#fdca26\"],[1.0,\"#f0f921\"]]}],\"heatmap\":[{\"type\":\"heatmap\",\"colorbar\":{\"outlinewidth\":0,\"ticks\":\"\"},\"colorscale\":[[0.0,\"#0d0887\"],[0.1111111111111111,\"#46039f\"],[0.2222222222222222,\"#7201a8\"],[0.3333333333333333,\"#9c179e\"],[0.4444444444444444,\"#bd3786\"],[0.5555555555555556,\"#d8576b\"],[0.6666666666666666,\"#ed7953\"],[0.7777777777777778,\"#fb9f3a\"],[0.8888888888888888,\"#fdca26\"],[1.0,\"#f0f921\"]]}],\"heatmapgl\":[{\"type\":\"heatmapgl\",\"colorbar\":{\"outlinewidth\":0,\"ticks\":\"\"},\"colorscale\":[[0.0,\"#0d0887\"],[0.1111111111111111,\"#46039f\"],[0.2222222222222222,\"#7201a8\"],[0.3333333333333333,\"#9c179e\"],[0.4444444444444444,\"#bd3786\"],[0.5555555555555556,\"#d8576b\"],[0.6666666666666666,\"#ed7953\"],[0.7777777777777778,\"#fb9f3a\"],[0.8888888888888888,\"#fdca26\"],[1.0,\"#f0f921\"]]}],\"contourcarpet\":[{\"type\":\"contourcarpet\",\"colorbar\":{\"outlinewidth\":0,\"ticks\":\"\"}}],\"contour\":[{\"type\":\"contour\",\"colorbar\":{\"outlinewidth\":0,\"ticks\":\"\"},\"colorscale\":[[0.0,\"#0d0887\"],[0.1111111111111111,\"#46039f\"],[0.2222222222222222,\"#7201a8\"],[0.3333333333333333,\"#9c179e\"],[0.4444444444444444,\"#bd3786\"],[0.5555555555555556,\"#d8576b\"],[0.6666666666666666,\"#ed7953\"],[0.7777777777777778,\"#fb9f3a\"],[0.8888888888888888,\"#fdca26\"],[1.0,\"#f0f921\"]]}],\"surface\":[{\"type\":\"surface\",\"colorbar\":{\"outlinewidth\":0,\"ticks\":\"\"},\"colorscale\":[[0.0,\"#0d0887\"],[0.1111111111111111,\"#46039f\"],[0.2222222222222222,\"#7201a8\"],[0.3333333333333333,\"#9c179e\"],[0.4444444444444444,\"#bd3786\"],[0.5555555555555556,\"#d8576b\"],[0.6666666666666666,\"#ed7953\"],[0.7777777777777778,\"#fb9f3a\"],[0.8888888888888888,\"#fdca26\"],[1.0,\"#f0f921\"]]}],\"mesh3d\":[{\"type\":\"mesh3d\",\"colorbar\":{\"outlinewidth\":0,\"ticks\":\"\"}}],\"scatter\":[{\"fillpattern\":{\"fillmode\":\"overlay\",\"size\":10,\"solidity\":0.2},\"type\":\"scatter\"}],\"parcoords\":[{\"type\":\"parcoords\",\"line\":{\"colorbar\":{\"outlinewidth\":0,\"ticks\":\"\"}}}],\"scatterpolargl\":[{\"type\":\"scatterpolargl\",\"marker\":{\"colorbar\":{\"outlinewidth\":0,\"ticks\":\"\"}}}],\"bar\":[{\"error_x\":{\"color\":\"#2a3f5f\"},\"error_y\":{\"color\":\"#2a3f5f\"},\"marker\":{\"line\":{\"color\":\"#E5ECF6\",\"width\":0.5},\"pattern\":{\"fillmode\":\"overlay\",\"size\":10,\"solidity\":0.2}},\"type\":\"bar\"}],\"scattergeo\":[{\"type\":\"scattergeo\",\"marker\":{\"colorbar\":{\"outlinewidth\":0,\"ticks\":\"\"}}}],\"scatterpolar\":[{\"type\":\"scatterpolar\",\"marker\":{\"colorbar\":{\"outlinewidth\":0,\"ticks\":\"\"}}}],\"histogram\":[{\"marker\":{\"pattern\":{\"fillmode\":\"overlay\",\"size\":10,\"solidity\":0.2}},\"type\":\"histogram\"}],\"scattergl\":[{\"type\":\"scattergl\",\"marker\":{\"colorbar\":{\"outlinewidth\":0,\"ticks\":\"\"}}}],\"scatter3d\":[{\"type\":\"scatter3d\",\"line\":{\"colorbar\":{\"outlinewidth\":0,\"ticks\":\"\"}},\"marker\":{\"colorbar\":{\"outlinewidth\":0,\"ticks\":\"\"}}}],\"scattermapbox\":[{\"type\":\"scattermapbox\",\"marker\":{\"colorbar\":{\"outlinewidth\":0,\"ticks\":\"\"}}}],\"scatterternary\":[{\"type\":\"scatterternary\",\"marker\":{\"colorbar\":{\"outlinewidth\":0,\"ticks\":\"\"}}}],\"scattercarpet\":[{\"type\":\"scattercarpet\",\"marker\":{\"colorbar\":{\"outlinewidth\":0,\"ticks\":\"\"}}}],\"carpet\":[{\"aaxis\":{\"endlinecolor\":\"#2a3f5f\",\"gridcolor\":\"white\",\"linecolor\":\"white\",\"minorgridcolor\":\"white\",\"startlinecolor\":\"#2a3f5f\"},\"baxis\":{\"endlinecolor\":\"#2a3f5f\",\"gridcolor\":\"white\",\"linecolor\":\"white\",\"minorgridcolor\":\"white\",\"startlinecolor\":\"#2a3f5f\"},\"type\":\"carpet\"}],\"table\":[{\"cells\":{\"fill\":{\"color\":\"#EBF0F8\"},\"line\":{\"color\":\"white\"}},\"header\":{\"fill\":{\"color\":\"#C8D4E3\"},\"line\":{\"color\":\"white\"}},\"type\":\"table\"}],\"barpolar\":[{\"marker\":{\"line\":{\"color\":\"#E5ECF6\",\"width\":0.5},\"pattern\":{\"fillmode\":\"overlay\",\"size\":10,\"solidity\":0.2}},\"type\":\"barpolar\"}],\"pie\":[{\"automargin\":true,\"type\":\"pie\"}]},\"layout\":{\"autotypenumbers\":\"strict\",\"colorway\":[\"#636efa\",\"#EF553B\",\"#00cc96\",\"#ab63fa\",\"#FFA15A\",\"#19d3f3\",\"#FF6692\",\"#B6E880\",\"#FF97FF\",\"#FECB52\"],\"font\":{\"color\":\"#2a3f5f\"},\"hovermode\":\"closest\",\"hoverlabel\":{\"align\":\"left\"},\"paper_bgcolor\":\"white\",\"plot_bgcolor\":\"#E5ECF6\",\"polar\":{\"bgcolor\":\"#E5ECF6\",\"angularaxis\":{\"gridcolor\":\"white\",\"linecolor\":\"white\",\"ticks\":\"\"},\"radialaxis\":{\"gridcolor\":\"white\",\"linecolor\":\"white\",\"ticks\":\"\"}},\"ternary\":{\"bgcolor\":\"#E5ECF6\",\"aaxis\":{\"gridcolor\":\"white\",\"linecolor\":\"white\",\"ticks\":\"\"},\"baxis\":{\"gridcolor\":\"white\",\"linecolor\":\"white\",\"ticks\":\"\"},\"caxis\":{\"gridcolor\":\"white\",\"linecolor\":\"white\",\"ticks\":\"\"}},\"coloraxis\":{\"colorbar\":{\"outlinewidth\":0,\"ticks\":\"\"}},\"colorscale\":{\"sequential\":[[0.0,\"#0d0887\"],[0.1111111111111111,\"#46039f\"],[0.2222222222222222,\"#7201a8\"],[0.3333333333333333,\"#9c179e\"],[0.4444444444444444,\"#bd3786\"],[0.5555555555555556,\"#d8576b\"],[0.6666666666666666,\"#ed7953\"],[0.7777777777777778,\"#fb9f3a\"],[0.8888888888888888,\"#fdca26\"],[1.0,\"#f0f921\"]],\"sequentialminus\":[[0.0,\"#0d0887\"],[0.1111111111111111,\"#46039f\"],[0.2222222222222222,\"#7201a8\"],[0.3333333333333333,\"#9c179e\"],[0.4444444444444444,\"#bd3786\"],[0.5555555555555556,\"#d8576b\"],[0.6666666666666666,\"#ed7953\"],[0.7777777777777778,\"#fb9f3a\"],[0.8888888888888888,\"#fdca26\"],[1.0,\"#f0f921\"]],\"diverging\":[[0,\"#8e0152\"],[0.1,\"#c51b7d\"],[0.2,\"#de77ae\"],[0.3,\"#f1b6da\"],[0.4,\"#fde0ef\"],[0.5,\"#f7f7f7\"],[0.6,\"#e6f5d0\"],[0.7,\"#b8e186\"],[0.8,\"#7fbc41\"],[0.9,\"#4d9221\"],[1,\"#276419\"]]},\"xaxis\":{\"gridcolor\":\"white\",\"linecolor\":\"white\",\"ticks\":\"\",\"title\":{\"standoff\":15},\"zerolinecolor\":\"white\",\"automargin\":true,\"zerolinewidth\":2},\"yaxis\":{\"gridcolor\":\"white\",\"linecolor\":\"white\",\"ticks\":\"\",\"title\":{\"standoff\":15},\"zerolinecolor\":\"white\",\"automargin\":true,\"zerolinewidth\":2},\"scene\":{\"xaxis\":{\"backgroundcolor\":\"#E5ECF6\",\"gridcolor\":\"white\",\"linecolor\":\"white\",\"showbackground\":true,\"ticks\":\"\",\"zerolinecolor\":\"white\",\"gridwidth\":2},\"yaxis\":{\"backgroundcolor\":\"#E5ECF6\",\"gridcolor\":\"white\",\"linecolor\":\"white\",\"showbackground\":true,\"ticks\":\"\",\"zerolinecolor\":\"white\",\"gridwidth\":2},\"zaxis\":{\"backgroundcolor\":\"#E5ECF6\",\"gridcolor\":\"white\",\"linecolor\":\"white\",\"showbackground\":true,\"ticks\":\"\",\"zerolinecolor\":\"white\",\"gridwidth\":2}},\"shapedefaults\":{\"line\":{\"color\":\"#2a3f5f\"}},\"annotationdefaults\":{\"arrowcolor\":\"#2a3f5f\",\"arrowhead\":0,\"arrowwidth\":1},\"geo\":{\"bgcolor\":\"white\",\"landcolor\":\"#E5ECF6\",\"subunitcolor\":\"white\",\"showland\":true,\"showlakes\":true,\"lakecolor\":\"white\"},\"title\":{\"x\":0.05},\"mapbox\":{\"style\":\"light\"}}},\"xaxis\":{\"anchor\":\"y\",\"domain\":[0.0,1.0],\"title\":{\"text\":\"x\"}},\"yaxis\":{\"anchor\":\"x\",\"domain\":[0.0,1.0],\"title\":{\"text\":\"y\"}},\"legend\":{\"tracegroupgap\":0},\"title\":{\"text\":\"Visualización de Embeddings: sg=0_window=4\"}},                        {\"responsive\": true}                    ).then(function(){\n",
              "                            \n",
              "var gd = document.getElementById('48bd6ec4-70ce-4459-949a-a1811e88394a');\n",
              "var x = new MutationObserver(function (mutations, observer) {{\n",
              "        var display = window.getComputedStyle(gd).display;\n",
              "        if (!display || display === 'none') {{\n",
              "            console.log([gd, 'removed!']);\n",
              "            Plotly.purge(gd);\n",
              "            observer.disconnect();\n",
              "        }}\n",
              "}});\n",
              "\n",
              "// Listen for the removal of the full notebook cells\n",
              "var notebookContainer = gd.closest('#notebook-container');\n",
              "if (notebookContainer) {{\n",
              "    x.observe(notebookContainer, {childList: true});\n",
              "}}\n",
              "\n",
              "// Listen for the clearing of the current output cell\n",
              "var outputEl = gd.closest('.output');\n",
              "if (outputEl) {{\n",
              "    x.observe(outputEl, {childList: true});\n",
              "}}\n",
              "\n",
              "                        })                };                            </script>        </div>\n",
              "</body>\n",
              "</html>"
            ]
          },
          "metadata": {}
        },
        {
          "output_type": "stream",
          "name": "stdout",
          "text": [
            "Generando visualización para el modelo sg=1_window=2...\n"
          ]
        },
        {
          "output_type": "display_data",
          "data": {
            "text/html": [
              "<html>\n",
              "<head><meta charset=\"utf-8\" /></head>\n",
              "<body>\n",
              "    <div>            <script src=\"https://cdnjs.cloudflare.com/ajax/libs/mathjax/2.7.5/MathJax.js?config=TeX-AMS-MML_SVG\"></script><script type=\"text/javascript\">if (window.MathJax && window.MathJax.Hub && window.MathJax.Hub.Config) {window.MathJax.Hub.Config({SVG: {font: \"STIX-Web\"}});}</script>                <script type=\"text/javascript\">window.PlotlyConfig = {MathJaxConfig: 'local'};</script>\n",
              "        <script charset=\"utf-8\" src=\"https://cdn.plot.ly/plotly-2.35.2.min.js\"></script>                <div id=\"d6391892-ab06-4d33-9f22-eec0eecf264c\" class=\"plotly-graph-div\" style=\"height:525px; width:100%;\"></div>            <script type=\"text/javascript\">                                    window.PLOTLYENV=window.PLOTLYENV || {};                                    if (document.getElementById(\"d6391892-ab06-4d33-9f22-eec0eecf264c\")) {                    Plotly.newPlot(                        \"d6391892-ab06-4d33-9f22-eec0eecf264c\",                        [{\"hovertemplate\":\"x=%{x}\\u003cbr\\u003ey=%{y}\\u003cbr\\u003etext=%{text}\\u003cextra\\u003e\\u003c\\u002fextra\\u003e\",\"legendgroup\":\"\",\"marker\":{\"color\":\"#636efa\",\"symbol\":\"circle\"},\"mode\":\"markers+text\",\"name\":\"\",\"orientation\":\"v\",\"showlegend\":false,\"text\":[\"de\",\"y\",\"la\",\"en\",\"a\",\"que\",\"el\",\"los\",\"un\",\"no\",\"se\",\"por\",\"con\",\"del\",\"me\",\"las\",\"una\",\"su\",\"al\",\"es\",\"más\",\"le\",\"como\",\"pero\",\"para\",\"mi\",\"lo\",\"yo\",\"sus\",\"muy\",\"usted\",\"era\",\"o\",\"the\",\"sin\",\"había\",\"españa\",\"si\",\"»\",\"dos\",\"porque\",\"ni\",\"donde\",\"tan\",\"of\",\"cuando\",\"todo\",\"ha\",\"ya\",\"hasta\",\"después\",\"poco\",\"mucho\",\"él\",\"nos\",\"casa\",\"hay\",\"son\",\"he\",\"tiempo\",\"fué\",\"borrow\",\"—el\",\"desde\",\"entre\",\"don\",\"hombre\",\"estaba\",\"jorge\",\"mis\",\"país\",\"este\",\"sobre\",\"unos\",\"madrid\",\"to\",\"bien\",\"project\",\"años\",\"ser\",\"antes\",\"or\",\"and\",\"tres\",\"aquí\",\"día\",\"vez\",\"camino\",\"parte\",\"allí\",\"dijo\",\"todos\",\"ciudad\",\"mí\",\"noche\",\"está\",\"you\",\"in\",\"aunque\",\"caballo\",\"gran\",\"antonio\",\"menos\",\"uno\",\"tenía\",\"otro\",\"esta\",\"muchos\",\"gitano\",\"han\",\"inglés\",\"casi\",\"otros\",\"otra\",\"qué\",\"e\",\"ellos\",\"—la\",\"veces\",\"nuevo\",\"portugal\",\"ella\",\"así\",\"mismo\",\"puede\",\"lisboa\",\"quien\",\"según\",\"gutenberg™\",\"nada\",\"puerta\",\"tal\",\"gente\",\"vida\",\"pues\",\"decir\",\"sólo\",\"amigo\",\"mejor\",\"eran\",\"aquel\",\"tiene\",\"aún\",\"eso\",\"unas\",\"modo\",\"tierra\",\"entonces\",\"ver\",\"muchas\"],\"x\":[-2.3128395,-5.286284,10.886895,-3.7382882,1.619805,-17.588108,14.057099,-17.030073,8.581658,-21.323448,7.273838,-3.9368725,-3.5043724,10.713036,-24.888649,-4.9187274,17.075384,6.1206827,9.291152,-20.690819,-14.435903,-10.342116,-12.434227,-15.9803095,-1.5358562,-9.625082,-18.718685,-19.264214,-15.93178,7.5351343,-23.82047,5.1768427,-7.4378667,56.06718,-10.98962,-26.484121,3.9979973,-24.705515,-33.182076,-7.1016154,-20.90059,-24.388508,13.927439,-9.294091,55.413815,-2.0806215,-1.6570324,-33.81423,-25.322939,11.412702,16.257977,13.560323,-8.19386,-1.2353745,-0.47601798,2.0555701,3.6528168,-11.871556,-28.994465,-5.4582963,8.785654,27.547308,29.493664,9.353414,-1.9821494,-26.890692,2.0437043,10.615146,-14.0228195,-15.977188,-31.960474,-7.636715,5.980029,-12.060418,28.972397,57.529713,-17.580284,51.828434,-12.122086,-12.904656,24.153824,56.552555,56.127636,-8.036579,-23.10435,13.554676,24.710585,15.994592,6.591122,-0.97512734,-5.2180467,-16.661884,15.872683,1.09835,11.619781,14.642093,58.124966,55.223892,-15.793135,8.235426,3.4634204,31.215248,-21.72108,1.5128993,-12.416639,5.4562497,11.972727,-22.993608,21.184393,-27.70597,-12.542978,-8.556636,-17.462656,17.00197,-28.810526,44.618744,-17.478525,29.130102,-25.59344,21.885063,4.240336,-2.2759976,-30.708183,7.3734255,-22.04918,27.47837,-4.833426,-18.578314,52.510517,-12.159818,17.14481,-4.7480073,7.5764475,-17.581884,-16.054811,-19.196285,-3.1849167,-9.995499,-13.660683,-18.413763,-3.0399203,-26.607792,-12.675671,-10.161018,-5.3172545,-20.17123,7.1556826,-25.442188,1.1671617,-11.968522],\"xaxis\":\"x\",\"y\":[-11.850957,-4.776781,-17.57449,-3.6627657,4.980733,14.6361685,15.011082,-27.687405,23.979168,11.33643,-25.48094,-21.015505,-0.8548048,-24.138243,5.2733054,-20.56836,-18.582409,6.9047647,0.6141049,23.9247,-5.737432,8.5717125,21.755232,15.125264,-1.6342762,26.127914,3.6199775,14.433589,-13.027989,18.224045,19.226744,26.639584,-24.222124,-4.0003333,29.179436,-2.3418903,-16.083899,10.508494,-2.897688,-26.512144,-4.142713,-16.910736,-5.6884704,-12.2692,-11.508907,-27.198635,18.634245,6.1095223,2.1109817,1.828844,5.964937,25.6194,28.271526,12.536862,32.42592,15.589942,-22.40243,-19.926435,-1.8689415,24.490997,-5.625801,-9.42883,7.7606015,-9.859052,-22.518911,23.246244,19.53707,-1.4128197,-0.47774884,-13.0482025,18.302399,19.651468,-4.550796,-29.568487,-2.810601,-9.112508,0.09533505,-12.594314,-30.659092,2.4365647,-6.493816,-10.952695,-10.047039,-31.31182,10.768955,3.644798,-15.7980585,1.101994,-20.363314,-24.878828,31.34896,-20.405813,-9.8534155,1.3256313,-15.641352,-18.415318,-7.1189375,-2.6848326,24.921125,13.45906,29.913132,0.07896526,-2.1922555,-16.788158,-8.507395,27.863125,-19.493895,-19.776503,16.212725,-2.3406842,17.287777,-8.664192,-22.57813,-20.477867,18.766907,-4.7400064,-6.957212,6.415956,-12.3743725,-19.178299,-15.300597,16.583324,-5.548175,9.408511,17.238855,2.7861762,12.295834,10.386418,-13.039061,19.714811,-4.86495,22.08894,-22.275883,26.089066,17.267416,18.01634,-9.739686,18.178034,18.98457,-21.004684,22.630316,14.405557,-21.338259,19.648226,-27.006392,26.69482,-18.658709,-0.28409135,5.1866436,-15.996022],\"yaxis\":\"y\",\"type\":\"scatter\"}],                        {\"template\":{\"data\":{\"histogram2dcontour\":[{\"type\":\"histogram2dcontour\",\"colorbar\":{\"outlinewidth\":0,\"ticks\":\"\"},\"colorscale\":[[0.0,\"#0d0887\"],[0.1111111111111111,\"#46039f\"],[0.2222222222222222,\"#7201a8\"],[0.3333333333333333,\"#9c179e\"],[0.4444444444444444,\"#bd3786\"],[0.5555555555555556,\"#d8576b\"],[0.6666666666666666,\"#ed7953\"],[0.7777777777777778,\"#fb9f3a\"],[0.8888888888888888,\"#fdca26\"],[1.0,\"#f0f921\"]]}],\"choropleth\":[{\"type\":\"choropleth\",\"colorbar\":{\"outlinewidth\":0,\"ticks\":\"\"}}],\"histogram2d\":[{\"type\":\"histogram2d\",\"colorbar\":{\"outlinewidth\":0,\"ticks\":\"\"},\"colorscale\":[[0.0,\"#0d0887\"],[0.1111111111111111,\"#46039f\"],[0.2222222222222222,\"#7201a8\"],[0.3333333333333333,\"#9c179e\"],[0.4444444444444444,\"#bd3786\"],[0.5555555555555556,\"#d8576b\"],[0.6666666666666666,\"#ed7953\"],[0.7777777777777778,\"#fb9f3a\"],[0.8888888888888888,\"#fdca26\"],[1.0,\"#f0f921\"]]}],\"heatmap\":[{\"type\":\"heatmap\",\"colorbar\":{\"outlinewidth\":0,\"ticks\":\"\"},\"colorscale\":[[0.0,\"#0d0887\"],[0.1111111111111111,\"#46039f\"],[0.2222222222222222,\"#7201a8\"],[0.3333333333333333,\"#9c179e\"],[0.4444444444444444,\"#bd3786\"],[0.5555555555555556,\"#d8576b\"],[0.6666666666666666,\"#ed7953\"],[0.7777777777777778,\"#fb9f3a\"],[0.8888888888888888,\"#fdca26\"],[1.0,\"#f0f921\"]]}],\"heatmapgl\":[{\"type\":\"heatmapgl\",\"colorbar\":{\"outlinewidth\":0,\"ticks\":\"\"},\"colorscale\":[[0.0,\"#0d0887\"],[0.1111111111111111,\"#46039f\"],[0.2222222222222222,\"#7201a8\"],[0.3333333333333333,\"#9c179e\"],[0.4444444444444444,\"#bd3786\"],[0.5555555555555556,\"#d8576b\"],[0.6666666666666666,\"#ed7953\"],[0.7777777777777778,\"#fb9f3a\"],[0.8888888888888888,\"#fdca26\"],[1.0,\"#f0f921\"]]}],\"contourcarpet\":[{\"type\":\"contourcarpet\",\"colorbar\":{\"outlinewidth\":0,\"ticks\":\"\"}}],\"contour\":[{\"type\":\"contour\",\"colorbar\":{\"outlinewidth\":0,\"ticks\":\"\"},\"colorscale\":[[0.0,\"#0d0887\"],[0.1111111111111111,\"#46039f\"],[0.2222222222222222,\"#7201a8\"],[0.3333333333333333,\"#9c179e\"],[0.4444444444444444,\"#bd3786\"],[0.5555555555555556,\"#d8576b\"],[0.6666666666666666,\"#ed7953\"],[0.7777777777777778,\"#fb9f3a\"],[0.8888888888888888,\"#fdca26\"],[1.0,\"#f0f921\"]]}],\"surface\":[{\"type\":\"surface\",\"colorbar\":{\"outlinewidth\":0,\"ticks\":\"\"},\"colorscale\":[[0.0,\"#0d0887\"],[0.1111111111111111,\"#46039f\"],[0.2222222222222222,\"#7201a8\"],[0.3333333333333333,\"#9c179e\"],[0.4444444444444444,\"#bd3786\"],[0.5555555555555556,\"#d8576b\"],[0.6666666666666666,\"#ed7953\"],[0.7777777777777778,\"#fb9f3a\"],[0.8888888888888888,\"#fdca26\"],[1.0,\"#f0f921\"]]}],\"mesh3d\":[{\"type\":\"mesh3d\",\"colorbar\":{\"outlinewidth\":0,\"ticks\":\"\"}}],\"scatter\":[{\"fillpattern\":{\"fillmode\":\"overlay\",\"size\":10,\"solidity\":0.2},\"type\":\"scatter\"}],\"parcoords\":[{\"type\":\"parcoords\",\"line\":{\"colorbar\":{\"outlinewidth\":0,\"ticks\":\"\"}}}],\"scatterpolargl\":[{\"type\":\"scatterpolargl\",\"marker\":{\"colorbar\":{\"outlinewidth\":0,\"ticks\":\"\"}}}],\"bar\":[{\"error_x\":{\"color\":\"#2a3f5f\"},\"error_y\":{\"color\":\"#2a3f5f\"},\"marker\":{\"line\":{\"color\":\"#E5ECF6\",\"width\":0.5},\"pattern\":{\"fillmode\":\"overlay\",\"size\":10,\"solidity\":0.2}},\"type\":\"bar\"}],\"scattergeo\":[{\"type\":\"scattergeo\",\"marker\":{\"colorbar\":{\"outlinewidth\":0,\"ticks\":\"\"}}}],\"scatterpolar\":[{\"type\":\"scatterpolar\",\"marker\":{\"colorbar\":{\"outlinewidth\":0,\"ticks\":\"\"}}}],\"histogram\":[{\"marker\":{\"pattern\":{\"fillmode\":\"overlay\",\"size\":10,\"solidity\":0.2}},\"type\":\"histogram\"}],\"scattergl\":[{\"type\":\"scattergl\",\"marker\":{\"colorbar\":{\"outlinewidth\":0,\"ticks\":\"\"}}}],\"scatter3d\":[{\"type\":\"scatter3d\",\"line\":{\"colorbar\":{\"outlinewidth\":0,\"ticks\":\"\"}},\"marker\":{\"colorbar\":{\"outlinewidth\":0,\"ticks\":\"\"}}}],\"scattermapbox\":[{\"type\":\"scattermapbox\",\"marker\":{\"colorbar\":{\"outlinewidth\":0,\"ticks\":\"\"}}}],\"scatterternary\":[{\"type\":\"scatterternary\",\"marker\":{\"colorbar\":{\"outlinewidth\":0,\"ticks\":\"\"}}}],\"scattercarpet\":[{\"type\":\"scattercarpet\",\"marker\":{\"colorbar\":{\"outlinewidth\":0,\"ticks\":\"\"}}}],\"carpet\":[{\"aaxis\":{\"endlinecolor\":\"#2a3f5f\",\"gridcolor\":\"white\",\"linecolor\":\"white\",\"minorgridcolor\":\"white\",\"startlinecolor\":\"#2a3f5f\"},\"baxis\":{\"endlinecolor\":\"#2a3f5f\",\"gridcolor\":\"white\",\"linecolor\":\"white\",\"minorgridcolor\":\"white\",\"startlinecolor\":\"#2a3f5f\"},\"type\":\"carpet\"}],\"table\":[{\"cells\":{\"fill\":{\"color\":\"#EBF0F8\"},\"line\":{\"color\":\"white\"}},\"header\":{\"fill\":{\"color\":\"#C8D4E3\"},\"line\":{\"color\":\"white\"}},\"type\":\"table\"}],\"barpolar\":[{\"marker\":{\"line\":{\"color\":\"#E5ECF6\",\"width\":0.5},\"pattern\":{\"fillmode\":\"overlay\",\"size\":10,\"solidity\":0.2}},\"type\":\"barpolar\"}],\"pie\":[{\"automargin\":true,\"type\":\"pie\"}]},\"layout\":{\"autotypenumbers\":\"strict\",\"colorway\":[\"#636efa\",\"#EF553B\",\"#00cc96\",\"#ab63fa\",\"#FFA15A\",\"#19d3f3\",\"#FF6692\",\"#B6E880\",\"#FF97FF\",\"#FECB52\"],\"font\":{\"color\":\"#2a3f5f\"},\"hovermode\":\"closest\",\"hoverlabel\":{\"align\":\"left\"},\"paper_bgcolor\":\"white\",\"plot_bgcolor\":\"#E5ECF6\",\"polar\":{\"bgcolor\":\"#E5ECF6\",\"angularaxis\":{\"gridcolor\":\"white\",\"linecolor\":\"white\",\"ticks\":\"\"},\"radialaxis\":{\"gridcolor\":\"white\",\"linecolor\":\"white\",\"ticks\":\"\"}},\"ternary\":{\"bgcolor\":\"#E5ECF6\",\"aaxis\":{\"gridcolor\":\"white\",\"linecolor\":\"white\",\"ticks\":\"\"},\"baxis\":{\"gridcolor\":\"white\",\"linecolor\":\"white\",\"ticks\":\"\"},\"caxis\":{\"gridcolor\":\"white\",\"linecolor\":\"white\",\"ticks\":\"\"}},\"coloraxis\":{\"colorbar\":{\"outlinewidth\":0,\"ticks\":\"\"}},\"colorscale\":{\"sequential\":[[0.0,\"#0d0887\"],[0.1111111111111111,\"#46039f\"],[0.2222222222222222,\"#7201a8\"],[0.3333333333333333,\"#9c179e\"],[0.4444444444444444,\"#bd3786\"],[0.5555555555555556,\"#d8576b\"],[0.6666666666666666,\"#ed7953\"],[0.7777777777777778,\"#fb9f3a\"],[0.8888888888888888,\"#fdca26\"],[1.0,\"#f0f921\"]],\"sequentialminus\":[[0.0,\"#0d0887\"],[0.1111111111111111,\"#46039f\"],[0.2222222222222222,\"#7201a8\"],[0.3333333333333333,\"#9c179e\"],[0.4444444444444444,\"#bd3786\"],[0.5555555555555556,\"#d8576b\"],[0.6666666666666666,\"#ed7953\"],[0.7777777777777778,\"#fb9f3a\"],[0.8888888888888888,\"#fdca26\"],[1.0,\"#f0f921\"]],\"diverging\":[[0,\"#8e0152\"],[0.1,\"#c51b7d\"],[0.2,\"#de77ae\"],[0.3,\"#f1b6da\"],[0.4,\"#fde0ef\"],[0.5,\"#f7f7f7\"],[0.6,\"#e6f5d0\"],[0.7,\"#b8e186\"],[0.8,\"#7fbc41\"],[0.9,\"#4d9221\"],[1,\"#276419\"]]},\"xaxis\":{\"gridcolor\":\"white\",\"linecolor\":\"white\",\"ticks\":\"\",\"title\":{\"standoff\":15},\"zerolinecolor\":\"white\",\"automargin\":true,\"zerolinewidth\":2},\"yaxis\":{\"gridcolor\":\"white\",\"linecolor\":\"white\",\"ticks\":\"\",\"title\":{\"standoff\":15},\"zerolinecolor\":\"white\",\"automargin\":true,\"zerolinewidth\":2},\"scene\":{\"xaxis\":{\"backgroundcolor\":\"#E5ECF6\",\"gridcolor\":\"white\",\"linecolor\":\"white\",\"showbackground\":true,\"ticks\":\"\",\"zerolinecolor\":\"white\",\"gridwidth\":2},\"yaxis\":{\"backgroundcolor\":\"#E5ECF6\",\"gridcolor\":\"white\",\"linecolor\":\"white\",\"showbackground\":true,\"ticks\":\"\",\"zerolinecolor\":\"white\",\"gridwidth\":2},\"zaxis\":{\"backgroundcolor\":\"#E5ECF6\",\"gridcolor\":\"white\",\"linecolor\":\"white\",\"showbackground\":true,\"ticks\":\"\",\"zerolinecolor\":\"white\",\"gridwidth\":2}},\"shapedefaults\":{\"line\":{\"color\":\"#2a3f5f\"}},\"annotationdefaults\":{\"arrowcolor\":\"#2a3f5f\",\"arrowhead\":0,\"arrowwidth\":1},\"geo\":{\"bgcolor\":\"white\",\"landcolor\":\"#E5ECF6\",\"subunitcolor\":\"white\",\"showland\":true,\"showlakes\":true,\"lakecolor\":\"white\"},\"title\":{\"x\":0.05},\"mapbox\":{\"style\":\"light\"}}},\"xaxis\":{\"anchor\":\"y\",\"domain\":[0.0,1.0],\"title\":{\"text\":\"x\"}},\"yaxis\":{\"anchor\":\"x\",\"domain\":[0.0,1.0],\"title\":{\"text\":\"y\"}},\"legend\":{\"tracegroupgap\":0},\"title\":{\"text\":\"Visualización de Embeddings: sg=1_window=2\"}},                        {\"responsive\": true}                    ).then(function(){\n",
              "                            \n",
              "var gd = document.getElementById('d6391892-ab06-4d33-9f22-eec0eecf264c');\n",
              "var x = new MutationObserver(function (mutations, observer) {{\n",
              "        var display = window.getComputedStyle(gd).display;\n",
              "        if (!display || display === 'none') {{\n",
              "            console.log([gd, 'removed!']);\n",
              "            Plotly.purge(gd);\n",
              "            observer.disconnect();\n",
              "        }}\n",
              "}});\n",
              "\n",
              "// Listen for the removal of the full notebook cells\n",
              "var notebookContainer = gd.closest('#notebook-container');\n",
              "if (notebookContainer) {{\n",
              "    x.observe(notebookContainer, {childList: true});\n",
              "}}\n",
              "\n",
              "// Listen for the clearing of the current output cell\n",
              "var outputEl = gd.closest('.output');\n",
              "if (outputEl) {{\n",
              "    x.observe(outputEl, {childList: true});\n",
              "}}\n",
              "\n",
              "                        })                };                            </script>        </div>\n",
              "</body>\n",
              "</html>"
            ]
          },
          "metadata": {}
        },
        {
          "output_type": "stream",
          "name": "stdout",
          "text": [
            "Generando visualización para el modelo sg=1_window=4...\n"
          ]
        }
      ]
    },
    {
      "cell_type": "code",
      "source": [
        "# Graficar los embeddings en 3D para el primer modelo entrenado\n",
        "MAX_WORDS = 200  # Número máximo de palabras para graficar\n",
        "\n",
        "# Reducir las dimensiones a 3D para el primer modelo\n",
        "first_model_key = list(models.keys())[0]  # Obtén el primer modelo de la lista\n",
        "first_model = models[first_model_key]  # Modelo seleccionado\n",
        "vecs, labels = reduce_dimensions(first_model, num_dimensions=3)\n",
        "\n",
        "\n",
        "fig = px.scatter_3d(\n",
        "    x=vecs[:MAX_WORDS, 0],\n",
        "    y=vecs[:MAX_WORDS, 1],\n",
        "    z=vecs[:MAX_WORDS, 2],\n",
        "    text=labels[:MAX_WORDS],\n",
        "    title=f\"Visualización de Embeddings en 3D: {first_model_key}\"\n",
        ")\n",
        "\n",
        "# Ajustar el tamaño de los marcadores\n",
        "fig.update_traces(marker_size=2)\n",
        "\n",
        "# Mostrar el gráfico (ajusta el renderer según tu entorno)\n",
        "fig.show(renderer=\"colab\")"
      ],
      "metadata": {
        "colab": {
          "base_uri": "https://localhost:8080/",
          "height": 542
        },
        "id": "4prNrGauNBa8",
        "outputId": "f2178f32-f2ef-4c43-e3eb-b9116465566e"
      },
      "execution_count": 18,
      "outputs": [
        {
          "output_type": "display_data",
          "data": {
            "text/html": [
              "<html>\n",
              "<head><meta charset=\"utf-8\" /></head>\n",
              "<body>\n",
              "    <div>            <script src=\"https://cdnjs.cloudflare.com/ajax/libs/mathjax/2.7.5/MathJax.js?config=TeX-AMS-MML_SVG\"></script><script type=\"text/javascript\">if (window.MathJax && window.MathJax.Hub && window.MathJax.Hub.Config) {window.MathJax.Hub.Config({SVG: {font: \"STIX-Web\"}});}</script>                <script type=\"text/javascript\">window.PlotlyConfig = {MathJaxConfig: 'local'};</script>\n",
              "        <script charset=\"utf-8\" src=\"https://cdn.plot.ly/plotly-2.35.2.min.js\"></script>                <div id=\"b2ff6f40-7d60-470e-bd35-da2956714b89\" class=\"plotly-graph-div\" style=\"height:525px; width:100%;\"></div>            <script type=\"text/javascript\">                                    window.PLOTLYENV=window.PLOTLYENV || {};                                    if (document.getElementById(\"b2ff6f40-7d60-470e-bd35-da2956714b89\")) {                    Plotly.newPlot(                        \"b2ff6f40-7d60-470e-bd35-da2956714b89\",                        [{\"hovertemplate\":\"x=%{x}\\u003cbr\\u003ey=%{y}\\u003cbr\\u003ez=%{z}\\u003cbr\\u003etext=%{text}\\u003cextra\\u003e\\u003c\\u002fextra\\u003e\",\"legendgroup\":\"\",\"marker\":{\"color\":\"#636efa\",\"symbol\":\"circle\",\"size\":2},\"mode\":\"markers+text\",\"name\":\"\",\"scene\":\"scene\",\"showlegend\":false,\"text\":[\"de\",\"y\",\"la\",\"en\",\"a\",\"que\",\"el\",\"los\",\"un\",\"no\",\"se\",\"por\",\"con\",\"del\",\"me\",\"las\",\"una\",\"su\",\"al\",\"es\",\"más\",\"le\",\"como\",\"pero\",\"para\",\"mi\",\"lo\",\"yo\",\"sus\",\"muy\",\"usted\",\"era\",\"o\",\"the\",\"sin\",\"había\",\"españa\",\"si\",\"»\",\"dos\",\"porque\",\"ni\",\"donde\",\"tan\",\"of\",\"cuando\",\"todo\",\"ha\",\"ya\",\"hasta\",\"después\",\"poco\",\"mucho\",\"él\",\"nos\",\"casa\",\"hay\",\"son\",\"he\",\"tiempo\",\"fué\",\"borrow\",\"—el\",\"desde\",\"entre\",\"don\",\"hombre\",\"estaba\",\"jorge\",\"mis\",\"país\",\"este\",\"sobre\",\"unos\",\"madrid\",\"to\",\"bien\",\"project\",\"años\",\"ser\",\"antes\",\"or\",\"and\",\"tres\",\"aquí\",\"día\",\"vez\",\"camino\",\"parte\",\"allí\",\"dijo\",\"todos\",\"ciudad\",\"mí\",\"noche\",\"está\",\"you\",\"in\",\"aunque\",\"caballo\",\"gran\",\"antonio\",\"menos\",\"uno\",\"tenía\",\"otro\",\"esta\",\"muchos\",\"gitano\",\"han\",\"inglés\",\"casi\",\"otros\",\"otra\",\"qué\",\"e\",\"ellos\",\"—la\",\"veces\",\"nuevo\",\"portugal\",\"ella\",\"así\",\"mismo\",\"puede\",\"lisboa\",\"quien\",\"según\",\"gutenberg™\",\"nada\",\"puerta\",\"tal\",\"gente\",\"vida\",\"pues\",\"decir\",\"sólo\",\"amigo\",\"mejor\",\"eran\",\"aquel\",\"tiene\",\"aún\",\"eso\",\"unas\",\"modo\",\"tierra\",\"entonces\",\"ver\",\"muchas\",\"1\",\"ahora\",\"también\",\"durante\",\"cuanto\",\"with\",\"sol\",\"hombres\",\"mañana\",\"hacer\",\"hacia\",\"cosa\",\"toda\",\"this\",\"mula\",\"cosas\",\"work\",\"habían\",\"calle\",\"ojos\",\"les\",\"español\",\"vi\",\"siempre\",\"libro\",\"algunos\",\"viaje\",\"llegar\",\"gitanos\",\"nunca\",\"verdad\",\"días\",\"embargo\",\"hermano\",\"buen\",\"biblia\",\"gutenberg\",\"ese\",\"mayor\",\"pueblo\",\"algo\",\"mano\",\"sociedad\",\"sido\",\"momento\",\"hablar\",\"pronto\",\"caballero\",\"dios\",\"inglaterra\"],\"x\":[-10.880308,8.223673,-16.105957,-3.817496,-6.7654896,17.443924,10.362108,-1.6406976,8.168258,27.793062,22.955612,0.6125451,-0.92393637,-0.40306973,26.36198,-3.5335224,-16.449995,5.1199336,-7.5985117,30.238924,12.343253,26.526403,21.020288,15.293625,-2.5733616,4.6834316,23.243862,26.555899,-1.3438704,17.082413,25.00447,29.942514,-10.524572,-33.334766,12.315453,28.865122,-9.448122,27.327885,24.994778,-10.742766,25.133783,-7.5520873,-16.782078,17.14606,-38.72814,13.727157,12.1352415,30.003298,29.481133,-16.747917,-12.010983,2.744821,14.110287,6.6923456,26.535532,-13.340002,29.007536,-0.31252843,30.7671,17.906595,3.857042,-1.731104,-15.233718,-16.24631,-6.2551794,-1.1387666,-14.156936,-9.452313,20.59077,-1.505887,12.699443,9.181964,1.1363896,-9.547006,-13.861427,-39.36934,24.919155,-33.23235,-7.5640454,15.228123,7.1532054,-37.298008,-36.60604,-11.014274,15.101312,-7.781599,20.308863,-12.57881,-16.099648,5.055911,19.125067,-1.1613007,-20.752228,3.1938143,-20.658833,22.552338,-38.267334,-38.55737,21.961308,-8.542002,9.443686,10.538405,12.381953,-4.198786,29.013887,12.326613,-15.720923,0.21496549,-11.427804,29.190054,10.218237,1.2085738,-2.9954836,5.6664414,28.555052,-24.777203,-3.0559063,-13.762136,-3.0962067,-14.455738,-12.045392,7.1195927,19.868608,12.558713,29.539135,-12.292281,6.1284165,20.32331,-30.848438,17.481087,-22.733433,14.106594,-12.61892,-15.194913,25.562328,24.124685,19.961163,23.457603,16.987062,-0.6672183,8.977899,26.313887,-13.308499,14.58202,-9.858114,15.302596,-16.352943,10.402397,6.740881,0.16234343,-26.808876,13.752719,24.564608,16.302792,17.353506,-37.810146,-10.90976,-5.60577,-21.864162,17.738768,-14.177551,20.023575,-15.782972,-33.769875,-17.818241,-1.9761267,-36.490913,29.067913,-21.259521,-1.2670151,24.327785,-15.43465,13.463935,27.612877,-8.723297,-0.6850202,9.842629,-5.6657186,-2.40466,30.498112,20.335787,-7.9693465,21.315805,25.99114,9.084275,-17.899635,-30.222475,12.193788,-20.428137,-11.4103365,26.78463,-17.777521,-15.952175,33.038,1.9359895,19.10132,-2.8476357,20.38969,12.366456,1.6577673],\"y\":[-13.013888,-7.673719,-8.321613,-20.516247,-6.9911284,1.1939837,5.317116,-23.752048,6.2397766,-0.3493871,-8.307022,-19.639967,-20.282356,31.282999,-10.24822,-18.55018,-5.425365,2.9193041,8.456721,7.1734657,-14.992288,-9.090431,-11.463605,5.523938,-18.455484,2.632234,9.5666685,6.2460837,-22.368074,-14.783166,9.925938,10.215484,-20.645306,-1.1569575,-11.246652,-2.5576415,-17.494482,2.555695,10.770634,-17.538551,0.7919823,-25.134249,0.41346067,-14.202314,-0.54408425,-12.4709015,8.336053,-3.8626044,-7.451798,8.183165,7.959376,24.798792,5.8813634,-12.989428,-10.177945,-16.257477,5.4811,-26.657898,-2.2704213,17.408829,-6.147572,7.1298757,12.206284,8.169634,-23.17963,6.739565,22.844366,4.0322504,-17.257193,-21.074982,20.861092,3.34384,-20.22735,-22.234701,8.973563,1.6608032,-0.2740888,-0.88709795,-23.854868,10.631823,-15.55469,-0.799499,0.2245622,-18.410711,4.157935,16.974096,3.9141166,18.663609,-13.228048,-5.7717137,-5.908984,-24.92593,-1.4004856,-10.496046,-5.767899,6.9467263,0.12052536,0.011609755,0.5348326,21.19806,1.9864826,-5.880886,-17.90157,-25.631947,3.4631274,5.298313,-7.0264163,-23.386969,21.26459,-2.5469158,22.308836,-20.599941,-24.334492,3.1147857,8.350483,9.56007,-25.131922,11.717114,-17.580301,17.148674,-15.333903,-12.021395,3.6568928,7.8836927,5.4184136,10.011524,-0.24321668,-4.1028757,-2.310417,12.913112,-4.6897564,8.794554,-14.025868,-12.117883,2.9312205,9.204951,-11.890768,13.459438,8.638756,-25.382784,5.205442,5.204465,-17.136982,11.70919,-14.648979,13.663059,-12.067511,0.47234476,25.916643,-18.411478,8.774339,3.7319853,0.519952,18.837128,0.20078108,0.88590366,15.644618,-22.516207,-4.1521277,9.5708,8.18205,2.9397268,-9.437175,-0.86108863,-9.158887,-16.545712,-0.08640246,-1.9690851,-3.429289,-23.103601,-3.237856,15.711393,-11.161682,-4.689824,22.389874,-22.921585,22.22281,4.3892336,-24.34875,-5.618779,10.150593,-22.307272,-1.5995132,5.9304767,10.652349,-12.126434,-2.3252566,6.495122,-7.040407,21.99599,-0.7931703,-8.776117,-13.877257,-7.715068,23.777248,9.734102,18.422474,12.932845,-13.498548,-7.318788],\"z\":[-4.4250503,-8.908835,-7.783827,9.348514,14.760243,12.672811,19.789534,-14.475563,19.046843,3.0795732,2.1581738,10.540064,13.223283,0.94761366,2.6470747,-14.542058,-8.710456,20.361767,13.275624,3.1425753,7.298365,3.1568916,6.110832,8.624951,10.862832,20.632019,13.406774,10.4257555,-15.806972,5.6508703,9.786519,2.079314,-14.6259365,4.9850745,-6.6233306,10.738578,-1.3809364,9.929427,-1.0478091,-21.177649,-3.5858455,-6.7087626,-9.58254,4.2690086,-0.41923505,13.469793,18.759628,9.351692,-3.8953588,13.349613,13.739638,-4.1069746,17.76273,10.789675,-0.15187131,7.485697,-2.5305696,-7.275784,9.430531,4.1873326,19.979002,20.805073,-11.030332,13.097359,-3.3264523,21.779629,-1.8509352,16.415222,-2.6277168,-15.981429,7.1718884,19.12991,13.56368,-21.516394,6.1620955,1.1050802,8.030563,-1.7420367,-19.226093,6.7564344,-18.745213,2.671373,3.7145352,-21.009888,13.053978,9.667884,19.533009,2.599885,1.0140823,12.288915,13.5283165,-11.449755,7.884357,12.62699,10.096418,-3.2247834,4.41642,1.2044945,-13.629846,-1.7224979,-17.040798,17.135176,-7.8845677,-8.665237,-0.20411606,18.270618,-7.573279,-10.194396,-4.3878407,8.871162,3.0429554,-13.286448,-12.990981,-18.063038,8.18815,4.8197336,-13.888992,-11.202641,-19.49032,6.4325485,-1.2292001,10.25574,7.9640083,17.066624,4.7945046,5.3435388,13.208372,13.385421,1.561112,9.28604,7.296212,13.132762,11.120606,11.001689,9.263964,10.872463,5.552484,5.5417,13.721479,-7.3331475,18.784424,2.2943134,-16.520565,9.5269985,-17.574736,7.3695636,2.0119755,14.226468,6.438248,-17.072653,6.948574,12.509403,-1.8891615,1.8912957,11.11806,0.28724086,6.8001313,-14.525761,8.3392515,13.192504,12.120665,18.468102,-3.8061473,4.024933,12.059426,-18.485804,-0.3143709,9.221677,7.566472,-1.8835751,4.7134776,4.693241,16.163315,-3.732817,2.6937132,-9.109122,4.586818,13.327237,-10.378887,3.5662754,9.892368,-19.3467,-16.692266,9.072201,12.482633,2.6947427,1.1284555,17.687782,-3.78241,0.47181526,2.3259318,6.4962983,-2.6804047,1.2633213,-3.1328743,-3.646101,-4.3791494,5.7837853,-5.135692,14.189151],\"type\":\"scatter3d\"}],                        {\"template\":{\"data\":{\"histogram2dcontour\":[{\"type\":\"histogram2dcontour\",\"colorbar\":{\"outlinewidth\":0,\"ticks\":\"\"},\"colorscale\":[[0.0,\"#0d0887\"],[0.1111111111111111,\"#46039f\"],[0.2222222222222222,\"#7201a8\"],[0.3333333333333333,\"#9c179e\"],[0.4444444444444444,\"#bd3786\"],[0.5555555555555556,\"#d8576b\"],[0.6666666666666666,\"#ed7953\"],[0.7777777777777778,\"#fb9f3a\"],[0.8888888888888888,\"#fdca26\"],[1.0,\"#f0f921\"]]}],\"choropleth\":[{\"type\":\"choropleth\",\"colorbar\":{\"outlinewidth\":0,\"ticks\":\"\"}}],\"histogram2d\":[{\"type\":\"histogram2d\",\"colorbar\":{\"outlinewidth\":0,\"ticks\":\"\"},\"colorscale\":[[0.0,\"#0d0887\"],[0.1111111111111111,\"#46039f\"],[0.2222222222222222,\"#7201a8\"],[0.3333333333333333,\"#9c179e\"],[0.4444444444444444,\"#bd3786\"],[0.5555555555555556,\"#d8576b\"],[0.6666666666666666,\"#ed7953\"],[0.7777777777777778,\"#fb9f3a\"],[0.8888888888888888,\"#fdca26\"],[1.0,\"#f0f921\"]]}],\"heatmap\":[{\"type\":\"heatmap\",\"colorbar\":{\"outlinewidth\":0,\"ticks\":\"\"},\"colorscale\":[[0.0,\"#0d0887\"],[0.1111111111111111,\"#46039f\"],[0.2222222222222222,\"#7201a8\"],[0.3333333333333333,\"#9c179e\"],[0.4444444444444444,\"#bd3786\"],[0.5555555555555556,\"#d8576b\"],[0.6666666666666666,\"#ed7953\"],[0.7777777777777778,\"#fb9f3a\"],[0.8888888888888888,\"#fdca26\"],[1.0,\"#f0f921\"]]}],\"heatmapgl\":[{\"type\":\"heatmapgl\",\"colorbar\":{\"outlinewidth\":0,\"ticks\":\"\"},\"colorscale\":[[0.0,\"#0d0887\"],[0.1111111111111111,\"#46039f\"],[0.2222222222222222,\"#7201a8\"],[0.3333333333333333,\"#9c179e\"],[0.4444444444444444,\"#bd3786\"],[0.5555555555555556,\"#d8576b\"],[0.6666666666666666,\"#ed7953\"],[0.7777777777777778,\"#fb9f3a\"],[0.8888888888888888,\"#fdca26\"],[1.0,\"#f0f921\"]]}],\"contourcarpet\":[{\"type\":\"contourcarpet\",\"colorbar\":{\"outlinewidth\":0,\"ticks\":\"\"}}],\"contour\":[{\"type\":\"contour\",\"colorbar\":{\"outlinewidth\":0,\"ticks\":\"\"},\"colorscale\":[[0.0,\"#0d0887\"],[0.1111111111111111,\"#46039f\"],[0.2222222222222222,\"#7201a8\"],[0.3333333333333333,\"#9c179e\"],[0.4444444444444444,\"#bd3786\"],[0.5555555555555556,\"#d8576b\"],[0.6666666666666666,\"#ed7953\"],[0.7777777777777778,\"#fb9f3a\"],[0.8888888888888888,\"#fdca26\"],[1.0,\"#f0f921\"]]}],\"surface\":[{\"type\":\"surface\",\"colorbar\":{\"outlinewidth\":0,\"ticks\":\"\"},\"colorscale\":[[0.0,\"#0d0887\"],[0.1111111111111111,\"#46039f\"],[0.2222222222222222,\"#7201a8\"],[0.3333333333333333,\"#9c179e\"],[0.4444444444444444,\"#bd3786\"],[0.5555555555555556,\"#d8576b\"],[0.6666666666666666,\"#ed7953\"],[0.7777777777777778,\"#fb9f3a\"],[0.8888888888888888,\"#fdca26\"],[1.0,\"#f0f921\"]]}],\"mesh3d\":[{\"type\":\"mesh3d\",\"colorbar\":{\"outlinewidth\":0,\"ticks\":\"\"}}],\"scatter\":[{\"fillpattern\":{\"fillmode\":\"overlay\",\"size\":10,\"solidity\":0.2},\"type\":\"scatter\"}],\"parcoords\":[{\"type\":\"parcoords\",\"line\":{\"colorbar\":{\"outlinewidth\":0,\"ticks\":\"\"}}}],\"scatterpolargl\":[{\"type\":\"scatterpolargl\",\"marker\":{\"colorbar\":{\"outlinewidth\":0,\"ticks\":\"\"}}}],\"bar\":[{\"error_x\":{\"color\":\"#2a3f5f\"},\"error_y\":{\"color\":\"#2a3f5f\"},\"marker\":{\"line\":{\"color\":\"#E5ECF6\",\"width\":0.5},\"pattern\":{\"fillmode\":\"overlay\",\"size\":10,\"solidity\":0.2}},\"type\":\"bar\"}],\"scattergeo\":[{\"type\":\"scattergeo\",\"marker\":{\"colorbar\":{\"outlinewidth\":0,\"ticks\":\"\"}}}],\"scatterpolar\":[{\"type\":\"scatterpolar\",\"marker\":{\"colorbar\":{\"outlinewidth\":0,\"ticks\":\"\"}}}],\"histogram\":[{\"marker\":{\"pattern\":{\"fillmode\":\"overlay\",\"size\":10,\"solidity\":0.2}},\"type\":\"histogram\"}],\"scattergl\":[{\"type\":\"scattergl\",\"marker\":{\"colorbar\":{\"outlinewidth\":0,\"ticks\":\"\"}}}],\"scatter3d\":[{\"type\":\"scatter3d\",\"line\":{\"colorbar\":{\"outlinewidth\":0,\"ticks\":\"\"}},\"marker\":{\"colorbar\":{\"outlinewidth\":0,\"ticks\":\"\"}}}],\"scattermapbox\":[{\"type\":\"scattermapbox\",\"marker\":{\"colorbar\":{\"outlinewidth\":0,\"ticks\":\"\"}}}],\"scatterternary\":[{\"type\":\"scatterternary\",\"marker\":{\"colorbar\":{\"outlinewidth\":0,\"ticks\":\"\"}}}],\"scattercarpet\":[{\"type\":\"scattercarpet\",\"marker\":{\"colorbar\":{\"outlinewidth\":0,\"ticks\":\"\"}}}],\"carpet\":[{\"aaxis\":{\"endlinecolor\":\"#2a3f5f\",\"gridcolor\":\"white\",\"linecolor\":\"white\",\"minorgridcolor\":\"white\",\"startlinecolor\":\"#2a3f5f\"},\"baxis\":{\"endlinecolor\":\"#2a3f5f\",\"gridcolor\":\"white\",\"linecolor\":\"white\",\"minorgridcolor\":\"white\",\"startlinecolor\":\"#2a3f5f\"},\"type\":\"carpet\"}],\"table\":[{\"cells\":{\"fill\":{\"color\":\"#EBF0F8\"},\"line\":{\"color\":\"white\"}},\"header\":{\"fill\":{\"color\":\"#C8D4E3\"},\"line\":{\"color\":\"white\"}},\"type\":\"table\"}],\"barpolar\":[{\"marker\":{\"line\":{\"color\":\"#E5ECF6\",\"width\":0.5},\"pattern\":{\"fillmode\":\"overlay\",\"size\":10,\"solidity\":0.2}},\"type\":\"barpolar\"}],\"pie\":[{\"automargin\":true,\"type\":\"pie\"}]},\"layout\":{\"autotypenumbers\":\"strict\",\"colorway\":[\"#636efa\",\"#EF553B\",\"#00cc96\",\"#ab63fa\",\"#FFA15A\",\"#19d3f3\",\"#FF6692\",\"#B6E880\",\"#FF97FF\",\"#FECB52\"],\"font\":{\"color\":\"#2a3f5f\"},\"hovermode\":\"closest\",\"hoverlabel\":{\"align\":\"left\"},\"paper_bgcolor\":\"white\",\"plot_bgcolor\":\"#E5ECF6\",\"polar\":{\"bgcolor\":\"#E5ECF6\",\"angularaxis\":{\"gridcolor\":\"white\",\"linecolor\":\"white\",\"ticks\":\"\"},\"radialaxis\":{\"gridcolor\":\"white\",\"linecolor\":\"white\",\"ticks\":\"\"}},\"ternary\":{\"bgcolor\":\"#E5ECF6\",\"aaxis\":{\"gridcolor\":\"white\",\"linecolor\":\"white\",\"ticks\":\"\"},\"baxis\":{\"gridcolor\":\"white\",\"linecolor\":\"white\",\"ticks\":\"\"},\"caxis\":{\"gridcolor\":\"white\",\"linecolor\":\"white\",\"ticks\":\"\"}},\"coloraxis\":{\"colorbar\":{\"outlinewidth\":0,\"ticks\":\"\"}},\"colorscale\":{\"sequential\":[[0.0,\"#0d0887\"],[0.1111111111111111,\"#46039f\"],[0.2222222222222222,\"#7201a8\"],[0.3333333333333333,\"#9c179e\"],[0.4444444444444444,\"#bd3786\"],[0.5555555555555556,\"#d8576b\"],[0.6666666666666666,\"#ed7953\"],[0.7777777777777778,\"#fb9f3a\"],[0.8888888888888888,\"#fdca26\"],[1.0,\"#f0f921\"]],\"sequentialminus\":[[0.0,\"#0d0887\"],[0.1111111111111111,\"#46039f\"],[0.2222222222222222,\"#7201a8\"],[0.3333333333333333,\"#9c179e\"],[0.4444444444444444,\"#bd3786\"],[0.5555555555555556,\"#d8576b\"],[0.6666666666666666,\"#ed7953\"],[0.7777777777777778,\"#fb9f3a\"],[0.8888888888888888,\"#fdca26\"],[1.0,\"#f0f921\"]],\"diverging\":[[0,\"#8e0152\"],[0.1,\"#c51b7d\"],[0.2,\"#de77ae\"],[0.3,\"#f1b6da\"],[0.4,\"#fde0ef\"],[0.5,\"#f7f7f7\"],[0.6,\"#e6f5d0\"],[0.7,\"#b8e186\"],[0.8,\"#7fbc41\"],[0.9,\"#4d9221\"],[1,\"#276419\"]]},\"xaxis\":{\"gridcolor\":\"white\",\"linecolor\":\"white\",\"ticks\":\"\",\"title\":{\"standoff\":15},\"zerolinecolor\":\"white\",\"automargin\":true,\"zerolinewidth\":2},\"yaxis\":{\"gridcolor\":\"white\",\"linecolor\":\"white\",\"ticks\":\"\",\"title\":{\"standoff\":15},\"zerolinecolor\":\"white\",\"automargin\":true,\"zerolinewidth\":2},\"scene\":{\"xaxis\":{\"backgroundcolor\":\"#E5ECF6\",\"gridcolor\":\"white\",\"linecolor\":\"white\",\"showbackground\":true,\"ticks\":\"\",\"zerolinecolor\":\"white\",\"gridwidth\":2},\"yaxis\":{\"backgroundcolor\":\"#E5ECF6\",\"gridcolor\":\"white\",\"linecolor\":\"white\",\"showbackground\":true,\"ticks\":\"\",\"zerolinecolor\":\"white\",\"gridwidth\":2},\"zaxis\":{\"backgroundcolor\":\"#E5ECF6\",\"gridcolor\":\"white\",\"linecolor\":\"white\",\"showbackground\":true,\"ticks\":\"\",\"zerolinecolor\":\"white\",\"gridwidth\":2}},\"shapedefaults\":{\"line\":{\"color\":\"#2a3f5f\"}},\"annotationdefaults\":{\"arrowcolor\":\"#2a3f5f\",\"arrowhead\":0,\"arrowwidth\":1},\"geo\":{\"bgcolor\":\"white\",\"landcolor\":\"#E5ECF6\",\"subunitcolor\":\"white\",\"showland\":true,\"showlakes\":true,\"lakecolor\":\"white\"},\"title\":{\"x\":0.05},\"mapbox\":{\"style\":\"light\"}}},\"scene\":{\"domain\":{\"x\":[0.0,1.0],\"y\":[0.0,1.0]},\"xaxis\":{\"title\":{\"text\":\"x\"}},\"yaxis\":{\"title\":{\"text\":\"y\"}},\"zaxis\":{\"title\":{\"text\":\"z\"}}},\"legend\":{\"tracegroupgap\":0},\"title\":{\"text\":\"Visualización de Embeddings en 3D: sg=0_window=2\"}},                        {\"responsive\": true}                    ).then(function(){\n",
              "                            \n",
              "var gd = document.getElementById('b2ff6f40-7d60-470e-bd35-da2956714b89');\n",
              "var x = new MutationObserver(function (mutations, observer) {{\n",
              "        var display = window.getComputedStyle(gd).display;\n",
              "        if (!display || display === 'none') {{\n",
              "            console.log([gd, 'removed!']);\n",
              "            Plotly.purge(gd);\n",
              "            observer.disconnect();\n",
              "        }}\n",
              "}});\n",
              "\n",
              "// Listen for the removal of the full notebook cells\n",
              "var notebookContainer = gd.closest('#notebook-container');\n",
              "if (notebookContainer) {{\n",
              "    x.observe(notebookContainer, {childList: true});\n",
              "}}\n",
              "\n",
              "// Listen for the clearing of the current output cell\n",
              "var outputEl = gd.closest('.output');\n",
              "if (outputEl) {{\n",
              "    x.observe(outputEl, {childList: true});\n",
              "}}\n",
              "\n",
              "                        })                };                            </script>        </div>\n",
              "</body>\n",
              "</html>"
            ]
          },
          "metadata": {}
        }
      ]
    },
    {
      "cell_type": "markdown",
      "source": [
        "### Tests de Analogía"
      ],
      "metadata": {
        "id": "707ku31tV7Ze"
      }
    },
    {
      "cell_type": "code",
      "source": [
        "# Función para realizar un Test de Analogía con el primer modelo\n",
        "def analogy_test_first_model(models, positive_words, negative_words=None, topn=1):\n",
        "    \"\"\"\n",
        "    Realiza un Test de Analogía utilizando el primer modelo de Word2Vec.\n",
        "\n",
        "    :param models: Diccionario de modelos entrenados.\n",
        "    :param positive_words: Lista de palabras que suman significado (e.g., [\"rey\", \"mujer\"]).\n",
        "    :param negative_words: Lista de palabras que restan significado (e.g., [\"hombre\"]).\n",
        "    :param topn: Número de resultados a devolver.\n",
        "    \"\"\"\n",
        "    # Seleccionar el primer modelo del diccionario\n",
        "    first_model_key = list(models.keys())[0]\n",
        "    model = models[first_model_key]\n",
        "\n",
        "    try:\n",
        "        # Realizar la consulta de analogía\n",
        "        results = model.wv.most_similar(positive=positive_words, negative=negative_words, topn=topn)\n",
        "        print(f\"Analogía ({positive_words} - {negative_words}):\")\n",
        "        print(f\"Resultados del modelo {first_model_key}:\")\n",
        "        for word, similarity in results:\n",
        "            print(f\"  {word}: {similarity:.4f}\")\n",
        "    except KeyError as e:\n",
        "        print(f\"Error: Una de las palabras no está en el vocabulario - {e}\")\n",
        "\n",
        "# Dios es a amor como hombre es a pecado.\n",
        "analogy_test_first_model(models, positive_words=[\"justicia\", \"amor\"], negative_words=[\"pecado\"], topn=5)\n",
        "\n",
        "# Rey es a sabio como hombre es a justo.\n",
        "analogy_test_first_model(models, positive_words=[\"rey\", \"sabio\"], negative_words=[\"hombre\"], topn=5)\n",
        "# Luz es a tinieblas como verdad es a mentira\n",
        "analogy_test_first_model(models, positive_words=[\"luz\", \"verdad\"], negative_words=[\"tinieblas\"], topn=5)\n",
        "#Padre es a hijo como madre es a hija.\n",
        "analogy_test_first_model(models, positive_words=[\"padre\", \"hijo\"], negative_words=[\"madre\"], topn=5)"
      ],
      "metadata": {
        "colab": {
          "base_uri": "https://localhost:8080/"
        },
        "id": "3i6fp_puV72C",
        "outputId": "dda175d9-a95b-44a0-f1ec-9e9d27ef94c8"
      },
      "execution_count": 20,
      "outputs": [
        {
          "output_type": "stream",
          "name": "stdout",
          "text": [
            "Error: Una de las palabras no está en el vocabulario - \"Key 'pecado' not present in vocabulary\"\n",
            "Error: Una de las palabras no está en el vocabulario - \"Key 'sabio' not present in vocabulary\"\n",
            "Analogía (['luz', 'verdad'] - ['tinieblas']):\n",
            "Resultados del modelo sg=0_window=2:\n",
            "  cuadra: 0.7134\n",
            "  gitana: 0.7041\n",
            "  razón: 0.6980\n",
            "  burra: 0.6732\n",
            "  guerra: 0.6468\n",
            "Analogía (['padre', 'hijo'] - ['madre']):\n",
            "Resultados del modelo sg=0_window=2:\n",
            "  compañero: 0.8749\n",
            "  guía: 0.8100\n",
            "  ro: 0.8081\n",
            "  criado: 0.7917\n",
            "  espíritu: 0.7854\n"
          ]
        }
      ]
    },
    {
      "cell_type": "code",
      "source": [],
      "metadata": {
        "id": "mjZBQWy3WPDG"
      },
      "execution_count": null,
      "outputs": []
    }
  ]
}