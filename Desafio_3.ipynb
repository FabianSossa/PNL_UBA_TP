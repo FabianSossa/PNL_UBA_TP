{
  "nbformat": 4,
  "nbformat_minor": 0,
  "metadata": {
    "colab": {
      "provenance": [],
      "gpuType": "T4",
      "authorship_tag": "ABX9TyPOTR33zKGr1K6eZ2GBCzx9",
      "include_colab_link": true
    },
    "kernelspec": {
      "name": "python3",
      "display_name": "Python 3"
    },
    "language_info": {
      "name": "python"
    },
    "accelerator": "GPU"
  },
  "cells": [
    {
      "cell_type": "markdown",
      "metadata": {
        "id": "view-in-github",
        "colab_type": "text"
      },
      "source": [
        "<a href=\"https://colab.research.google.com/github/FabianSossa/PNL_UBA_TP/blob/main/Desafio_3.ipynb\" target=\"_parent\"><img src=\"https://colab.research.google.com/assets/colab-badge.svg\" alt=\"Open In Colab\"/></a>"
      ]
    },
    {
      "cell_type": "markdown",
      "source": [
        "<img src=\"https://github.com/hernancontigiani/ceia_memorias_especializacion/raw/master/Figures/logoFIUBA.jpg\" width=\"500\" align=\"center\">\n",
        "\n",
        "\n",
        "# Procesamiento de lenguaje natural\n",
        "## Modelo de lenguaje con tokenización por caracteres"
      ],
      "metadata": {
        "id": "r-1KwO-Qa6Wz"
      }
    },
    {
      "cell_type": "markdown",
      "source": [
        "### Consigna\n",
        "- Seleccionar un corpus de texto sobre el cual entrenar el modelo de lenguaje.\n",
        "- Realizar el pre-procesamiento adecuado para tokenizar el corpus, estructurar el dataset y separar entre datos de entrenamiento y validación.\n",
        "- Proponer arquitecturas de redes neuronales basadas en unidades recurrentes para implementar un modelo de lenguaje.\n",
        "- Con el o los modelos que consideren adecuados, generar nuevas secuencias a partir de secuencias de contexto con las estrategias de greedy search y beam search determístico y estocástico. En este último caso observar el efecto de la temperatura en la generación de secuencias.\n",
        "\n",
        "\n",
        "### Sugerencias\n",
        "- Durante el entrenamiento, guiarse por el descenso de la perplejidad en los datos de validación para finalizar el entrenamiento. Para ello se provee un callback.\n",
        "- Explorar utilizar SimpleRNN (celda de Elman), LSTM y GRU.\n",
        "- rmsprop es el optimizador recomendado para la buena convergencia. No obstante se pueden explorar otros.\n"
      ],
      "metadata": {
        "id": "TCOAj68la9jG"
      }
    },
    {
      "cell_type": "code",
      "source": [
        "import random\n",
        "import io\n",
        "import pickle\n",
        "\n",
        "import numpy as np\n",
        "import pandas as pd\n",
        "import matplotlib.pyplot as plt\n",
        "from sklearn.model_selection import train_test_split\n",
        "\n",
        "from tensorflow import keras\n",
        "from tensorflow.keras import layers\n",
        "from keras.utils import to_categorical\n",
        "from keras.models import Sequential\n",
        "from keras.layers import Dense, LSTM, Embedding, Dropout\n",
        "from tensorflow.keras.losses import SparseCategoricalCrossentropy"
      ],
      "metadata": {
        "id": "58GY5E5EbR9_"
      },
      "execution_count": 1,
      "outputs": []
    },
    {
      "cell_type": "markdown",
      "source": [
        "### Datos"
      ],
      "metadata": {
        "id": "z8jbwMHXbt9q"
      }
    },
    {
      "cell_type": "code",
      "execution_count": 2,
      "metadata": {
        "id": "viRBxoFpWu9E"
      },
      "outputs": [],
      "source": [
        "# descargar de textos.info\n",
        "import urllib.request\n",
        "\n",
        "# Para leer y parsear el texto en HTML de wikipedia\n",
        "import bs4 as bs"
      ]
    },
    {
      "cell_type": "code",
      "source": [
        "raw_html = urllib.request.urlopen('https://www.textos.info/julio-verne/la-vuelta-al-mundo-en-80-dias/ebook')\n",
        "raw_html = raw_html.read()\n",
        "\n",
        "# Parsear artículo, 'lxml' es el parser a utilizar\n",
        "article_html = bs.BeautifulSoup(raw_html, 'lxml')\n",
        "\n",
        "# Encontrar todos los párrafos del HTML (bajo el tag <p>)\n",
        "# y tenerlos disponible como lista\n",
        "article_paragraphs = article_html.find_all('p')\n",
        "\n",
        "article_text = ''\n",
        "\n",
        "for para in article_paragraphs:\n",
        "    article_text += para.text + ' '\n",
        "\n",
        "# pasar todo el texto a minúscula\n",
        "article_text = article_text.lower()"
      ],
      "metadata": {
        "id": "ewOrtYmcbwYD"
      },
      "execution_count": 3,
      "outputs": []
    },
    {
      "cell_type": "code",
      "source": [
        "# en article text se encuentra el texto de todo el libro\n",
        "article_text[:1000]"
      ],
      "metadata": {
        "colab": {
          "base_uri": "https://localhost:8080/",
          "height": 162
        },
        "id": "Z88k3XVybycp",
        "outputId": "7e59fe9d-75c4-456a-eb35-1a8d5fdbd560"
      },
      "execution_count": 4,
      "outputs": [
        {
          "output_type": "execute_result",
          "data": {
            "text/plain": [
              "' en el año 1872, la casa número 7 de saville-row, burlington gardens \\r\\n—donde murió sheridan en 1814— estaba habitada por phileas fogg, quien a\\r\\n pesar de que parecía haber tomado el partido de no hacer nada que \\r\\npudiese llamar la atención, era uno de los miembros más notables y \\r\\nsingulares del reformclub de londres. por consiguiente, phileas fogg, personaje enigmático y del cual sólo \\r\\nse sabía que era un hombre muy galante y de los más cumplidos gentlemen \\r\\nde la alta sociedad inglesa, sucedía a uno de los más grandes oradores \\r\\nque honran a inglaterra. decíase que se daba un aire a lo byron —su cabeza, se entiende, \\r\\nporque, en cuanto a los pies, no tenía defecto alguno—, pero a un byron \\r\\nde bigote y pastillas, a un byron impasible, que hubiera vivido mil años\\r\\n sin envejecer. phileas fogg, era inglés de pura cepa; pero quizás no había nacido en\\r\\n londres. jamás se le había visto en la bolsa ni en el banco, ni en \\r\\nninguno de los despachos mercantiles de la city. ni las dársenas '"
            ],
            "application/vnd.google.colaboratory.intrinsic+json": {
              "type": "string"
            }
          },
          "metadata": {},
          "execution_count": 4
        }
      ]
    },
    {
      "cell_type": "markdown",
      "source": [
        "### Elegir el tamaño del contexto\n",
        "\n",
        "En este caso, como el modelo de lenguaje es por caracteres, todo un gran corpus\n",
        "de texto puede ser considerado un documento en sí mismo y el tamaño de contexto\n",
        "puede ser elegido con más libertad en comparación a un modelo de lenguaje tokenizado por palabras y dividido en documentos más acotados."
      ],
      "metadata": {
        "id": "-_WNFF45cjUx"
      }
    },
    {
      "cell_type": "code",
      "source": [
        "# seleccionamos el tamaño de contexto\n",
        "max_context_size = 100"
      ],
      "metadata": {
        "id": "zqaLXgj3b16a"
      },
      "execution_count": 5,
      "outputs": []
    },
    {
      "cell_type": "code",
      "source": [
        "# Usaremos las utilidades de procesamiento de textos y secuencias de Keras\n",
        "from tensorflow.keras.utils import pad_sequences # se utilizará para padding"
      ],
      "metadata": {
        "id": "bsl3g2Bvcl-M"
      },
      "execution_count": 6,
      "outputs": []
    },
    {
      "cell_type": "code",
      "source": [
        "# en este caso el vocabulario es el conjunto único de caracteres que existe en todo el texto\n",
        "chars_vocab = set(article_text)"
      ],
      "metadata": {
        "id": "-qEyDj3Ocnlx"
      },
      "execution_count": 7,
      "outputs": []
    },
    {
      "cell_type": "code",
      "source": [
        "# la longitud de vocabulario de caracteres es:\n",
        "len(chars_vocab)"
      ],
      "metadata": {
        "colab": {
          "base_uri": "https://localhost:8080/"
        },
        "id": "fqFFz8KCcpBG",
        "outputId": "5f100335-ac91-42dd-970d-2dde4a9ff739"
      },
      "execution_count": 8,
      "outputs": [
        {
          "output_type": "execute_result",
          "data": {
            "text/plain": [
              "68"
            ]
          },
          "metadata": {},
          "execution_count": 8
        }
      ]
    },
    {
      "cell_type": "code",
      "source": [
        "# Construimos los dicionarios que asignan índices a caracteres y viceversa.\n",
        "# El diccionario `char2idx` servirá como tokenizador.\n",
        "char2idx = {k: v for v,k in enumerate(chars_vocab)}\n",
        "idx2char = {v: k for k,v in char2idx.items()}"
      ],
      "metadata": {
        "id": "65mWM4wrcqqp"
      },
      "execution_count": 9,
      "outputs": []
    },
    {
      "cell_type": "markdown",
      "source": [
        "###  Tokenizar"
      ],
      "metadata": {
        "id": "fQIj3oKccuWU"
      }
    },
    {
      "cell_type": "code",
      "source": [
        "# tokenizamos el texto completo\n",
        "tokenized_text = [char2idx[ch] for ch in article_text]"
      ],
      "metadata": {
        "id": "UgXvH1wmcsho"
      },
      "execution_count": 10,
      "outputs": []
    },
    {
      "cell_type": "code",
      "source": [
        "tokenized_text[:1000]"
      ],
      "metadata": {
        "colab": {
          "base_uri": "https://localhost:8080/"
        },
        "id": "PgMJEiH3cwiZ",
        "outputId": "44c65695-a6bf-4404-b578-c17919ee5c24"
      },
      "execution_count": 11,
      "outputs": [
        {
          "output_type": "execute_result",
          "data": {
            "text/plain": [
              "[5,\n",
              " 48,\n",
              " 7,\n",
              " 5,\n",
              " 48,\n",
              " 44,\n",
              " 5,\n",
              " 20,\n",
              " 19,\n",
              " 21,\n",
              " 5,\n",
              " 0,\n",
              " 17,\n",
              " 41,\n",
              " 55,\n",
              " 31,\n",
              " 5,\n",
              " 44,\n",
              " 20,\n",
              " 5,\n",
              " 63,\n",
              " 20,\n",
              " 25,\n",
              " 20,\n",
              " 5,\n",
              " 7,\n",
              " 61,\n",
              " 6,\n",
              " 48,\n",
              " 18,\n",
              " 21,\n",
              " 5,\n",
              " 41,\n",
              " 5,\n",
              " 14,\n",
              " 48,\n",
              " 5,\n",
              " 25,\n",
              " 20,\n",
              " 37,\n",
              " 57,\n",
              " 44,\n",
              " 44,\n",
              " 48,\n",
              " 11,\n",
              " 18,\n",
              " 21,\n",
              " 3,\n",
              " 31,\n",
              " 5,\n",
              " 27,\n",
              " 33,\n",
              " 18,\n",
              " 44,\n",
              " 57,\n",
              " 7,\n",
              " 46,\n",
              " 47,\n",
              " 21,\n",
              " 7,\n",
              " 5,\n",
              " 46,\n",
              " 20,\n",
              " 18,\n",
              " 14,\n",
              " 48,\n",
              " 7,\n",
              " 25,\n",
              " 5,\n",
              " 50,\n",
              " 64,\n",
              " 45,\n",
              " 14,\n",
              " 21,\n",
              " 7,\n",
              " 14,\n",
              " 48,\n",
              " 5,\n",
              " 6,\n",
              " 33,\n",
              " 18,\n",
              " 57,\n",
              " 66,\n",
              " 5,\n",
              " 25,\n",
              " 56,\n",
              " 48,\n",
              " 18,\n",
              " 57,\n",
              " 14,\n",
              " 20,\n",
              " 7,\n",
              " 5,\n",
              " 48,\n",
              " 7,\n",
              " 5,\n",
              " 0,\n",
              " 17,\n",
              " 0,\n",
              " 15,\n",
              " 45,\n",
              " 5,\n",
              " 48,\n",
              " 25,\n",
              " 47,\n",
              " 20,\n",
              " 27,\n",
              " 20,\n",
              " 5,\n",
              " 56,\n",
              " 20,\n",
              " 27,\n",
              " 57,\n",
              " 47,\n",
              " 20,\n",
              " 14,\n",
              " 20,\n",
              " 5,\n",
              " 8,\n",
              " 21,\n",
              " 18,\n",
              " 5,\n",
              " 8,\n",
              " 56,\n",
              " 57,\n",
              " 44,\n",
              " 48,\n",
              " 20,\n",
              " 25,\n",
              " 5,\n",
              " 40,\n",
              " 21,\n",
              " 46,\n",
              " 46,\n",
              " 31,\n",
              " 5,\n",
              " 62,\n",
              " 33,\n",
              " 57,\n",
              " 48,\n",
              " 7,\n",
              " 5,\n",
              " 20,\n",
              " 50,\n",
              " 64,\n",
              " 5,\n",
              " 8,\n",
              " 48,\n",
              " 25,\n",
              " 20,\n",
              " 18,\n",
              " 5,\n",
              " 14,\n",
              " 48,\n",
              " 5,\n",
              " 62,\n",
              " 33,\n",
              " 48,\n",
              " 5,\n",
              " 8,\n",
              " 20,\n",
              " 18,\n",
              " 48,\n",
              " 63,\n",
              " 53,\n",
              " 20,\n",
              " 5,\n",
              " 56,\n",
              " 20,\n",
              " 27,\n",
              " 48,\n",
              " 18,\n",
              " 5,\n",
              " 47,\n",
              " 21,\n",
              " 6,\n",
              " 20,\n",
              " 14,\n",
              " 21,\n",
              " 5,\n",
              " 48,\n",
              " 44,\n",
              " 5,\n",
              " 8,\n",
              " 20,\n",
              " 18,\n",
              " 47,\n",
              " 57,\n",
              " 14,\n",
              " 21,\n",
              " 5,\n",
              " 14,\n",
              " 48,\n",
              " 5,\n",
              " 7,\n",
              " 21,\n",
              " 5,\n",
              " 56,\n",
              " 20,\n",
              " 63,\n",
              " 48,\n",
              " 18,\n",
              " 5,\n",
              " 7,\n",
              " 20,\n",
              " 14,\n",
              " 20,\n",
              " 5,\n",
              " 62,\n",
              " 33,\n",
              " 48,\n",
              " 5,\n",
              " 50,\n",
              " 64,\n",
              " 8,\n",
              " 33,\n",
              " 14,\n",
              " 57,\n",
              " 48,\n",
              " 25,\n",
              " 48,\n",
              " 5,\n",
              " 44,\n",
              " 44,\n",
              " 20,\n",
              " 6,\n",
              " 20,\n",
              " 18,\n",
              " 5,\n",
              " 44,\n",
              " 20,\n",
              " 5,\n",
              " 20,\n",
              " 47,\n",
              " 48,\n",
              " 7,\n",
              " 63,\n",
              " 57,\n",
              " 66,\n",
              " 7,\n",
              " 31,\n",
              " 5,\n",
              " 48,\n",
              " 18,\n",
              " 20,\n",
              " 5,\n",
              " 33,\n",
              " 7,\n",
              " 21,\n",
              " 5,\n",
              " 14,\n",
              " 48,\n",
              " 5,\n",
              " 44,\n",
              " 21,\n",
              " 25,\n",
              " 5,\n",
              " 6,\n",
              " 57,\n",
              " 48,\n",
              " 6,\n",
              " 27,\n",
              " 18,\n",
              " 21,\n",
              " 25,\n",
              " 5,\n",
              " 6,\n",
              " 49,\n",
              " 25,\n",
              " 5,\n",
              " 7,\n",
              " 21,\n",
              " 47,\n",
              " 20,\n",
              " 27,\n",
              " 44,\n",
              " 48,\n",
              " 25,\n",
              " 5,\n",
              " 26,\n",
              " 5,\n",
              " 50,\n",
              " 64,\n",
              " 25,\n",
              " 57,\n",
              " 7,\n",
              " 46,\n",
              " 33,\n",
              " 44,\n",
              " 20,\n",
              " 18,\n",
              " 48,\n",
              " 25,\n",
              " 5,\n",
              " 14,\n",
              " 48,\n",
              " 44,\n",
              " 5,\n",
              " 18,\n",
              " 48,\n",
              " 40,\n",
              " 21,\n",
              " 18,\n",
              " 6,\n",
              " 63,\n",
              " 44,\n",
              " 33,\n",
              " 27,\n",
              " 5,\n",
              " 14,\n",
              " 48,\n",
              " 5,\n",
              " 44,\n",
              " 21,\n",
              " 7,\n",
              " 14,\n",
              " 18,\n",
              " 48,\n",
              " 25,\n",
              " 22,\n",
              " 5,\n",
              " 8,\n",
              " 21,\n",
              " 18,\n",
              " 5,\n",
              " 63,\n",
              " 21,\n",
              " 7,\n",
              " 25,\n",
              " 57,\n",
              " 46,\n",
              " 33,\n",
              " 57,\n",
              " 48,\n",
              " 7,\n",
              " 47,\n",
              " 48,\n",
              " 31,\n",
              " 5,\n",
              " 8,\n",
              " 56,\n",
              " 57,\n",
              " 44,\n",
              " 48,\n",
              " 20,\n",
              " 25,\n",
              " 5,\n",
              " 40,\n",
              " 21,\n",
              " 46,\n",
              " 46,\n",
              " 31,\n",
              " 5,\n",
              " 8,\n",
              " 48,\n",
              " 18,\n",
              " 25,\n",
              " 21,\n",
              " 7,\n",
              " 20,\n",
              " 4,\n",
              " 48,\n",
              " 5,\n",
              " 48,\n",
              " 7,\n",
              " 57,\n",
              " 46,\n",
              " 6,\n",
              " 49,\n",
              " 47,\n",
              " 57,\n",
              " 63,\n",
              " 21,\n",
              " 5,\n",
              " 26,\n",
              " 5,\n",
              " 14,\n",
              " 48,\n",
              " 44,\n",
              " 5,\n",
              " 63,\n",
              " 33,\n",
              " 20,\n",
              " 44,\n",
              " 5,\n",
              " 25,\n",
              " 66,\n",
              " 44,\n",
              " 21,\n",
              " 5,\n",
              " 50,\n",
              " 64,\n",
              " 25,\n",
              " 48,\n",
              " 5,\n",
              " 25,\n",
              " 20,\n",
              " 27,\n",
              " 53,\n",
              " 20,\n",
              " 5,\n",
              " 62,\n",
              " 33,\n",
              " 48,\n",
              " 5,\n",
              " 48,\n",
              " 18,\n",
              " 20,\n",
              " 5,\n",
              " 33,\n",
              " 7,\n",
              " 5,\n",
              " 56,\n",
              " 21,\n",
              " 6,\n",
              " 27,\n",
              " 18,\n",
              " 48,\n",
              " 5,\n",
              " 6,\n",
              " 33,\n",
              " 26,\n",
              " 5,\n",
              " 46,\n",
              " 20,\n",
              " 44,\n",
              " 20,\n",
              " 7,\n",
              " 47,\n",
              " 48,\n",
              " 5,\n",
              " 26,\n",
              " 5,\n",
              " 14,\n",
              " 48,\n",
              " 5,\n",
              " 44,\n",
              " 21,\n",
              " 25,\n",
              " 5,\n",
              " 6,\n",
              " 49,\n",
              " 25,\n",
              " 5,\n",
              " 63,\n",
              " 33,\n",
              " 6,\n",
              " 8,\n",
              " 44,\n",
              " 57,\n",
              " 14,\n",
              " 21,\n",
              " 25,\n",
              " 5,\n",
              " 46,\n",
              " 48,\n",
              " 7,\n",
              " 47,\n",
              " 44,\n",
              " 48,\n",
              " 6,\n",
              " 48,\n",
              " 7,\n",
              " 5,\n",
              " 50,\n",
              " 64,\n",
              " 14,\n",
              " 48,\n",
              " 5,\n",
              " 44,\n",
              " 20,\n",
              " 5,\n",
              " 20,\n",
              " 44,\n",
              " 47,\n",
              " 20,\n",
              " 5,\n",
              " 25,\n",
              " 21,\n",
              " 63,\n",
              " 57,\n",
              " 48,\n",
              " 14,\n",
              " 20,\n",
              " 14,\n",
              " 5,\n",
              " 57,\n",
              " 7,\n",
              " 46,\n",
              " 44,\n",
              " 48,\n",
              " 25,\n",
              " 20,\n",
              " 31,\n",
              " 5,\n",
              " 25,\n",
              " 33,\n",
              " 63,\n",
              " 48,\n",
              " 14,\n",
              " 53,\n",
              " 20,\n",
              " 5,\n",
              " 20,\n",
              " 5,\n",
              " 33,\n",
              " 7,\n",
              " 21,\n",
              " 5,\n",
              " 14,\n",
              " 48,\n",
              " 5,\n",
              " 44,\n",
              " 21,\n",
              " 25,\n",
              " 5,\n",
              " 6,\n",
              " 49,\n",
              " 25,\n",
              " 5,\n",
              " 46,\n",
              " 18,\n",
              " 20,\n",
              " 7,\n",
              " 14,\n",
              " 48,\n",
              " 25,\n",
              " 5,\n",
              " 21,\n",
              " 18,\n",
              " 20,\n",
              " 14,\n",
              " 21,\n",
              " 18,\n",
              " 48,\n",
              " 25,\n",
              " 5,\n",
              " 50,\n",
              " 64,\n",
              " 62,\n",
              " 33,\n",
              " 48,\n",
              " 5,\n",
              " 56,\n",
              " 21,\n",
              " 7,\n",
              " 18,\n",
              " 20,\n",
              " 7,\n",
              " 5,\n",
              " 20,\n",
              " 5,\n",
              " 57,\n",
              " 7,\n",
              " 46,\n",
              " 44,\n",
              " 20,\n",
              " 47,\n",
              " 48,\n",
              " 18,\n",
              " 18,\n",
              " 20,\n",
              " 22,\n",
              " 5,\n",
              " 14,\n",
              " 48,\n",
              " 63,\n",
              " 53,\n",
              " 20,\n",
              " 25,\n",
              " 48,\n",
              " 5,\n",
              " 62,\n",
              " 33,\n",
              " 48,\n",
              " 5,\n",
              " 25,\n",
              " 48,\n",
              " 5,\n",
              " 14,\n",
              " 20,\n",
              " 27,\n",
              " 20,\n",
              " 5,\n",
              " 33,\n",
              " 7,\n",
              " 5,\n",
              " 20,\n",
              " 57,\n",
              " 18,\n",
              " 48,\n",
              " 5,\n",
              " 20,\n",
              " 5,\n",
              " 44,\n",
              " 21,\n",
              " 5,\n",
              " 27,\n",
              " 26,\n",
              " 18,\n",
              " 21,\n",
              " 7,\n",
              " 5,\n",
              " 45,\n",
              " 25,\n",
              " 33,\n",
              " 5,\n",
              " 63,\n",
              " 20,\n",
              " 27,\n",
              " 48,\n",
              " 12,\n",
              " 20,\n",
              " 31,\n",
              " 5,\n",
              " 25,\n",
              " 48,\n",
              " 5,\n",
              " 48,\n",
              " 7,\n",
              " 47,\n",
              " 57,\n",
              " 48,\n",
              " 7,\n",
              " 14,\n",
              " 48,\n",
              " 31,\n",
              " 5,\n",
              " 50,\n",
              " 64,\n",
              " 8,\n",
              " 21,\n",
              " 18,\n",
              " 62,\n",
              " 33,\n",
              " 48,\n",
              " 31,\n",
              " 5,\n",
              " 48,\n",
              " 7,\n",
              " 5,\n",
              " 63,\n",
              " 33,\n",
              " 20,\n",
              " 7,\n",
              " 47,\n",
              " 21,\n",
              " 5,\n",
              " 20,\n",
              " 5,\n",
              " 44,\n",
              " 21,\n",
              " 25,\n",
              " 5,\n",
              " 8,\n",
              " 57,\n",
              " 48,\n",
              " 25,\n",
              " 31,\n",
              " 5,\n",
              " 7,\n",
              " 21,\n",
              " 5,\n",
              " 47,\n",
              " 48,\n",
              " 7,\n",
              " 53,\n",
              " 20,\n",
              " 5,\n",
              " 14,\n",
              " 48,\n",
              " 40,\n",
              " 48,\n",
              " 63,\n",
              " 47,\n",
              " 21,\n",
              " 5,\n",
              " 20,\n",
              " 44,\n",
              " 46,\n",
              " 33,\n",
              " 7,\n",
              " 21,\n",
              " 45,\n",
              " 31,\n",
              " 5,\n",
              " 8,\n",
              " 48,\n",
              " 18,\n",
              " 21,\n",
              " 5,\n",
              " 20,\n",
              " 5,\n",
              " 33,\n",
              " 7,\n",
              " 5,\n",
              " 27,\n",
              " 26,\n",
              " 18,\n",
              " 21,\n",
              " 7,\n",
              " 5,\n",
              " 50,\n",
              " 64,\n",
              " 14,\n",
              " 48,\n",
              " 5,\n",
              " 27,\n",
              " 57,\n",
              " 46,\n",
              " 21,\n",
              " 47,\n",
              " 48,\n",
              " 5,\n",
              " 26,\n",
              " 5,\n",
              " 8,\n",
              " 20,\n",
              " 25,\n",
              " 47,\n",
              " 57,\n",
              " 44,\n",
              " 44,\n",
              " 20,\n",
              " 25,\n",
              " 31,\n",
              " 5,\n",
              " 20,\n",
              " 5,\n",
              " 33,\n",
              " 7,\n",
              " 5,\n",
              " 27,\n",
              " 26,\n",
              " 18,\n",
              " 21,\n",
              " 7,\n",
              " 5,\n",
              " 57,\n",
              " 6,\n",
              " 8,\n",
              " 20,\n",
              " 25,\n",
              " 57,\n",
              " 27,\n",
              " 44,\n",
              " 48,\n",
              " 31,\n",
              " 5,\n",
              " 62,\n",
              " 33,\n",
              " 48,\n",
              " 5,\n",
              " 56,\n",
              " 33,\n",
              " 27,\n",
              " 57,\n",
              " 48,\n",
              " 18,\n",
              " 20,\n",
              " 5,\n",
              " 37,\n",
              " 57,\n",
              " 37,\n",
              " 57,\n",
              " 14,\n",
              " 21,\n",
              " 5,\n",
              " 6,\n",
              " 57,\n",
              " 44,\n",
              " 5,\n",
              " 20,\n",
              " 19,\n",
              " 21,\n",
              " 25,\n",
              " 50,\n",
              " 64,\n",
              " 5,\n",
              " 25,\n",
              " 57,\n",
              " 7,\n",
              " 5,\n",
              " 48,\n",
              " 7,\n",
              " 37,\n",
              " 48,\n",
              " 4,\n",
              " 48,\n",
              " 63,\n",
              " 48,\n",
              " 18,\n",
              " 22,\n",
              " 5,\n",
              " 8,\n",
              " 56,\n",
              " 57,\n",
              " 44,\n",
              " 48,\n",
              " 20,\n",
              " 25,\n",
              " 5,\n",
              " 40,\n",
              " 21,\n",
              " 46,\n",
              " 46,\n",
              " 31,\n",
              " 5,\n",
              " 48,\n",
              " 18,\n",
              " 20,\n",
              " 5,\n",
              " 57,\n",
              " 7,\n",
              " 46,\n",
              " 44,\n",
              " 58,\n",
              " 25,\n",
              " 5,\n",
              " 14,\n",
              " 48,\n",
              " 5,\n",
              " 8,\n",
              " 33,\n",
              " 18,\n",
              " 20,\n",
              " 5,\n",
              " 63,\n",
              " 48,\n",
              " 8,\n",
              " 20,\n",
              " 42,\n",
              " 5,\n",
              " 8,\n",
              " 48,\n",
              " 18,\n",
              " 21,\n",
              " 5,\n",
              " 62,\n",
              " 33,\n",
              " 57,\n",
              " 12,\n",
              " 49,\n",
              " 25,\n",
              " 5,\n",
              " 7,\n",
              " 21,\n",
              " 5,\n",
              " 56,\n",
              " 20,\n",
              " 27,\n",
              " 53,\n",
              " 20,\n",
              " 5,\n",
              " 7,\n",
              " 20,\n",
              " 63,\n",
              " 57,\n",
              " 14,\n",
              " 21,\n",
              " 5,\n",
              " 48,\n",
              " 7,\n",
              " 50,\n",
              " 64,\n",
              " 5,\n",
              " 44,\n",
              " 21,\n",
              " 7,\n",
              " 14,\n",
              " 18,\n",
              " 48,\n",
              " 25,\n",
              " 22,\n",
              " 5,\n",
              " 4,\n",
              " 20,\n",
              " 6,\n",
              " 49,\n",
              " 25,\n",
              " 5,\n",
              " 25,\n",
              " 48,\n",
              " 5,\n",
              " 44,\n",
              " 48,\n",
              " 5,\n",
              " 56,\n",
              " 20,\n",
              " 27,\n",
              " 53,\n",
              " 20,\n",
              " 5,\n",
              " 37,\n",
              " 57,\n",
              " 25,\n",
              " 47,\n",
              " 21,\n",
              " 5,\n",
              " 48,\n",
              " 7,\n",
              " 5,\n",
              " 44,\n",
              " 20,\n",
              " 5,\n",
              " 27,\n",
              " 21,\n",
              " 44,\n",
              " 25,\n",
              " 20,\n",
              " 5,\n",
              " 7,\n",
              " 57,\n",
              " 5,\n",
              " 48,\n",
              " 7,\n",
              " 5,\n",
              " 48,\n",
              " 44,\n",
              " 5,\n",
              " 27,\n",
              " 20,\n",
              " 7,\n",
              " 63,\n",
              " 21,\n",
              " 31,\n",
              " 5,\n",
              " 7,\n",
              " 57,\n",
              " 5,\n",
              " 48,\n",
              " 7,\n",
              " 5,\n",
              " 50,\n",
              " 64,\n",
              " 7,\n",
              " 57,\n",
              " 7,\n",
              " 46,\n",
              " 33,\n",
              " 7,\n",
              " 21,\n",
              " 5,\n",
              " 14,\n",
              " 48,\n",
              " 5,\n",
              " 44,\n",
              " 21,\n",
              " 25,\n",
              " 5,\n",
              " 14,\n",
              " 48,\n",
              " 25,\n",
              " 8,\n",
              " 20,\n",
              " 63,\n",
              " 56,\n",
              " 21,\n",
              " 25,\n",
              " 5,\n",
              " 6,\n",
              " 48,\n",
              " 18,\n",
              " 63,\n",
              " 20,\n",
              " 7,\n",
              " 47,\n",
              " 57,\n",
              " 44,\n",
              " 48,\n",
              " 25,\n",
              " 5,\n",
              " 14,\n",
              " 48,\n",
              " 5,\n",
              " 44,\n",
              " 20,\n",
              " 5,\n",
              " 63,\n",
              " 57,\n",
              " 47,\n",
              " 26,\n",
              " 22,\n",
              " 5,\n",
              " 7,\n",
              " 57,\n",
              " 5,\n",
              " 44,\n",
              " 20,\n",
              " 25,\n",
              " 5,\n",
              " 14,\n",
              " 49,\n",
              " 18,\n",
              " 25,\n",
              " 48,\n",
              " 7,\n",
              " 20,\n",
              " 25,\n",
              " 5]"
            ]
          },
          "metadata": {},
          "execution_count": 11
        }
      ]
    },
    {
      "cell_type": "markdown",
      "source": [
        "### Organizando y estructurando el dataset"
      ],
      "metadata": {
        "id": "HrxX3MO9c0th"
      }
    },
    {
      "cell_type": "code",
      "source": [
        "# separaremos el dataset entre entrenamiento y validación.\n",
        "# `p_val` será la proporción del corpus que se reservará para validación\n",
        "# `num_val` es la cantidad de secuencias de tamaño `max_context_size` que se usará en validación\n",
        "p_val = 0.1\n",
        "num_val = int(np.ceil(len(tokenized_text)*p_val/max_context_size))"
      ],
      "metadata": {
        "id": "0imb35PRcxzM"
      },
      "execution_count": 12,
      "outputs": []
    },
    {
      "cell_type": "code",
      "source": [
        "# separamos la porción de texto utilizada en entrenamiento de la de validación.\n",
        "train_text = tokenized_text[:-num_val*max_context_size]\n",
        "val_text = tokenized_text[-num_val*max_context_size:]"
      ],
      "metadata": {
        "id": "5l3nl7bJc2mD"
      },
      "execution_count": 13,
      "outputs": []
    },
    {
      "cell_type": "code",
      "source": [
        "tokenized_sentences_val = [val_text[init*max_context_size:init*(max_context_size+1)] for init in range(num_val)]"
      ],
      "metadata": {
        "id": "8AFg13LZc4Ix"
      },
      "execution_count": 14,
      "outputs": []
    },
    {
      "cell_type": "code",
      "source": [
        "tokenized_sentences_train = [train_text[init:init+max_context_size] for init in range(len(train_text)-max_context_size+1)]"
      ],
      "metadata": {
        "id": "bxIV224Bc6je"
      },
      "execution_count": 15,
      "outputs": []
    },
    {
      "cell_type": "code",
      "source": [
        "X = np.array(tokenized_sentences_train[:-1])\n",
        "y = np.array(tokenized_sentences_train[1:])"
      ],
      "metadata": {
        "id": "-SVV1oLfc8jw"
      },
      "execution_count": 16,
      "outputs": []
    },
    {
      "cell_type": "markdown",
      "source": [
        "Nótese que estamos estructurando el problema de aprendizaje como *many-to-many*:\n",
        "\n",
        "Entrada: secuencia de tokens [$x_0$, $x_1$, ..., $x_N$]\n",
        "\n",
        "Target: secuencia de tokens [$x_1$, $x_2$, ..., $x_{N+1}$]\n",
        "\n",
        "De manera que la red tiene que aprender que su salida deben ser los tokens desplazados en una posición y un nuevo token predicho (el N+1).\n",
        "\n",
        "La ventaja de estructurar el aprendizaje de esta manera es que para cada token de target se propaga una señal de gradiente por el grafo de cómputo recurrente, que es mejor que estructurar el problema como *many-to-one* en donde sólo una señal de gradiente se propaga."
      ],
      "metadata": {
        "id": "NG3WoocTdCRc"
      }
    },
    {
      "cell_type": "markdown",
      "source": [
        "En este punto tenemos en la variable `tokenized_sentences` los versos tokenizados. Vamos a quedarnos con un conjunto de validación que utilizaremos para medir la calidad de la generación de secuencias con la métrica de Perplejidad."
      ],
      "metadata": {
        "id": "pUnFtTJydFCB"
      }
    },
    {
      "cell_type": "code",
      "source": [
        "X.shape"
      ],
      "metadata": {
        "colab": {
          "base_uri": "https://localhost:8080/"
        },
        "id": "lw4OgIAsc_xF",
        "outputId": "b3987d56-355b-4a12-d3d8-d42a775ebdd4"
      },
      "execution_count": 17,
      "outputs": [
        {
          "output_type": "execute_result",
          "data": {
            "text/plain": [
              "(359671, 100)"
            ]
          },
          "metadata": {},
          "execution_count": 17
        }
      ]
    },
    {
      "cell_type": "code",
      "source": [
        "X[0,:10]"
      ],
      "metadata": {
        "colab": {
          "base_uri": "https://localhost:8080/"
        },
        "id": "R0tneTKbdHGi",
        "outputId": "434d578e-4e16-476f-feec-d6051e06dd4e"
      },
      "execution_count": 18,
      "outputs": [
        {
          "output_type": "execute_result",
          "data": {
            "text/plain": [
              "array([ 5, 48,  7,  5, 48, 44,  5, 20, 19, 21])"
            ]
          },
          "metadata": {},
          "execution_count": 18
        }
      ]
    },
    {
      "cell_type": "code",
      "source": [
        "y[0,:10]"
      ],
      "metadata": {
        "colab": {
          "base_uri": "https://localhost:8080/"
        },
        "id": "_WkRv1gDdIjx",
        "outputId": "0387ba38-597f-4714-c136-72274aa59829"
      },
      "execution_count": 19,
      "outputs": [
        {
          "output_type": "execute_result",
          "data": {
            "text/plain": [
              "array([48,  7,  5, 48, 44,  5, 20, 19, 21,  5])"
            ]
          },
          "metadata": {},
          "execution_count": 19
        }
      ]
    },
    {
      "cell_type": "code",
      "source": [
        "vocab_size = len(chars_vocab)"
      ],
      "metadata": {
        "id": "0ZJFYupjdKZG"
      },
      "execution_count": 20,
      "outputs": []
    },
    {
      "cell_type": "markdown",
      "source": [
        "## Definiendo el modelo"
      ],
      "metadata": {
        "id": "X1gXHBm4dOWF"
      }
    },
    {
      "cell_type": "code",
      "source": [
        "from keras.layers import Input, TimeDistributed, CategoryEncoding, SimpleRNN, Dense\n",
        "from keras.models import Model, Sequential"
      ],
      "metadata": {
        "id": "4qsFGLBidMm0"
      },
      "execution_count": 21,
      "outputs": []
    },
    {
      "cell_type": "markdown",
      "source": [
        "El modelo que se propone como ejemplo consume los índices de los tokens y los transforma en vectores OHE (en este caso no entrenamos una capa de embedding para caracteres). Esa transformación se logra combinando las capas `CategoryEncoding` que transforma a índices a vectores OHE y `TimeDistributed` que aplica la capa a lo largo de la dimensión \"temporal\" de la secuencia."
      ],
      "metadata": {
        "id": "EjhJz6s5dTYO"
      }
    },
    {
      "cell_type": "code",
      "source": [
        "model = Sequential()\n",
        "\n",
        "model.add(TimeDistributed(CategoryEncoding(num_tokens=vocab_size, output_mode = \"one_hot\"),input_shape=(None,1)))\n",
        "model.add(SimpleRNN(200, return_sequences=True, dropout=0.1, recurrent_dropout=0.1 ))\n",
        "model.add(Dense(vocab_size, activation='softmax'))\n",
        "model.compile(loss='sparse_categorical_crossentropy', optimizer='rmsprop')\n",
        "\n",
        "model.summary()"
      ],
      "metadata": {
        "colab": {
          "base_uri": "https://localhost:8080/",
          "height": 301
        },
        "id": "jqTKmTwudRD9",
        "outputId": "7d7ba363-f7f6-482c-8b6a-9ef70db4b201"
      },
      "execution_count": 22,
      "outputs": [
        {
          "output_type": "stream",
          "name": "stderr",
          "text": [
            "/usr/local/lib/python3.11/dist-packages/keras/src/layers/core/wrapper.py:27: UserWarning: Do not pass an `input_shape`/`input_dim` argument to a layer. When using Sequential models, prefer using an `Input(shape)` object as the first layer in the model instead.\n",
            "  super().__init__(**kwargs)\n"
          ]
        },
        {
          "output_type": "display_data",
          "data": {
            "text/plain": [
              "\u001b[1mModel: \"sequential\"\u001b[0m\n"
            ],
            "text/html": [
              "<pre style=\"white-space:pre;overflow-x:auto;line-height:normal;font-family:Menlo,'DejaVu Sans Mono',consolas,'Courier New',monospace\"><span style=\"font-weight: bold\">Model: \"sequential\"</span>\n",
              "</pre>\n"
            ]
          },
          "metadata": {}
        },
        {
          "output_type": "display_data",
          "data": {
            "text/plain": [
              "┏━━━━━━━━━━━━━━━━━━━━━━━━━━━━━━━━━┳━━━━━━━━━━━━━━━━━━━━━━━━┳━━━━━━━━━━━━━━━┓\n",
              "┃\u001b[1m \u001b[0m\u001b[1mLayer (type)                   \u001b[0m\u001b[1m \u001b[0m┃\u001b[1m \u001b[0m\u001b[1mOutput Shape          \u001b[0m\u001b[1m \u001b[0m┃\u001b[1m \u001b[0m\u001b[1m      Param #\u001b[0m\u001b[1m \u001b[0m┃\n",
              "┡━━━━━━━━━━━━━━━━━━━━━━━━━━━━━━━━━╇━━━━━━━━━━━━━━━━━━━━━━━━╇━━━━━━━━━━━━━━━┩\n",
              "│ time_distributed                │ (\u001b[38;5;45mNone\u001b[0m, \u001b[38;5;45mNone\u001b[0m, \u001b[38;5;34m68\u001b[0m)       │             \u001b[38;5;34m0\u001b[0m │\n",
              "│ (\u001b[38;5;33mTimeDistributed\u001b[0m)               │                        │               │\n",
              "├─────────────────────────────────┼────────────────────────┼───────────────┤\n",
              "│ simple_rnn (\u001b[38;5;33mSimpleRNN\u001b[0m)          │ (\u001b[38;5;45mNone\u001b[0m, \u001b[38;5;45mNone\u001b[0m, \u001b[38;5;34m200\u001b[0m)      │        \u001b[38;5;34m53,800\u001b[0m │\n",
              "├─────────────────────────────────┼────────────────────────┼───────────────┤\n",
              "│ dense (\u001b[38;5;33mDense\u001b[0m)                   │ (\u001b[38;5;45mNone\u001b[0m, \u001b[38;5;45mNone\u001b[0m, \u001b[38;5;34m68\u001b[0m)       │        \u001b[38;5;34m13,668\u001b[0m │\n",
              "└─────────────────────────────────┴────────────────────────┴───────────────┘\n"
            ],
            "text/html": [
              "<pre style=\"white-space:pre;overflow-x:auto;line-height:normal;font-family:Menlo,'DejaVu Sans Mono',consolas,'Courier New',monospace\">┏━━━━━━━━━━━━━━━━━━━━━━━━━━━━━━━━━┳━━━━━━━━━━━━━━━━━━━━━━━━┳━━━━━━━━━━━━━━━┓\n",
              "┃<span style=\"font-weight: bold\"> Layer (type)                    </span>┃<span style=\"font-weight: bold\"> Output Shape           </span>┃<span style=\"font-weight: bold\">       Param # </span>┃\n",
              "┡━━━━━━━━━━━━━━━━━━━━━━━━━━━━━━━━━╇━━━━━━━━━━━━━━━━━━━━━━━━╇━━━━━━━━━━━━━━━┩\n",
              "│ time_distributed                │ (<span style=\"color: #00d7ff; text-decoration-color: #00d7ff\">None</span>, <span style=\"color: #00d7ff; text-decoration-color: #00d7ff\">None</span>, <span style=\"color: #00af00; text-decoration-color: #00af00\">68</span>)       │             <span style=\"color: #00af00; text-decoration-color: #00af00\">0</span> │\n",
              "│ (<span style=\"color: #0087ff; text-decoration-color: #0087ff\">TimeDistributed</span>)               │                        │               │\n",
              "├─────────────────────────────────┼────────────────────────┼───────────────┤\n",
              "│ simple_rnn (<span style=\"color: #0087ff; text-decoration-color: #0087ff\">SimpleRNN</span>)          │ (<span style=\"color: #00d7ff; text-decoration-color: #00d7ff\">None</span>, <span style=\"color: #00d7ff; text-decoration-color: #00d7ff\">None</span>, <span style=\"color: #00af00; text-decoration-color: #00af00\">200</span>)      │        <span style=\"color: #00af00; text-decoration-color: #00af00\">53,800</span> │\n",
              "├─────────────────────────────────┼────────────────────────┼───────────────┤\n",
              "│ dense (<span style=\"color: #0087ff; text-decoration-color: #0087ff\">Dense</span>)                   │ (<span style=\"color: #00d7ff; text-decoration-color: #00d7ff\">None</span>, <span style=\"color: #00d7ff; text-decoration-color: #00d7ff\">None</span>, <span style=\"color: #00af00; text-decoration-color: #00af00\">68</span>)       │        <span style=\"color: #00af00; text-decoration-color: #00af00\">13,668</span> │\n",
              "└─────────────────────────────────┴────────────────────────┴───────────────┘\n",
              "</pre>\n"
            ]
          },
          "metadata": {}
        },
        {
          "output_type": "display_data",
          "data": {
            "text/plain": [
              "\u001b[1m Total params: \u001b[0m\u001b[38;5;34m67,468\u001b[0m (263.55 KB)\n"
            ],
            "text/html": [
              "<pre style=\"white-space:pre;overflow-x:auto;line-height:normal;font-family:Menlo,'DejaVu Sans Mono',consolas,'Courier New',monospace\"><span style=\"font-weight: bold\"> Total params: </span><span style=\"color: #00af00; text-decoration-color: #00af00\">67,468</span> (263.55 KB)\n",
              "</pre>\n"
            ]
          },
          "metadata": {}
        },
        {
          "output_type": "display_data",
          "data": {
            "text/plain": [
              "\u001b[1m Trainable params: \u001b[0m\u001b[38;5;34m67,468\u001b[0m (263.55 KB)\n"
            ],
            "text/html": [
              "<pre style=\"white-space:pre;overflow-x:auto;line-height:normal;font-family:Menlo,'DejaVu Sans Mono',consolas,'Courier New',monospace\"><span style=\"font-weight: bold\"> Trainable params: </span><span style=\"color: #00af00; text-decoration-color: #00af00\">67,468</span> (263.55 KB)\n",
              "</pre>\n"
            ]
          },
          "metadata": {}
        },
        {
          "output_type": "display_data",
          "data": {
            "text/plain": [
              "\u001b[1m Non-trainable params: \u001b[0m\u001b[38;5;34m0\u001b[0m (0.00 B)\n"
            ],
            "text/html": [
              "<pre style=\"white-space:pre;overflow-x:auto;line-height:normal;font-family:Menlo,'DejaVu Sans Mono',consolas,'Courier New',monospace\"><span style=\"font-weight: bold\"> Non-trainable params: </span><span style=\"color: #00af00; text-decoration-color: #00af00\">0</span> (0.00 B)\n",
              "</pre>\n"
            ]
          },
          "metadata": {}
        }
      ]
    },
    {
      "cell_type": "markdown",
      "source": [
        "\n",
        "### Definir el modelo"
      ],
      "metadata": {
        "id": "0AgDNwb1dYGW"
      }
    },
    {
      "cell_type": "markdown",
      "source": [
        "Dado que por el momento no hay implementaciones adecuadas de la perplejidad que puedan operar en tiempo de entrenamiento, armaremos un Callback *ad-hoc* que la calcule en cada epoch.\n",
        "\n",
        "**Nota**: un Callback es una rutina gatillada por algún evento, son muy útiles para relevar datos en diferentes momentos del desarrollo del modelo. En este caso queremos hacer un cálculo cada vez que termina una epoch de entrenamiento."
      ],
      "metadata": {
        "id": "ZTcnsJ2YdZ_7"
      }
    },
    {
      "cell_type": "code",
      "source": [
        "class PplCallback(keras.callbacks.Callback):\n",
        "\n",
        "    '''\n",
        "    Este callback es una solución ad-hoc para calcular al final de cada epoch de\n",
        "    entrenamiento la métrica de Perplejidad sobre un conjunto de datos de validación.\n",
        "    La perplejidad es una métrica cuantitativa para evaluar la calidad de la generación de secuencias.\n",
        "    Además implementa la finalización del entrenamiento (Early Stopping)\n",
        "    si la perplejidad no mejora después de `patience` epochs.\n",
        "    '''\n",
        "\n",
        "    def __init__(self, val_data, history_ppl,patience=5):\n",
        "      # El callback lo inicializamos con secuencias de validación sobre las cuales\n",
        "      # mediremos la perplejidad\n",
        "      self.val_data = val_data\n",
        "\n",
        "      self.target = []\n",
        "      self.padded = []\n",
        "\n",
        "      count = 0\n",
        "      self.info = []\n",
        "      self.min_score = np.inf\n",
        "      self.patience_counter = 0\n",
        "      self.patience = patience\n",
        "\n",
        "      # nos movemos en todas las secuencias de los datos de validación\n",
        "      for seq in self.val_data:\n",
        "\n",
        "        len_seq = len(seq)\n",
        "        # armamos todas las subsecuencias\n",
        "        subseq = [seq[:i] for i in range(1,len_seq)]\n",
        "        self.target.extend([seq[i] for i in range(1,len_seq)])\n",
        "\n",
        "        if len(subseq)!=0:\n",
        "\n",
        "          self.padded.append(pad_sequences(subseq, maxlen=max_context_size, padding='pre'))\n",
        "\n",
        "          self.info.append((count,count+len_seq))\n",
        "          count += len_seq\n",
        "\n",
        "      self.padded = np.vstack(self.padded)\n",
        "\n",
        "\n",
        "    def on_epoch_end(self, epoch, logs=None):\n",
        "\n",
        "        # en `scores` iremos guardando la perplejidad de cada secuencia\n",
        "        scores = []\n",
        "\n",
        "        predictions = self.model.predict(self.padded,verbose=0)\n",
        "\n",
        "        # para cada secuencia de validación\n",
        "        for start,end in self.info:\n",
        "\n",
        "          # en `probs` iremos guardando las probabilidades de los términos target\n",
        "          probs = [predictions[idx_seq,-1,idx_vocab] for idx_seq, idx_vocab in zip(range(start,end),self.target[start:end])]\n",
        "\n",
        "          # calculamos la perplejidad por medio de logaritmos\n",
        "          scores.append(np.exp(-np.sum(np.log(probs))/(end-start)))\n",
        "\n",
        "        # promediamos todos los scores e imprimimos el valor promedio\n",
        "        current_score = np.mean(scores)\n",
        "        history_ppl.append(current_score)\n",
        "        print(f'\\n mean perplexity: {current_score} \\n')\n",
        "\n",
        "        # chequeamos si tenemos que detener el entrenamiento\n",
        "        if current_score < self.min_score:\n",
        "          self.min_score = current_score\n",
        "          self.model.save(\"my_model_LSTM_GRU.keras\")\n",
        "          print(\"Saved new model!\")\n",
        "          self.patience_counter = 0\n",
        "        else:\n",
        "          self.patience_counter += 1\n",
        "          if self.patience_counter == self.patience:\n",
        "            print(\"Stopping training...\")\n",
        "            self.model.stop_training = True"
      ],
      "metadata": {
        "id": "I0RyxPexdVJb"
      },
      "execution_count": 23,
      "outputs": []
    },
    {
      "cell_type": "markdown",
      "source": [
        "### Entrenamiento"
      ],
      "metadata": {
        "id": "w_slG9RddfZi"
      }
    },
    {
      "cell_type": "code",
      "source": [
        "# fiteamos, nótese el agregado del callback con su inicialización. El batch_size lo podemos seleccionar a mano\n",
        "# en general, lo mejor es escoger el batch más grande posible que minimice el tiempo de cada época.\n",
        "# En la variable `history_ppl` se guardarán los valores de perplejidad para cada época.\n",
        "history_ppl = []\n",
        "hist = model.fit(X, y, epochs=20, callbacks=[PplCallback(tokenized_sentences_val,history_ppl)], batch_size=256)"
      ],
      "metadata": {
        "colab": {
          "base_uri": "https://localhost:8080/"
        },
        "id": "3MKTG6fPddud",
        "outputId": "1f7907a3-9112-4859-f9ef-ccda4f07a046"
      },
      "execution_count": 24,
      "outputs": [
        {
          "output_type": "stream",
          "name": "stdout",
          "text": [
            "Epoch 1/20\n",
            "\u001b[1m1405/1405\u001b[0m \u001b[32m━━━━━━━━━━━━━━━━━━━━\u001b[0m\u001b[37m\u001b[0m \u001b[1m0s\u001b[0m 18ms/step - loss: 2.4432\n",
            " mean perplexity: 6.326935208622535 \n",
            "\n",
            "Saved new model!\n",
            "\u001b[1m1405/1405\u001b[0m \u001b[32m━━━━━━━━━━━━━━━━━━━━\u001b[0m\u001b[37m\u001b[0m \u001b[1m58s\u001b[0m 35ms/step - loss: 2.4431\n",
            "Epoch 2/20\n",
            "\u001b[1m1404/1405\u001b[0m \u001b[32m━━━━━━━━━━━━━━━━━━━\u001b[0m\u001b[37m━\u001b[0m \u001b[1m0s\u001b[0m 16ms/step - loss: 1.9295\n",
            " mean perplexity: 5.515080337548376 \n",
            "\n",
            "Saved new model!\n",
            "\u001b[1m1405/1405\u001b[0m \u001b[32m━━━━━━━━━━━━━━━━━━━━\u001b[0m\u001b[37m\u001b[0m \u001b[1m72s\u001b[0m 30ms/step - loss: 1.9294\n",
            "Epoch 3/20\n",
            "\u001b[1m1405/1405\u001b[0m \u001b[32m━━━━━━━━━━━━━━━━━━━━\u001b[0m\u001b[37m\u001b[0m \u001b[1m0s\u001b[0m 16ms/step - loss: 1.8240\n",
            " mean perplexity: 5.378858212849603 \n",
            "\n",
            "Saved new model!\n",
            "\u001b[1m1405/1405\u001b[0m \u001b[32m━━━━━━━━━━━━━━━━━━━━\u001b[0m\u001b[37m\u001b[0m \u001b[1m43s\u001b[0m 31ms/step - loss: 1.8240\n",
            "Epoch 4/20\n",
            "\u001b[1m1405/1405\u001b[0m \u001b[32m━━━━━━━━━━━━━━━━━━━━\u001b[0m\u001b[37m\u001b[0m \u001b[1m0s\u001b[0m 16ms/step - loss: 1.7774\n",
            " mean perplexity: 5.264752984046936 \n",
            "\n",
            "Saved new model!\n",
            "\u001b[1m1405/1405\u001b[0m \u001b[32m━━━━━━━━━━━━━━━━━━━━\u001b[0m\u001b[37m\u001b[0m \u001b[1m74s\u001b[0m 25ms/step - loss: 1.7774\n",
            "Epoch 5/20\n",
            "\u001b[1m1404/1405\u001b[0m \u001b[32m━━━━━━━━━━━━━━━━━━━\u001b[0m\u001b[37m━\u001b[0m \u001b[1m0s\u001b[0m 16ms/step - loss: 1.7493\n",
            " mean perplexity: 5.301826719063611 \n",
            "\n",
            "\u001b[1m1405/1405\u001b[0m \u001b[32m━━━━━━━━━━━━━━━━━━━━\u001b[0m\u001b[37m\u001b[0m \u001b[1m43s\u001b[0m 30ms/step - loss: 1.7493\n",
            "Epoch 6/20\n",
            "\u001b[1m1404/1405\u001b[0m \u001b[32m━━━━━━━━━━━━━━━━━━━\u001b[0m\u001b[37m━\u001b[0m \u001b[1m0s\u001b[0m 16ms/step - loss: 1.7323\n",
            " mean perplexity: 5.151337260576947 \n",
            "\n",
            "Saved new model!\n",
            "\u001b[1m1405/1405\u001b[0m \u001b[32m━━━━━━━━━━━━━━━━━━━━\u001b[0m\u001b[37m\u001b[0m \u001b[1m82s\u001b[0m 30ms/step - loss: 1.7323\n",
            "Epoch 7/20\n",
            "\u001b[1m1404/1405\u001b[0m \u001b[32m━━━━━━━━━━━━━━━━━━━\u001b[0m\u001b[37m━\u001b[0m \u001b[1m0s\u001b[0m 16ms/step - loss: 1.7189\n",
            " mean perplexity: 4.95799591493367 \n",
            "\n",
            "Saved new model!\n",
            "\u001b[1m1405/1405\u001b[0m \u001b[32m━━━━━━━━━━━━━━━━━━━━\u001b[0m\u001b[37m\u001b[0m \u001b[1m74s\u001b[0m 25ms/step - loss: 1.7188\n",
            "Epoch 8/20\n",
            "\u001b[1m1402/1405\u001b[0m \u001b[32m━━━━━━━━━━━━━━━━━━━\u001b[0m\u001b[37m━\u001b[0m \u001b[1m0s\u001b[0m 16ms/step - loss: 1.7087\n",
            " mean perplexity: 4.872822505744858 \n",
            "\n",
            "Saved new model!\n",
            "\u001b[1m1405/1405\u001b[0m \u001b[32m━━━━━━━━━━━━━━━━━━━━\u001b[0m\u001b[37m\u001b[0m \u001b[1m42s\u001b[0m 25ms/step - loss: 1.7087\n",
            "Epoch 9/20\n",
            "\u001b[1m1405/1405\u001b[0m \u001b[32m━━━━━━━━━━━━━━━━━━━━\u001b[0m\u001b[37m\u001b[0m \u001b[1m0s\u001b[0m 16ms/step - loss: 1.6998\n",
            " mean perplexity: 4.829041747591603 \n",
            "\n",
            "Saved new model!\n",
            "\u001b[1m1405/1405\u001b[0m \u001b[32m━━━━━━━━━━━━━━━━━━━━\u001b[0m\u001b[37m\u001b[0m \u001b[1m35s\u001b[0m 25ms/step - loss: 1.6997\n",
            "Epoch 10/20\n",
            "\u001b[1m1405/1405\u001b[0m \u001b[32m━━━━━━━━━━━━━━━━━━━━\u001b[0m\u001b[37m\u001b[0m \u001b[1m0s\u001b[0m 16ms/step - loss: 1.6937\n",
            " mean perplexity: 4.798246403435367 \n",
            "\n",
            "Saved new model!\n",
            "\u001b[1m1405/1405\u001b[0m \u001b[32m━━━━━━━━━━━━━━━━━━━━\u001b[0m\u001b[37m\u001b[0m \u001b[1m41s\u001b[0m 25ms/step - loss: 1.6937\n",
            "Epoch 11/20\n",
            "\u001b[1m1404/1405\u001b[0m \u001b[32m━━━━━━━━━━━━━━━━━━━\u001b[0m\u001b[37m━\u001b[0m \u001b[1m0s\u001b[0m 16ms/step - loss: 1.6877\n",
            " mean perplexity: 4.728608267990189 \n",
            "\n",
            "Saved new model!\n",
            "\u001b[1m1405/1405\u001b[0m \u001b[32m━━━━━━━━━━━━━━━━━━━━\u001b[0m\u001b[37m\u001b[0m \u001b[1m43s\u001b[0m 30ms/step - loss: 1.6877\n",
            "Epoch 12/20\n",
            "\u001b[1m1405/1405\u001b[0m \u001b[32m━━━━━━━━━━━━━━━━━━━━\u001b[0m\u001b[37m\u001b[0m \u001b[1m0s\u001b[0m 16ms/step - loss: 1.6815\n",
            " mean perplexity: 4.70125131511209 \n",
            "\n",
            "Saved new model!\n",
            "\u001b[1m1405/1405\u001b[0m \u001b[32m━━━━━━━━━━━━━━━━━━━━\u001b[0m\u001b[37m\u001b[0m \u001b[1m74s\u001b[0m 25ms/step - loss: 1.6815\n",
            "Epoch 13/20\n",
            "\u001b[1m1404/1405\u001b[0m \u001b[32m━━━━━━━━━━━━━━━━━━━\u001b[0m\u001b[37m━\u001b[0m \u001b[1m0s\u001b[0m 16ms/step - loss: 1.6776\n",
            " mean perplexity: 4.7096723923132044 \n",
            "\n",
            "\u001b[1m1405/1405\u001b[0m \u001b[32m━━━━━━━━━━━━━━━━━━━━\u001b[0m\u001b[37m\u001b[0m \u001b[1m49s\u001b[0m 31ms/step - loss: 1.6776\n",
            "Epoch 14/20\n",
            "\u001b[1m1402/1405\u001b[0m \u001b[32m━━━━━━━━━━━━━━━━━━━\u001b[0m\u001b[37m━\u001b[0m \u001b[1m0s\u001b[0m 16ms/step - loss: 1.6747\n",
            " mean perplexity: 4.685364935865354 \n",
            "\n",
            "Saved new model!\n",
            "\u001b[1m1405/1405\u001b[0m \u001b[32m━━━━━━━━━━━━━━━━━━━━\u001b[0m\u001b[37m\u001b[0m \u001b[1m82s\u001b[0m 31ms/step - loss: 1.6747\n",
            "Epoch 15/20\n",
            "\u001b[1m1405/1405\u001b[0m \u001b[32m━━━━━━━━━━━━━━━━━━━━\u001b[0m\u001b[37m\u001b[0m \u001b[1m0s\u001b[0m 16ms/step - loss: 1.6708\n",
            " mean perplexity: 4.678664772354778 \n",
            "\n",
            "Saved new model!\n",
            "\u001b[1m1405/1405\u001b[0m \u001b[32m━━━━━━━━━━━━━━━━━━━━\u001b[0m\u001b[37m\u001b[0m \u001b[1m74s\u001b[0m 25ms/step - loss: 1.6708\n",
            "Epoch 16/20\n",
            "\u001b[1m1404/1405\u001b[0m \u001b[32m━━━━━━━━━━━━━━━━━━━\u001b[0m\u001b[37m━\u001b[0m \u001b[1m0s\u001b[0m 16ms/step - loss: 1.6678\n",
            " mean perplexity: 4.6560858530015805 \n",
            "\n",
            "Saved new model!\n",
            "\u001b[1m1405/1405\u001b[0m \u001b[32m━━━━━━━━━━━━━━━━━━━━\u001b[0m\u001b[37m\u001b[0m \u001b[1m43s\u001b[0m 31ms/step - loss: 1.6678\n",
            "Epoch 17/20\n",
            "\u001b[1m1403/1405\u001b[0m \u001b[32m━━━━━━━━━━━━━━━━━━━\u001b[0m\u001b[37m━\u001b[0m \u001b[1m0s\u001b[0m 16ms/step - loss: 1.6661\n",
            " mean perplexity: 4.672556681848651 \n",
            "\n",
            "\u001b[1m1405/1405\u001b[0m \u001b[32m━━━━━━━━━━━━━━━━━━━━\u001b[0m\u001b[37m\u001b[0m \u001b[1m74s\u001b[0m 25ms/step - loss: 1.6661\n",
            "Epoch 18/20\n",
            "\u001b[1m1405/1405\u001b[0m \u001b[32m━━━━━━━━━━━━━━━━━━━━\u001b[0m\u001b[37m\u001b[0m \u001b[1m0s\u001b[0m 16ms/step - loss: 1.6628\n",
            " mean perplexity: 4.6349939736888635 \n",
            "\n",
            "Saved new model!\n",
            "\u001b[1m1405/1405\u001b[0m \u001b[32m━━━━━━━━━━━━━━━━━━━━\u001b[0m\u001b[37m\u001b[0m \u001b[1m49s\u001b[0m 31ms/step - loss: 1.6628\n",
            "Epoch 19/20\n",
            "\u001b[1m1403/1405\u001b[0m \u001b[32m━━━━━━━━━━━━━━━━━━━\u001b[0m\u001b[37m━\u001b[0m \u001b[1m0s\u001b[0m 16ms/step - loss: 1.6603\n",
            " mean perplexity: 4.644456804098196 \n",
            "\n",
            "\u001b[1m1405/1405\u001b[0m \u001b[32m━━━━━━━━━━━━━━━━━━━━\u001b[0m\u001b[37m\u001b[0m \u001b[1m81s\u001b[0m 30ms/step - loss: 1.6603\n",
            "Epoch 20/20\n",
            "\u001b[1m1405/1405\u001b[0m \u001b[32m━━━━━━━━━━━━━━━━━━━━\u001b[0m\u001b[37m\u001b[0m \u001b[1m0s\u001b[0m 16ms/step - loss: 1.6585\n",
            " mean perplexity: 4.6236640628258785 \n",
            "\n",
            "Saved new model!\n",
            "\u001b[1m1405/1405\u001b[0m \u001b[32m━━━━━━━━━━━━━━━━━━━━\u001b[0m\u001b[37m\u001b[0m \u001b[1m82s\u001b[0m 30ms/step - loss: 1.6585\n"
          ]
        }
      ]
    },
    {
      "cell_type": "code",
      "source": [
        "import matplotlib.pyplot as plt\n",
        "import seaborn as sns\n",
        "\n",
        "# Entrenamiento\n",
        "epoch_count = range(1, len(history_ppl) + 1)\n",
        "sns.lineplot(x=epoch_count,  y=history_ppl)\n",
        "plt.show()"
      ],
      "metadata": {
        "colab": {
          "base_uri": "https://localhost:8080/",
          "height": 430
        },
        "id": "EV_zBQpXdhzB",
        "outputId": "5a6ca510-ec74-4bd3-e8be-5b604df761ec"
      },
      "execution_count": 25,
      "outputs": [
        {
          "output_type": "display_data",
          "data": {
            "text/plain": [
              "<Figure size 640x480 with 1 Axes>"
            ],
            "image/png": "[encoded data removed]"
          },
          "metadata": {}
        }
      ]
    },
    {
      "cell_type": "code",
      "source": [
        "# Cargamos el mejor modelo guardado del entrenamiento para hacer inferencia\n",
        "model = keras.models.load_model('my_model_LSTM_GRU.keras')"
      ],
      "metadata": {
        "id": "plWQhEFciunS"
      },
      "execution_count": 27,
      "outputs": []
    },
    {
      "cell_type": "markdown",
      "source": [
        "### Predicción del próximo caracter"
      ],
      "metadata": {
        "id": "WMFTt2QWjDfQ"
      }
    },
    {
      "cell_type": "code",
      "source": [
        "# Se puede usar gradio para probar el modelo\n",
        "# Gradio es una herramienta muy útil para crear interfaces para ensayar modelos\n",
        "# https://gradio.app/\n",
        "\n",
        "!pip install -q gradio"
      ],
      "metadata": {
        "id": "zUVKDbibizqI"
      },
      "execution_count": 28,
      "outputs": []
    },
    {
      "cell_type": "code",
      "source": [
        "import gradio as gr\n",
        "\n",
        "def model_response(human_text):\n",
        "\n",
        "    # Encodeamos\n",
        "    encoded = [char2idx[ch] for ch in human_text.lower() ]\n",
        "    # Si tienen distinto largo\n",
        "    encoded = pad_sequences([encoded], maxlen=max_context_size, padding='pre')\n",
        "\n",
        "    # Predicción softmax\n",
        "    y_hat = np.argmax(model.predict(encoded)[0,-1,:])\n",
        "\n",
        "\n",
        "    # Debemos buscar en el vocabulario el caracter\n",
        "    # que corresopnde al indice (y_hat) predicho por le modelo\n",
        "    out_word = ''\n",
        "    out_word = idx2char[y_hat]\n",
        "\n",
        "    # Agrego la palabra a la frase predicha\n",
        "    return human_text + out_word\n",
        "\n",
        "iface = gr.Interface(\n",
        "    fn=model_response,\n",
        "    inputs=[\"textbox\"],\n",
        "    outputs=\"text\")\n",
        "\n",
        "iface.launch(debug=True)"
      ],
      "metadata": {
        "colab": {
          "base_uri": "https://localhost:8080/",
          "height": 722
        },
        "id": "pWCfxxDXjFod",
        "outputId": "5722f445-57b8-4e40-85cf-852daa525a4b"
      },
      "execution_count": 29,
      "outputs": [
        {
          "output_type": "stream",
          "name": "stdout",
          "text": [
            "It looks like you are running Gradio on a hosted a Jupyter notebook. For the Gradio app to work, sharing must be enabled. Automatically setting `share=True` (you can turn this off by setting `share=False` in `launch()` explicitly).\n",
            "\n",
            "Colab notebook detected. This cell will run indefinitely so that you can see errors and logs. To turn off, set debug=False in launch().\n",
            "* Running on public URL: https://99a7ed8e0e211475d8.gradio.live\n",
            "\n",
            "This share link expires in 1 week. For free permanent hosting and GPU upgrades, run `gradio deploy` from the terminal in the working directory to deploy to Hugging Face Spaces (https://huggingface.co/spaces)\n"
          ]
        },
        {
          "output_type": "display_data",
          "data": {
            "text/plain": [
              "<IPython.core.display.HTML object>"
            ],
            "text/html": [
              "<div><iframe src=\"https://99a7ed8e0e211475d8.gradio.live\" width=\"100%\" height=\"500\" allow=\"autoplay; camera; microphone; clipboard-read; clipboard-write;\" frameborder=\"0\" allowfullscreen></iframe></div>"
            ]
          },
          "metadata": {}
        },
        {
          "output_type": "stream",
          "name": "stdout",
          "text": [
            "\u001b[1m1/1\u001b[0m \u001b[32m━━━━━━━━━━━━━━━━━━━━\u001b[0m\u001b[37m\u001b[0m \u001b[1m3s\u001b[0m 3s/step\n",
            "\u001b[1m1/1\u001b[0m \u001b[32m━━━━━━━━━━━━━━━━━━━━\u001b[0m\u001b[37m\u001b[0m \u001b[1m0s\u001b[0m 41ms/step\n",
            "Keyboard interruption in main thread... closing server.\n",
            "Killing tunnel 127.0.0.1:7860 <> https://99a7ed8e0e211475d8.gradio.live\n"
          ]
        },
        {
          "output_type": "execute_result",
          "data": {
            "text/plain": []
          },
          "metadata": {},
          "execution_count": 29
        }
      ]
    },
    {
      "cell_type": "code",
      "source": [],
      "metadata": {
        "id": "Do6_ABGejKMa"
      },
      "execution_count": null,
      "outputs": []
    }
  ]
}